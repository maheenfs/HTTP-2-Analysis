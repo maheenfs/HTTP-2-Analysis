{
 "cells": [
  {
   "cell_type": "markdown",
   "id": "d8751b8f",
   "metadata": {},
   "source": [
    "# Setup and Imports"
   ]
  },
  {
   "cell_type": "code",
   "execution_count": 1,
   "id": "8caf852d",
   "metadata": {},
   "outputs": [],
   "source": [
    "import httpx\n",
    "import ssl\n",
    "import asyncio\n",
    "from h2.config import H2Configuration\n",
    "from h2.connection import H2Connection\n",
    "from h2.events import SettingsAcknowledged, ResponseReceived, DataReceived, StreamEnded, WindowUpdated, ConnectionTerminated\n",
    "from h2.events import PingReceived\n",
    "from h2.exceptions import ProtocolError\n",
    "from h2.settings import SettingCodes\n",
    "import time\n",
    "import numpy as np\n",
    "import pandas as pd\n",
    "import matplotlib.pyplot as plt\n",
    "# Base URL for testing\n",
    "base_url = 'https://nghttp2.org'\n"
   ]
  },
  {
   "cell_type": "markdown",
   "id": "bc38ec9c",
   "metadata": {},
   "source": [
    "# Basic HTTP/2 Request"
   ]
  },
  {
   "cell_type": "code",
   "execution_count": 2,
   "id": "7905c153",
   "metadata": {},
   "outputs": [
    {
     "name": "stdout",
     "output_type": "stream",
     "text": [
      "Status Code: 200\n",
      "Response body: \n",
      "<!DOCTYPE html>\n",
      "<!--[if IEMobile 7 ]><html class=\"no-js iem7\"><![endif]-->\n",
      "<!--[if lt IE 9]><html class=\"no-js lte-ie8\"><![endif]-->\n",
      "<!--[if (gt IE 8)|(gt IEMobile 7)|!(IEMobile)|!(IE)]><!--><html class=\"no-js\" lang=\"en\"><!--<![endif]-->\n",
      "<head>\n",
      "  <meta charset=\"utf-8\">\n",
      "  <title>Nghttp2: HTTP/2 C Library - nghttp2.org</title>\n",
      "  <meta name=\"author\" content=\"Tatsuhiro Tsujikawa\">\n",
      "\n",
      "  \n",
      "  <meta name=\"description\" content=\"Nghttp2: HTTP/2 C Library Feb 16th, 2015 11:16 pm nghttp2 is an implementation \n"
     ]
    }
   ],
   "source": [
    "async def basic_http2_request():\n",
    "    async with httpx.AsyncClient(http2=True) as client:\n",
    "        response = await client.get(base_url)\n",
    "        print(\"Status Code:\", response.status_code)\n",
    "        print(\"Response body:\", response.text[:500])  \n",
    "await basic_http2_request()\n"
   ]
  },
  {
   "cell_type": "markdown",
   "id": "dd54811f",
   "metadata": {},
   "source": [
    "# Data Streaming"
   ]
  },
  {
   "cell_type": "code",
   "execution_count": 3,
   "id": "cddd73e7",
   "metadata": {},
   "outputs": [
    {
     "name": "stdout",
     "output_type": "stream",
     "text": [
      "{\"url\": \"https://nghttp2.org/httpbin/stream/20\", \"args\": {}, \"headers\": {\"Host\": \"nghttp2.org\", \"Accept\": \"*/*\", \"Accept-Encoding\": \"gzip, deflate, br\", \"User-Agent\": \"python-httpx/0.25.2\"}, \"origin\": \"2601:282:a03:41c0:80b0:6c78:e8d3:e464\", \"id\": 0}\n",
      "{\"url\": \"https://nghttp2.org/httpbin/stream/20\", \"args\": {}, \"headers\": {\"Host\": \"nghttp2.org\", \"Accept\": \"*/*\", \"Accept-Encoding\": \"gzip, deflate, br\", \"User-Agent\": \"python-httpx/0.25.2\"}, \"origin\": \"2601:282:a03:41c0:80b0:6c78:e8d3:e464\", \"id\": 1}\n",
      "{\"url\": \"https://nghttp2.org/httpbin/stream/20\", \"args\": {}, \"headers\": {\"Host\": \"nghttp2.org\", \"Accept\": \"*/*\", \"Accept-Encoding\": \"gzip, deflate, br\", \"User-Agent\": \"python-httpx/0.25.2\"}, \"origin\": \"2601:282:a03:41c0:80b0:6c78:e8d3:e464\", \"id\": 2}\n",
      "{\"url\": \"https://nghttp2.org/httpbin/stream/20\", \"args\": {}, \"headers\": {\"Host\": \"nghttp2.org\", \"Accept\": \"*/*\", \"Accept-Encoding\": \"gzip, deflate, br\", \"User-Agent\": \"python-httpx/0.25.2\"}, \"origin\": \"2601:282:a03:41c0:80b0:6c78:e8d3:e464\", \"id\": 3}\n",
      "{\"url\": \"https://nghttp2.org/httpbin/stream/20\", \"args\": {}, \"headers\": {\"Host\": \"nghttp2.org\", \"Accept\": \"*/*\", \"Accept-Encoding\": \"gzip, deflate, br\", \"User-Agent\": \"python-httpx/0.25.2\"}, \"origin\": \"2601:282:a03:41c0:80b0:6c78:e8d3:e464\", \"id\": 4}\n",
      "{\"url\": \"https://nghttp2.org/httpbin/stream/20\", \"args\": {}, \"headers\": {\"Host\": \"nghttp2.org\", \"Accept\": \"*/*\", \"Accept-Encoding\": \"gzip, deflate, br\", \"User-Agent\": \"python-httpx/0.25.2\"}, \"origin\": \"2601:282:a03:41c0:80b0:6c78:e8d3:e464\", \"id\": 5}\n",
      "{\"url\": \"https://nghttp2.org/httpbin/stream/20\", \"args\": {}, \"headers\": {\"Host\": \"nghttp2.org\", \"Accept\": \"*/*\", \"Accept-Encoding\": \"gzip, deflate, br\", \"User-Agent\": \"python-httpx/0.25.2\"}, \"origin\": \"2601:282:a03:41c0:80b0:6c78:e8d3:e464\", \"id\": 6}\n",
      "{\"url\": \"https://nghttp2.org/httpbin/stream/20\", \"args\": {}, \"headers\": {\"Host\": \"nghttp2.org\", \"Accept\": \"*/*\", \"Accept-Encoding\": \"gzip, deflate, br\", \"User-Agent\": \"python-httpx/0.25.2\"}, \"origin\": \"2601:282:a03:41c0:80b0:6c78:e8d3:e464\", \"id\": 7}\n",
      "{\"url\": \"https://nghttp2.org/httpbin/stream/20\", \"args\": {}, \"headers\": {\"Host\": \"nghttp2.org\", \"Accept\": \"*/*\", \"Accept-Encoding\": \"gzip, deflate, br\", \"User-Agent\": \"python-httpx/0.25.2\"}, \"origin\": \"2601:282:a03:41c0:80b0:6c78:e8d3:e464\", \"id\": 8}\n",
      "{\"url\": \"https://nghttp2.org/httpbin/stream/20\", \"args\": {}, \"headers\": {\"Host\": \"nghttp2.org\", \"Accept\": \"*/*\", \"Accept-Encoding\": \"gzip, deflate, br\", \"User-Agent\": \"python-httpx/0.25.2\"}, \"origin\": \"2601:282:a03:41c0:80b0:6c78:e8d3:e464\", \"id\": 9}\n",
      "{\"url\": \"https://nghttp2.org/httpbin/stream/20\", \"args\": {}, \"headers\": {\"Host\": \"nghttp2.org\", \"Accept\": \"*/*\", \"Accept-Encoding\": \"gzip, deflate, br\", \"User-Agent\": \"python-httpx/0.25.2\"}, \"origin\": \"2601:282:a03:41c0:80b0:6c78:e8d3:e464\", \"id\": 10}\n",
      "{\"url\": \"https://nghttp2.org/httpbin/stream/20\", \"args\": {}, \"headers\": {\"Host\": \"nghttp2.org\", \"Accept\": \"*/*\", \"Accept-Encoding\": \"gzip, deflate, br\", \"User-Agent\": \"python-httpx/0.25.2\"}, \"origin\": \"2601:282:a03:41c0:80b0:6c78:e8d3:e464\", \"id\": 11}\n",
      "{\"url\": \"https://nghttp2.org/httpbin/stream/20\", \"args\": {}, \"headers\": {\"Host\": \"nghttp2.org\", \"Accept\": \"*/*\", \"Accept-Encoding\": \"gzip, deflate, br\", \"User-Agent\": \"python-httpx/0.25.2\"}, \"origin\": \"2601:282:a03:41c0:80b0:6c78:e8d3:e464\", \"id\": 12}\n",
      "{\"url\": \"https://nghttp2.org/httpbin/stream/20\", \"args\": {}, \"headers\": {\"Host\": \"nghttp2.org\", \"Accept\": \"*/*\", \"Accept-Encoding\": \"gzip, deflate, br\", \"User-Agent\": \"python-httpx/0.25.2\"}, \"origin\": \"2601:282:a03:41c0:80b0:6c78:e8d3:e464\", \"id\": 13}\n",
      "{\"url\": \"https://nghttp2.org/httpbin/stream/20\", \"args\": {}, \"headers\": {\"Host\": \"nghttp2.org\", \"Accept\": \"*/*\", \"Accept-Encoding\": \"gzip, deflate, br\", \"User-Agent\": \"python-httpx/0.25.2\"}, \"origin\": \"2601:282:a03:41c0:80b0:6c78:e8d3:e464\", \"id\": 14}\n",
      "{\"url\": \"https://nghttp2.org/httpbin/stream/20\", \"args\": {}, \"headers\": {\"Host\": \"nghttp2.org\", \"Accept\": \"*/*\", \"Accept-Encoding\": \"gzip, deflate, br\", \"User-Agent\": \"python-httpx/0.25.2\"}, \"origin\": \"2601:282:a03:41c0:80b0:6c78:e8d3:e464\", \"id\": 15}\n",
      "{\"url\": \"https://nghttp2.org/httpbin/stream/20\", \"args\": {}, \"headers\": {\"Host\": \"nghttp2.org\", \"Accept\": \"*/*\", \"Accept-Encoding\": \"gzip, deflate, br\", \"User-Agent\": \"python-httpx/0.25.2\"}, \"origin\": \"2601:282:a03:41c0:80b0:6c78:e8d3:e464\", \"id\": 16}\n",
      "{\"url\": \"https://nghttp2.org/httpbin/stream/20\", \"args\": {}, \"headers\": {\"Host\": \"nghttp2.org\", \"Accept\": \"*/*\", \"Accept-Encoding\": \"gzip, deflate, br\", \"User-Agent\": \"python-httpx/0.25.2\"}, \"origin\": \"2601:282:a03:41c0:80b0:6c78:e8d3:e464\", \"id\": 17}\n",
      "{\"url\": \"https://nghttp2.org/httpbin/stream/20\", \"args\": {}, \"headers\": {\"Host\": \"nghttp2.org\", \"Accept\": \"*/*\", \"Accept-Encoding\": \"gzip, deflate, br\", \"User-Agent\": \"python-httpx/0.25.2\"}, \"origin\": \"2601:282:a03:41c0:80b0:6c78:e8d3:e464\", \"id\": 18}\n",
      "{\"url\": \"https://nghttp2.org/httpbin/stream/20\", \"args\": {}, \"headers\": {\"Host\": \"nghttp2.org\", \"Accept\": \"*/*\", \"Accept-Encoding\": \"gzip, deflate, br\", \"User-Agent\": \"python-httpx/0.25.2\"}, \"origin\": \"2601:282:a03:41c0:80b0:6c78:e8d3:e464\", \"id\": 19}\n"
     ]
    }
   ],
   "source": [
    "async def data_streaming():\n",
    "    url = 'https://nghttp2.org/httpbin/stream/20'  # Streaming endpoint\n",
    "    async with httpx.AsyncClient(http2=True) as client:\n",
    "        async with client.stream(\"GET\", url) as response:\n",
    "            async for line in response.aiter_lines():\n",
    "                print(line)\n",
    "\n",
    "# Run the async function\n",
    "await data_streaming()"
   ]
  },
  {
   "cell_type": "markdown",
   "id": "b3f1aca4",
   "metadata": {},
   "source": [
    "# Header Compression"
   ]
  },
  {
   "cell_type": "code",
   "execution_count": 4,
   "id": "3a2c235f",
   "metadata": {},
   "outputs": [
    {
     "name": "stdout",
     "output_type": "stream",
     "text": [
      "Response Headers: Headers({'date': 'Mon, 11 Dec 2023 02:29:39 GMT', 'content-type': 'text/html', 'last-modified': 'Fri, 27 Oct 2023 13:41:30 GMT', 'etag': '\"653bbe0a-18b4\"', 'accept-ranges': 'bytes', 'content-length': '6324', 'x-backend-header-rtt': '0.00154', 'strict-transport-security': 'max-age=31536000', 'server': 'nghttpx', 'alt-svc': 'h3=\":443\"; ma=3600, h3-29=\":443\"; ma=3600', 'via': '2 nghttpx', 'x-frame-options': 'SAMEORIGIN', 'x-xss-protection': '1; mode=block', 'x-content-type-options': 'nosniff'})\n"
     ]
    }
   ],
   "source": [
    "async def header_compression():\n",
    "    url = 'https://nghttp2.org'\n",
    "    async with httpx.AsyncClient(http2=True) as client:\n",
    "        response = await client.get(url)\n",
    "        print(\"Response Headers:\", response.headers)\n",
    "\n",
    "# Run the async function\n",
    "await header_compression()\n"
   ]
  },
  {
   "cell_type": "markdown",
   "id": "b27c6b01",
   "metadata": {},
   "source": [
    "# Testing Concurrent Stream Multiplexing"
   ]
  },
  {
   "cell_type": "code",
   "execution_count": 5,
   "id": "58ec06f8",
   "metadata": {},
   "outputs": [
    {
     "name": "stdout",
     "output_type": "stream",
     "text": [
      "Response from stream: 200\n",
      "Response from stream: 200\n",
      "Response from stream: 200\n"
     ]
    }
   ],
   "source": [
    "async def test_stream_multiplexing():\n",
    "    url = 'https://nghttp2.org/httpbin/delay/2'  # Endpoint with a delay to simulate long-running request\n",
    "    async with httpx.AsyncClient(http2=True) as client:\n",
    "        # Initiating multiple requests concurrently\n",
    "        responses = await asyncio.gather(\n",
    "            client.get(url),\n",
    "            client.get(url),\n",
    "            client.get(url)\n",
    "        )\n",
    "        for response in responses:\n",
    "            print(\"Response from stream:\", response.status_code)\n",
    "\n",
    "# Run the async function\n",
    "await test_stream_multiplexing()\n"
   ]
  },
  {
   "cell_type": "markdown",
   "id": "e5db0381",
   "metadata": {},
   "source": [
    "# Testing HTTP/2 Prioritization"
   ]
  },
  {
   "cell_type": "code",
   "execution_count": 6,
   "id": "6e765a50",
   "metadata": {},
   "outputs": [
    {
     "name": "stdout",
     "output_type": "stream",
     "text": [
      "High priority response: 200\n",
      "Low priority response: 200\n"
     ]
    }
   ],
   "source": [
    "async def test_http2_prioritization():\n",
    "    url = 'https://nghttp2.org/httpbin/delay/1'  # Delayed response\n",
    "    async with httpx.AsyncClient(http2=True) as client:\n",
    "        # High-priority request\n",
    "        high_priority = await client.get(url, headers={'Priority': 'u=1, i'})\n",
    "        print(\"High priority response:\", high_priority.status_code)\n",
    "\n",
    "        # Low-priority request\n",
    "        low_priority = await client.get(url, headers={'Priority': 'u=4, i'})\n",
    "        print(\"Low priority response:\", low_priority.status_code)\n",
    "\n",
    "# Run the async function\n",
    "await test_http2_prioritization()\n"
   ]
  },
  {
   "cell_type": "markdown",
   "id": "bbd049b7",
   "metadata": {},
   "source": [
    "# Simulating High Traffic"
   ]
  },
  {
   "cell_type": "code",
   "execution_count": 7,
   "id": "2fb553b1",
   "metadata": {},
   "outputs": [
    {
     "name": "stdout",
     "output_type": "stream",
     "text": [
      "Responses: [200, 200, 200, 200, 200, 200, 200, 200, 200, 200, 200, 200, 200, 200, 200, 200, 200, 200, 200, 200, 200, 200, 200, 200, 200, 200, 200, 200, 200, 200, 200, 200, 200, 200, 200, 200, 200, 200, 200, 200, 200, 200, 200, 200, 200, 200, 200, 200, 200, 200, 200, 200, 200, 200, 200, 200, 200, 200, 200, 200, 200, 200, 200, 200, 200, 200, 200, 200, 200, 200, 200, 200, 200, 200, 200, 200, 200, 200, 200, 200, 200, 200, 200, 200, 200, 200, 200, 200, 200, 200, 200, 200, 200, 200, 200, 200, 200, 200, 200, 200, 200, 200, 200, 200, 200, 200, 200, 200, 200, 200, 200, 200, 200, 200, 200, 200, 200, 200, 200, 200, 200, 200, 200, 200, 200, 200, 200, 200, 200, 200, 200, 200, 200, 200, 200, 200, 200, 200, 200, 200, 200, 200, 200, 200, 200, 200, 200, 200, 200, 200, 200, 200, 200, 200, 200, 200, 200, 200, 200, 200, 200, 200, 200, 200, 200, 200, 200, 200, 200, 200, 200, 200, 200, 200, 200, 200, 200, 200, 200, 200, 200, 200, 200, 200, 200, 200, 200, 200, 200, 200, 200, 200, 200, 200, 200, 200, 200, 200, 200, 200, 200, 200, 200, 200, 200, 200, 200, 200, 200, 200, 200, 200, 200, 200, 200, 200, 200, 200, 200, 200, 200, 200, 200, 200, 200, 200, 200, 200, 200, 200, 200, 200, 200, 200, 200, 200, 200, 200, 200, 200, 200, 200, 200, 200, 200, 200, 200, 200, 200, 200, 200, 200, 200, 200, 200, 200, 200, 200, 200, 200, 200, 200, 200, 200, 200, 200, 200, 200, 200, 200, 200, 200, 200, 200, 200, 200, 200, 200, 200, 200, 200, 200, 200, 200, 200, 200, 200, 200, 200, 200, 200, 200, 200, 200, 200, 200, 200, 200, 200, 200, 200, 200, 200, 200, 200, 200, 200, 200, 200, '<ConnectionTerminated error_code:ErrorCodes.NO_ERROR, last_stream_id:2147483647, additional_data:None>', '<ConnectionTerminated error_code:ErrorCodes.NO_ERROR, last_stream_id:2147483647, additional_data:None>', '<ConnectionTerminated error_code:ErrorCodes.NO_ERROR, last_stream_id:2147483647, additional_data:None>', '<ConnectionTerminated error_code:ErrorCodes.NO_ERROR, last_stream_id:2147483647, additional_data:None>', '<ConnectionTerminated error_code:ErrorCodes.NO_ERROR, last_stream_id:2147483647, additional_data:None>', '<ConnectionTerminated error_code:ErrorCodes.NO_ERROR, last_stream_id:2147483647, additional_data:None>', '<ConnectionTerminated error_code:ErrorCodes.NO_ERROR, last_stream_id:2147483647, additional_data:None>', '<ConnectionTerminated error_code:ErrorCodes.NO_ERROR, last_stream_id:2147483647, additional_data:None>', '<ConnectionTerminated error_code:ErrorCodes.NO_ERROR, last_stream_id:2147483647, additional_data:None>', '<ConnectionTerminated error_code:ErrorCodes.NO_ERROR, last_stream_id:2147483647, additional_data:None>', '<ConnectionTerminated error_code:ErrorCodes.NO_ERROR, last_stream_id:2147483647, additional_data:None>', '<ConnectionTerminated error_code:ErrorCodes.NO_ERROR, last_stream_id:2147483647, additional_data:None>', '<ConnectionTerminated error_code:ErrorCodes.NO_ERROR, last_stream_id:2147483647, additional_data:None>', '<ConnectionTerminated error_code:ErrorCodes.NO_ERROR, last_stream_id:2147483647, additional_data:None>', '<ConnectionTerminated error_code:ErrorCodes.NO_ERROR, last_stream_id:2147483647, additional_data:None>', '<ConnectionTerminated error_code:ErrorCodes.NO_ERROR, last_stream_id:2147483647, additional_data:None>', '<ConnectionTerminated error_code:ErrorCodes.NO_ERROR, last_stream_id:2147483647, additional_data:None>', '<ConnectionTerminated error_code:ErrorCodes.NO_ERROR, last_stream_id:2147483647, additional_data:None>', '<ConnectionTerminated error_code:ErrorCodes.NO_ERROR, last_stream_id:2147483647, additional_data:None>', '<ConnectionTerminated error_code:ErrorCodes.NO_ERROR, last_stream_id:2147483647, additional_data:None>', '<ConnectionTerminated error_code:ErrorCodes.NO_ERROR, last_stream_id:2147483647, additional_data:None>', '<ConnectionTerminated error_code:ErrorCodes.NO_ERROR, last_stream_id:2147483647, additional_data:None>', '<ConnectionTerminated error_code:ErrorCodes.NO_ERROR, last_stream_id:2147483647, additional_data:None>', '<ConnectionTerminated error_code:ErrorCodes.NO_ERROR, last_stream_id:2147483647, additional_data:None>', '<ConnectionTerminated error_code:ErrorCodes.NO_ERROR, last_stream_id:2147483647, additional_data:None>', '<ConnectionTerminated error_code:ErrorCodes.NO_ERROR, last_stream_id:2147483647, additional_data:None>', '<ConnectionTerminated error_code:ErrorCodes.NO_ERROR, last_stream_id:2147483647, additional_data:None>', '<ConnectionTerminated error_code:ErrorCodes.NO_ERROR, last_stream_id:2147483647, additional_data:None>', '<ConnectionTerminated error_code:ErrorCodes.NO_ERROR, last_stream_id:2147483647, additional_data:None>', '<ConnectionTerminated error_code:ErrorCodes.NO_ERROR, last_stream_id:2147483647, additional_data:None>', '<ConnectionTerminated error_code:ErrorCodes.NO_ERROR, last_stream_id:2147483647, additional_data:None>', '<ConnectionTerminated error_code:ErrorCodes.NO_ERROR, last_stream_id:2147483647, additional_data:None>', '<ConnectionTerminated error_code:ErrorCodes.NO_ERROR, last_stream_id:2147483647, additional_data:None>', '<ConnectionTerminated error_code:ErrorCodes.NO_ERROR, last_stream_id:2147483647, additional_data:None>', '<ConnectionTerminated error_code:ErrorCodes.NO_ERROR, last_stream_id:2147483647, additional_data:None>', '<ConnectionTerminated error_code:ErrorCodes.NO_ERROR, last_stream_id:2147483647, additional_data:None>', '<ConnectionTerminated error_code:ErrorCodes.NO_ERROR, last_stream_id:2147483647, additional_data:None>', '<ConnectionTerminated error_code:ErrorCodes.NO_ERROR, last_stream_id:2147483647, additional_data:None>', '<ConnectionTerminated error_code:ErrorCodes.NO_ERROR, last_stream_id:2147483647, additional_data:None>', '<ConnectionTerminated error_code:ErrorCodes.NO_ERROR, last_stream_id:2147483647, additional_data:None>', '<ConnectionTerminated error_code:ErrorCodes.NO_ERROR, last_stream_id:2147483647, additional_data:None>', '<ConnectionTerminated error_code:ErrorCodes.NO_ERROR, last_stream_id:2147483647, additional_data:None>', '<ConnectionTerminated error_code:ErrorCodes.NO_ERROR, last_stream_id:2147483647, additional_data:None>', '<ConnectionTerminated error_code:ErrorCodes.NO_ERROR, last_stream_id:2147483647, additional_data:None>', '<ConnectionTerminated error_code:ErrorCodes.NO_ERROR, last_stream_id:2147483647, additional_data:None>', '<ConnectionTerminated error_code:ErrorCodes.NO_ERROR, last_stream_id:2147483647, additional_data:None>', '<ConnectionTerminated error_code:ErrorCodes.NO_ERROR, last_stream_id:2147483647, additional_data:None>', '<ConnectionTerminated error_code:ErrorCodes.NO_ERROR, last_stream_id:2147483647, additional_data:None>', '<ConnectionTerminated error_code:ErrorCodes.NO_ERROR, last_stream_id:2147483647, additional_data:None>', '<ConnectionTerminated error_code:ErrorCodes.NO_ERROR, last_stream_id:2147483647, additional_data:None>', '<ConnectionTerminated error_code:ErrorCodes.NO_ERROR, last_stream_id:2147483647, additional_data:None>', '<ConnectionTerminated error_code:ErrorCodes.NO_ERROR, last_stream_id:2147483647, additional_data:None>', '<ConnectionTerminated error_code:ErrorCodes.NO_ERROR, last_stream_id:2147483647, additional_data:None>', '<ConnectionTerminated error_code:ErrorCodes.NO_ERROR, last_stream_id:2147483647, additional_data:None>', '<ConnectionTerminated error_code:ErrorCodes.NO_ERROR, last_stream_id:2147483647, additional_data:None>', '<ConnectionTerminated error_code:ErrorCodes.NO_ERROR, last_stream_id:2147483647, additional_data:None>', '<ConnectionTerminated error_code:ErrorCodes.NO_ERROR, last_stream_id:2147483647, additional_data:None>', '<ConnectionTerminated error_code:ErrorCodes.NO_ERROR, last_stream_id:2147483647, additional_data:None>', '<ConnectionTerminated error_code:ErrorCodes.NO_ERROR, last_stream_id:2147483647, additional_data:None>', '<ConnectionTerminated error_code:ErrorCodes.NO_ERROR, last_stream_id:2147483647, additional_data:None>', '<ConnectionTerminated error_code:ErrorCodes.NO_ERROR, last_stream_id:2147483647, additional_data:None>', '<ConnectionTerminated error_code:ErrorCodes.NO_ERROR, last_stream_id:2147483647, additional_data:None>', '<ConnectionTerminated error_code:ErrorCodes.NO_ERROR, last_stream_id:2147483647, additional_data:None>', '<ConnectionTerminated error_code:ErrorCodes.NO_ERROR, last_stream_id:2147483647, additional_data:None>', '<ConnectionTerminated error_code:ErrorCodes.NO_ERROR, last_stream_id:2147483647, additional_data:None>', '<ConnectionTerminated error_code:ErrorCodes.NO_ERROR, last_stream_id:2147483647, additional_data:None>', '<ConnectionTerminated error_code:ErrorCodes.NO_ERROR, last_stream_id:2147483647, additional_data:None>', '<ConnectionTerminated error_code:ErrorCodes.NO_ERROR, last_stream_id:2147483647, additional_data:None>', '<ConnectionTerminated error_code:ErrorCodes.NO_ERROR, last_stream_id:2147483647, additional_data:None>', '<ConnectionTerminated error_code:ErrorCodes.NO_ERROR, last_stream_id:2147483647, additional_data:None>', '<ConnectionTerminated error_code:ErrorCodes.NO_ERROR, last_stream_id:2147483647, additional_data:None>', '<ConnectionTerminated error_code:ErrorCodes.NO_ERROR, last_stream_id:2147483647, additional_data:None>', '<ConnectionTerminated error_code:ErrorCodes.NO_ERROR, last_stream_id:2147483647, additional_data:None>', '<ConnectionTerminated error_code:ErrorCodes.NO_ERROR, last_stream_id:2147483647, additional_data:None>', '<ConnectionTerminated error_code:ErrorCodes.NO_ERROR, last_stream_id:2147483647, additional_data:None>', '<ConnectionTerminated error_code:ErrorCodes.NO_ERROR, last_stream_id:2147483647, additional_data:None>', '<ConnectionTerminated error_code:ErrorCodes.NO_ERROR, last_stream_id:2147483647, additional_data:None>', '<ConnectionTerminated error_code:ErrorCodes.NO_ERROR, last_stream_id:2147483647, additional_data:None>', '<ConnectionTerminated error_code:ErrorCodes.NO_ERROR, last_stream_id:2147483647, additional_data:None>', '<ConnectionTerminated error_code:ErrorCodes.NO_ERROR, last_stream_id:2147483647, additional_data:None>', '<ConnectionTerminated error_code:ErrorCodes.NO_ERROR, last_stream_id:2147483647, additional_data:None>', '<ConnectionTerminated error_code:ErrorCodes.NO_ERROR, last_stream_id:2147483647, additional_data:None>', '<ConnectionTerminated error_code:ErrorCodes.NO_ERROR, last_stream_id:2147483647, additional_data:None>', '<ConnectionTerminated error_code:ErrorCodes.NO_ERROR, last_stream_id:2147483647, additional_data:None>', '<ConnectionTerminated error_code:ErrorCodes.NO_ERROR, last_stream_id:2147483647, additional_data:None>', '<ConnectionTerminated error_code:ErrorCodes.NO_ERROR, last_stream_id:2147483647, additional_data:None>', '<ConnectionTerminated error_code:ErrorCodes.NO_ERROR, last_stream_id:2147483647, additional_data:None>', '<ConnectionTerminated error_code:ErrorCodes.NO_ERROR, last_stream_id:2147483647, additional_data:None>', '<ConnectionTerminated error_code:ErrorCodes.NO_ERROR, last_stream_id:2147483647, additional_data:None>', '<ConnectionTerminated error_code:ErrorCodes.NO_ERROR, last_stream_id:2147483647, additional_data:None>', '<ConnectionTerminated error_code:ErrorCodes.NO_ERROR, last_stream_id:2147483647, additional_data:None>', '<ConnectionTerminated error_code:ErrorCodes.NO_ERROR, last_stream_id:2147483647, additional_data:None>', '<ConnectionTerminated error_code:ErrorCodes.NO_ERROR, last_stream_id:2147483647, additional_data:None>', '<ConnectionTerminated error_code:ErrorCodes.NO_ERROR, last_stream_id:2147483647, additional_data:None>', '<ConnectionTerminated error_code:ErrorCodes.NO_ERROR, last_stream_id:2147483647, additional_data:None>', '<ConnectionTerminated error_code:ErrorCodes.NO_ERROR, last_stream_id:2147483647, additional_data:None>', '<ConnectionTerminated error_code:ErrorCodes.NO_ERROR, last_stream_id:2147483647, additional_data:None>', '<ConnectionTerminated error_code:ErrorCodes.NO_ERROR, last_stream_id:2147483647, additional_data:None>', '<ConnectionTerminated error_code:ErrorCodes.NO_ERROR, last_stream_id:2147483647, additional_data:None>', '<ConnectionTerminated error_code:ErrorCodes.NO_ERROR, last_stream_id:2147483647, additional_data:None>', '<ConnectionTerminated error_code:ErrorCodes.NO_ERROR, last_stream_id:2147483647, additional_data:None>', '<ConnectionTerminated error_code:ErrorCodes.NO_ERROR, last_stream_id:2147483647, additional_data:None>', '<ConnectionTerminated error_code:ErrorCodes.NO_ERROR, last_stream_id:2147483647, additional_data:None>', '<ConnectionTerminated error_code:ErrorCodes.NO_ERROR, last_stream_id:2147483647, additional_data:None>', '<ConnectionTerminated error_code:ErrorCodes.NO_ERROR, last_stream_id:2147483647, additional_data:None>', '<ConnectionTerminated error_code:ErrorCodes.NO_ERROR, last_stream_id:2147483647, additional_data:None>', '<ConnectionTerminated error_code:ErrorCodes.NO_ERROR, last_stream_id:2147483647, additional_data:None>', '<ConnectionTerminated error_code:ErrorCodes.NO_ERROR, last_stream_id:2147483647, additional_data:None>', '<ConnectionTerminated error_code:ErrorCodes.NO_ERROR, last_stream_id:2147483647, additional_data:None>', '<ConnectionTerminated error_code:ErrorCodes.NO_ERROR, last_stream_id:2147483647, additional_data:None>', '<ConnectionTerminated error_code:ErrorCodes.NO_ERROR, last_stream_id:2147483647, additional_data:None>', '<ConnectionTerminated error_code:ErrorCodes.NO_ERROR, last_stream_id:2147483647, additional_data:None>', '<ConnectionTerminated error_code:ErrorCodes.NO_ERROR, last_stream_id:2147483647, additional_data:None>', '<ConnectionTerminated error_code:ErrorCodes.NO_ERROR, last_stream_id:2147483647, additional_data:None>', '<ConnectionTerminated error_code:ErrorCodes.NO_ERROR, last_stream_id:2147483647, additional_data:None>', '<ConnectionTerminated error_code:ErrorCodes.NO_ERROR, last_stream_id:2147483647, additional_data:None>', '<ConnectionTerminated error_code:ErrorCodes.NO_ERROR, last_stream_id:2147483647, additional_data:None>', '<ConnectionTerminated error_code:ErrorCodes.NO_ERROR, last_stream_id:2147483647, additional_data:None>', '<ConnectionTerminated error_code:ErrorCodes.NO_ERROR, last_stream_id:2147483647, additional_data:None>', '<ConnectionTerminated error_code:ErrorCodes.NO_ERROR, last_stream_id:2147483647, additional_data:None>', '<ConnectionTerminated error_code:ErrorCodes.NO_ERROR, last_stream_id:2147483647, additional_data:None>', '<ConnectionTerminated error_code:ErrorCodes.NO_ERROR, last_stream_id:2147483647, additional_data:None>', '<ConnectionTerminated error_code:ErrorCodes.NO_ERROR, last_stream_id:2147483647, additional_data:None>', '<ConnectionTerminated error_code:ErrorCodes.NO_ERROR, last_stream_id:2147483647, additional_data:None>', '<ConnectionTerminated error_code:ErrorCodes.NO_ERROR, last_stream_id:2147483647, additional_data:None>', '<ConnectionTerminated error_code:ErrorCodes.NO_ERROR, last_stream_id:2147483647, additional_data:None>', '<ConnectionTerminated error_code:ErrorCodes.NO_ERROR, last_stream_id:2147483647, additional_data:None>', '<ConnectionTerminated error_code:ErrorCodes.NO_ERROR, last_stream_id:2147483647, additional_data:None>', '<ConnectionTerminated error_code:ErrorCodes.NO_ERROR, last_stream_id:2147483647, additional_data:None>', '<ConnectionTerminated error_code:ErrorCodes.NO_ERROR, last_stream_id:2147483647, additional_data:None>', '<ConnectionTerminated error_code:ErrorCodes.NO_ERROR, last_stream_id:2147483647, additional_data:None>', '<ConnectionTerminated error_code:ErrorCodes.NO_ERROR, last_stream_id:2147483647, additional_data:None>', '<ConnectionTerminated error_code:ErrorCodes.NO_ERROR, last_stream_id:2147483647, additional_data:None>', '<ConnectionTerminated error_code:ErrorCodes.NO_ERROR, last_stream_id:2147483647, additional_data:None>', '<ConnectionTerminated error_code:ErrorCodes.NO_ERROR, last_stream_id:2147483647, additional_data:None>', '<ConnectionTerminated error_code:ErrorCodes.NO_ERROR, last_stream_id:2147483647, additional_data:None>', '<ConnectionTerminated error_code:ErrorCodes.NO_ERROR, last_stream_id:2147483647, additional_data:None>', '<ConnectionTerminated error_code:ErrorCodes.NO_ERROR, last_stream_id:2147483647, additional_data:None>', '<ConnectionTerminated error_code:ErrorCodes.NO_ERROR, last_stream_id:2147483647, additional_data:None>', '<ConnectionTerminated error_code:ErrorCodes.NO_ERROR, last_stream_id:2147483647, additional_data:None>', '<ConnectionTerminated error_code:ErrorCodes.NO_ERROR, last_stream_id:2147483647, additional_data:None>', '<ConnectionTerminated error_code:ErrorCodes.NO_ERROR, last_stream_id:2147483647, additional_data:None>', '<ConnectionTerminated error_code:ErrorCodes.NO_ERROR, last_stream_id:2147483647, additional_data:None>', '<ConnectionTerminated error_code:ErrorCodes.NO_ERROR, last_stream_id:2147483647, additional_data:None>', '<ConnectionTerminated error_code:ErrorCodes.NO_ERROR, last_stream_id:2147483647, additional_data:None>', '<ConnectionTerminated error_code:ErrorCodes.NO_ERROR, last_stream_id:2147483647, additional_data:None>', '<ConnectionTerminated error_code:ErrorCodes.NO_ERROR, last_stream_id:2147483647, additional_data:None>', '<ConnectionTerminated error_code:ErrorCodes.NO_ERROR, last_stream_id:2147483647, additional_data:None>', '<ConnectionTerminated error_code:ErrorCodes.NO_ERROR, last_stream_id:2147483647, additional_data:None>', '<ConnectionTerminated error_code:ErrorCodes.NO_ERROR, last_stream_id:2147483647, additional_data:None>', '<ConnectionTerminated error_code:ErrorCodes.NO_ERROR, last_stream_id:2147483647, additional_data:None>', '<ConnectionTerminated error_code:ErrorCodes.NO_ERROR, last_stream_id:2147483647, additional_data:None>', '<ConnectionTerminated error_code:ErrorCodes.NO_ERROR, last_stream_id:2147483647, additional_data:None>', '<ConnectionTerminated error_code:ErrorCodes.NO_ERROR, last_stream_id:2147483647, additional_data:None>', '<ConnectionTerminated error_code:ErrorCodes.NO_ERROR, last_stream_id:2147483647, additional_data:None>', '<ConnectionTerminated error_code:ErrorCodes.NO_ERROR, last_stream_id:2147483647, additional_data:None>', '<ConnectionTerminated error_code:ErrorCodes.NO_ERROR, last_stream_id:2147483647, additional_data:None>', '<ConnectionTerminated error_code:ErrorCodes.NO_ERROR, last_stream_id:2147483647, additional_data:None>', '<ConnectionTerminated error_code:ErrorCodes.NO_ERROR, last_stream_id:2147483647, additional_data:None>', '<ConnectionTerminated error_code:ErrorCodes.NO_ERROR, last_stream_id:2147483647, additional_data:None>', '<ConnectionTerminated error_code:ErrorCodes.NO_ERROR, last_stream_id:2147483647, additional_data:None>', '<ConnectionTerminated error_code:ErrorCodes.NO_ERROR, last_stream_id:2147483647, additional_data:None>', '<ConnectionTerminated error_code:ErrorCodes.NO_ERROR, last_stream_id:2147483647, additional_data:None>', '<ConnectionTerminated error_code:ErrorCodes.NO_ERROR, last_stream_id:2147483647, additional_data:None>', '<ConnectionTerminated error_code:ErrorCodes.NO_ERROR, last_stream_id:2147483647, additional_data:None>', '<ConnectionTerminated error_code:ErrorCodes.NO_ERROR, last_stream_id:2147483647, additional_data:None>', '<ConnectionTerminated error_code:ErrorCodes.NO_ERROR, last_stream_id:2147483647, additional_data:None>', '<ConnectionTerminated error_code:ErrorCodes.NO_ERROR, last_stream_id:2147483647, additional_data:None>', '<ConnectionTerminated error_code:ErrorCodes.NO_ERROR, last_stream_id:2147483647, additional_data:None>', '<ConnectionTerminated error_code:ErrorCodes.NO_ERROR, last_stream_id:2147483647, additional_data:None>', '<ConnectionTerminated error_code:ErrorCodes.NO_ERROR, last_stream_id:2147483647, additional_data:None>', '<ConnectionTerminated error_code:ErrorCodes.NO_ERROR, last_stream_id:2147483647, additional_data:None>', '<ConnectionTerminated error_code:ErrorCodes.NO_ERROR, last_stream_id:2147483647, additional_data:None>', '<ConnectionTerminated error_code:ErrorCodes.NO_ERROR, last_stream_id:2147483647, additional_data:None>', '<ConnectionTerminated error_code:ErrorCodes.NO_ERROR, last_stream_id:2147483647, additional_data:None>', '<ConnectionTerminated error_code:ErrorCodes.NO_ERROR, last_stream_id:2147483647, additional_data:None>', '<ConnectionTerminated error_code:ErrorCodes.NO_ERROR, last_stream_id:2147483647, additional_data:None>', '<ConnectionTerminated error_code:ErrorCodes.NO_ERROR, last_stream_id:2147483647, additional_data:None>', '<ConnectionTerminated error_code:ErrorCodes.NO_ERROR, last_stream_id:2147483647, additional_data:None>', '<ConnectionTerminated error_code:ErrorCodes.NO_ERROR, last_stream_id:2147483647, additional_data:None>', '<ConnectionTerminated error_code:ErrorCodes.NO_ERROR, last_stream_id:2147483647, additional_data:None>', '<ConnectionTerminated error_code:ErrorCodes.NO_ERROR, last_stream_id:2147483647, additional_data:None>', '<ConnectionTerminated error_code:ErrorCodes.NO_ERROR, last_stream_id:2147483647, additional_data:None>', '<ConnectionTerminated error_code:ErrorCodes.NO_ERROR, last_stream_id:2147483647, additional_data:None>', '<ConnectionTerminated error_code:ErrorCodes.NO_ERROR, last_stream_id:2147483647, additional_data:None>', '<ConnectionTerminated error_code:ErrorCodes.NO_ERROR, last_stream_id:2147483647, additional_data:None>', '<ConnectionTerminated error_code:ErrorCodes.NO_ERROR, last_stream_id:2147483647, additional_data:None>', '<ConnectionTerminated error_code:ErrorCodes.NO_ERROR, last_stream_id:2147483647, additional_data:None>', '<ConnectionTerminated error_code:ErrorCodes.NO_ERROR, last_stream_id:2147483647, additional_data:None>', '<ConnectionTerminated error_code:ErrorCodes.NO_ERROR, last_stream_id:2147483647, additional_data:None>', '<ConnectionTerminated error_code:ErrorCodes.NO_ERROR, last_stream_id:2147483647, additional_data:None>']\n"
     ]
    }
   ],
   "source": [
    "\n",
    "async def send_request(client, url):\n",
    "    try:\n",
    "        response = await client.get(url)\n",
    "        return response.status_code\n",
    "    except Exception as e:\n",
    "        return str(e)\n",
    "\n",
    "async def simulate_high_traffic(url, request_count=100):\n",
    "    async with httpx.AsyncClient(http2=True) as client:\n",
    "        tasks = [send_request(client, url) for _ in range(request_count)]\n",
    "        responses = await asyncio.gather(*tasks)\n",
    "        return responses\n",
    "\n",
    "# URL of the test server\n",
    "test_url = 'https://nghttp2.org/httpbin/anything'\n",
    "\n",
    "# Run the simulation\n",
    "responses = await simulate_high_traffic(test_url, 500)  # Example: 500 requests\n",
    "print(\"Responses:\", responses)"
   ]
  },
  {
   "cell_type": "markdown",
   "id": "e67b8e44",
   "metadata": {},
   "source": [
    "# Checking for Common Vulnerabilities"
   ]
  },
  {
   "cell_type": "code",
   "execution_count": 8,
   "id": "024581e7",
   "metadata": {},
   "outputs": [
    {
     "name": "stdout",
     "output_type": "stream",
     "text": [
      "No issue detected at: https://nghttp2.org/.git/\n",
      "No issue detected at: https://nghttp2.org/.env\n",
      "No issue detected at: https://nghttp2.org/.htaccess\n",
      "No issue detected at: https://nghttp2.org/phpinfo.php\n",
      "No issue detected at: https://nghttp2.org/config.php\n"
     ]
    }
   ],
   "source": [
    "\n",
    "common_vulnerabilities = [\n",
    "    \"/.git/\", \"/.env\", \"/.htaccess\", \"/phpinfo.php\", \"/config.php\"\n",
    "]\n",
    "\n",
    "async def check_vulnerabilities(url):\n",
    "    async with httpx.AsyncClient(http2=True) as client:\n",
    "        for path in common_vulnerabilities:\n",
    "            try:\n",
    "                response = await client.get(url + path)\n",
    "                if response.status_code == 200:\n",
    "                    print(f\"Potential vulnerability found at: {url + path}\")\n",
    "                else:\n",
    "                    print(f\"No issue detected at: {url + path}\")\n",
    "            except Exception as e:\n",
    "                print(f\"Error checking {url + path}: {str(e)}\")\n",
    "\n",
    "test_url = 'https://nghttp2.org'  \n",
    "await check_vulnerabilities(test_url)"
   ]
  },
  {
   "cell_type": "markdown",
   "id": "6508662b",
   "metadata": {},
   "source": [
    "# Checking for SSL/TLS Vulnerabilities"
   ]
  },
  {
   "cell_type": "code",
   "execution_count": 9,
   "id": "2c0651fa",
   "metadata": {},
   "outputs": [
    {
     "name": "stdout",
     "output_type": "stream",
     "text": [
      "Content-Security-Policy is missing.\n",
      "X-Frame-Options is set.\n",
      "X-Content-Type-Options is set.\n"
     ]
    }
   ],
   "source": [
    "\n",
    "async def check_security_headers(url):\n",
    "    async with httpx.AsyncClient(http2=True) as client:\n",
    "        response = await client.get(url)\n",
    "        headers_to_check = [\"Content-Security-Policy\", \"X-Frame-Options\", \"X-Content-Type-Options\"]\n",
    "        for header in headers_to_check:\n",
    "            if header in response.headers:\n",
    "                print(f\"{header} is set.\")\n",
    "            else:\n",
    "                print(f\"{header} is missing.\")\n",
    "\n",
    "test_url = 'https://nghttp2.org'  \n",
    "await check_security_headers(test_url)"
   ]
  },
  {
   "cell_type": "markdown",
   "id": "98d955af",
   "metadata": {},
   "source": [
    "# Rapid Reset"
   ]
  },
  {
   "cell_type": "code",
   "execution_count": 10,
   "id": "c74cf232",
   "metadata": {},
   "outputs": [
    {
     "name": "stdout",
     "output_type": "stream",
     "text": [
      "\n",
      "Testing with 100 requests...\n",
      "Total Requests: 100\n",
      "Total Success: 100\n",
      "Total Failed: 0\n",
      "Success Rate: 100.0\n",
      "Average Time (s): 0.5544549822807312\n",
      "Max Time (s): 0.6804211139678955\n",
      "Min Time (s): 0.38999032974243164\n",
      "Median Time (s): 0.5971882343292236\n",
      "95th Percentile Time (s): 0.6674982190132142\n",
      "Error Counts: {}\n",
      "\n",
      "Testing with 200 requests...\n",
      "Total Requests: 200\n",
      "Total Success: 200\n",
      "Total Failed: 0\n",
      "Success Rate: 100.0\n",
      "Average Time (s): 0.7903748822212219\n",
      "Max Time (s): 1.0021076202392578\n",
      "Min Time (s): 0.355273962020874\n",
      "Median Time (s): 0.9333958625793457\n",
      "95th Percentile Time (s): 0.995127260684967\n",
      "Error Counts: {}\n",
      "\n",
      "Testing with 300 requests...\n",
      "Total Requests: 300\n",
      "Total Success: 300\n",
      "Total Failed: 0\n",
      "Success Rate: 100.0\n",
      "Average Time (s): 1.1116115935643514\n",
      "Max Time (s): 1.3991739749908447\n",
      "Min Time (s): 0.39573144912719727\n",
      "Median Time (s): 1.2825032472610474\n",
      "95th Percentile Time (s): 1.3821902871131897\n",
      "Error Counts: {}\n",
      "\n",
      "Testing with 400 requests...\n",
      "Total Requests: 400\n",
      "Total Success: 400\n",
      "Total Failed: 0\n",
      "Success Rate: 100.0\n",
      "Average Time (s): 1.3805003505945206\n",
      "Max Time (s): 1.9020826816558838\n",
      "Min Time (s): 0.5062723159790039\n",
      "Median Time (s): 1.529180884361267\n",
      "95th Percentile Time (s): 1.827881097793579\n",
      "Error Counts: {}\n",
      "\n",
      "Testing with 500 requests...\n",
      "Total Requests: 500\n",
      "Total Success: 500\n",
      "Total Failed: 0\n",
      "Success Rate: 100.0\n",
      "Average Time (s): 1.7688569831848144\n",
      "Max Time (s): 2.313549518585205\n",
      "Min Time (s): 0.5152175426483154\n",
      "Median Time (s): 2.0694903135299683\n",
      "95th Percentile Time (s): 2.2995377659797667\n",
      "Error Counts: {}\n"
     ]
    }
   ],
   "source": [
    "\n",
    "async def send_and_reset_stream(host, port, path, ssl_context):\n",
    "    start_time = time.time()\n",
    "\n",
    "    try:\n",
    "        reader, writer = await asyncio.open_connection(host, port, ssl=ssl_context)\n",
    "\n",
    "        config = H2Configuration(client_side=True)\n",
    "        conn = H2Connection(config=config)\n",
    "        conn.initiate_connection()\n",
    "        writer.write(conn.data_to_send())\n",
    "\n",
    "        stream_id = conn.get_next_available_stream_id()\n",
    "        headers = [\n",
    "            (':method', 'GET'),\n",
    "            (':authority', host),\n",
    "            (':scheme', 'https'),\n",
    "            (':path', path),\n",
    "        ]\n",
    "        conn.send_headers(stream_id, headers)\n",
    "        conn.end_stream(stream_id)\n",
    "        writer.write(conn.data_to_send())\n",
    "\n",
    "        # Immediately reset the stream\n",
    "        conn.reset_stream(stream_id)\n",
    "        writer.write(conn.data_to_send())\n",
    "\n",
    "        # Close connection\n",
    "        conn.close_connection()\n",
    "        writer.write(conn.data_to_send())\n",
    "        await writer.drain()\n",
    "        writer.close()\n",
    "\n",
    "        elapsed_time = time.time() - start_time\n",
    "        return (\"Success\", elapsed_time)\n",
    "\n",
    "    except Exception as e:\n",
    "        return (str(e), time.time() - start_time)\n",
    "\n",
    "async def rapid_reset_test(host, port, path, ssl_context, request_count):\n",
    "    tasks = [send_and_reset_stream(host, port, path, ssl_context) for _ in range(request_count)]\n",
    "    results = await asyncio.gather(*tasks)\n",
    "    return results\n",
    "\n",
    "def analyze_results(results):\n",
    "    response_times = [time for status, time in results if status == \"Success\"]\n",
    "    error_counts = {status: len([1 for s, _ in results if s == status]) for status, _ in results if status != \"Success\"}\n",
    "\n",
    "    analysis = {\n",
    "        \"Total Requests\": len(results),\n",
    "        \"Total Success\": len(response_times),\n",
    "        \"Total Failed\": len(results) - len(response_times),\n",
    "        \"Success Rate\": len(response_times) / len(results) * 100,\n",
    "        \"Average Time (s)\": np.mean(response_times),\n",
    "        \"Max Time (s)\": np.max(response_times),\n",
    "        \"Min Time (s)\": np.min(response_times),\n",
    "        \"Median Time (s)\": np.median(response_times),\n",
    "        \"95th Percentile Time (s)\": np.percentile(response_times, 95),\n",
    "        \"Error Counts\": error_counts\n",
    "    }\n",
    "    return analysis\n",
    "\n",
    "async def load_test(host, port, path, start=100, end=500, step=100):\n",
    "    ssl_context = ssl.create_default_context(purpose=ssl.Purpose.SERVER_AUTH)\n",
    "    ssl_context.set_alpn_protocols([\"h2\"])\n",
    "    for request_count in range(start, end + 1, step):\n",
    "        print(f\"\\nTesting with {request_count} requests...\")\n",
    "        results = await rapid_reset_test(host, port, path, ssl_context, request_count)\n",
    "        analysis = analyze_results(results)\n",
    "        for key, value in analysis.items():\n",
    "            print(f\"{key}: {value}\")\n",
    "\n",
    "# Test URL and path\n",
    "host = 'nghttp2.org'\n",
    "port = 443\n",
    "path = '/'\n",
    "\n",
    "# Run the load test\n",
    "await load_test(host, port, path)"
   ]
  },
  {
   "cell_type": "code",
   "execution_count": 11,
   "id": "bd5dddff",
   "metadata": {},
   "outputs": [],
   "source": [
    "analysis_results = []"
   ]
  },
  {
   "cell_type": "code",
   "execution_count": 12,
   "id": "4977709f",
   "metadata": {},
   "outputs": [],
   "source": [
    "# Define the analyze_results function\n",
    "def analyze_results(test_name, response):\n",
    "    print(f\"Raw Response Data: {response}\")\n",
    "    # Append the test name and response to the global list\n",
    "    analysis_results.append({\"Test Name\": test_name, \"Response\": response})\n"
   ]
  },
  {
   "cell_type": "code",
   "execution_count": null,
   "id": "5feea62c",
   "metadata": {},
   "outputs": [],
   "source": []
  },
  {
   "cell_type": "markdown",
   "id": "bb26395a",
   "metadata": {},
   "source": [
    "# Individual Frame Testing"
   ]
  },
  {
   "cell_type": "markdown",
   "id": "efb66f65",
   "metadata": {},
   "source": [
    "# Header Frame"
   ]
  },
  {
   "cell_type": "code",
   "execution_count": 13,
   "id": "9ae9a47e",
   "metadata": {},
   "outputs": [
    {
     "name": "stdout",
     "output_type": "stream",
     "text": [
      "Response headers: [(b':status', b'200'), (b'date', b'Mon, 11 Dec 2023 02:30:01 GMT'), (b'content-type', b'text/html'), (b'last-modified', b'Fri, 27 Oct 2023 13:41:30 GMT'), (b'etag', b'\"653bbe0a-18b4\"'), (b'accept-ranges', b'bytes'), (b'content-length', b'6324'), (b'x-backend-header-rtt', b'0.001536'), (b'strict-transport-security', b'max-age=31536000'), (b'server', b'nghttpx'), (b'alt-svc', b'h3=\":443\"; ma=3600, h3-29=\":443\"; ma=3600'), (b'via', b'2 nghttpx'), (b'x-frame-options', b'SAMEORIGIN'), (b'x-xss-protection', b'1; mode=block'), (b'x-content-type-options', b'nosniff')]\n",
      "Response headers: [(b':status', b'200'), (b'date', b'Mon, 11 Dec 2023 02:30:01 GMT'), (b'content-type', b'text/css'), (b'last-modified', b'Fri, 27 Oct 2023 13:41:30 GMT'), (b'etag', b'\"653bbe0a-98aa\"'), (b'accept-ranges', b'bytes'), (b'content-length', b'39082'), (b'x-backend-header-rtt', b'0.001445'), (b'strict-transport-security', b'max-age=31536000'), (b'server', b'nghttpx'), (b'alt-svc', b'h3=\":443\"; ma=3600, h3-29=\":443\"; ma=3600'), (b'via', b'2 nghttpx'), (b'x-frame-options', b'SAMEORIGIN'), (b'x-xss-protection', b'1; mode=block'), (b'x-content-type-options', b'nosniff'), (b'x-http2-push', b'1')]\n",
      "Chunk of response data received: 6324\n",
      "Stream ended\n",
      "Chunk of response data received: 9708\n",
      "Chunk of response data received: 5663\n",
      "Chunk of response data received: 11335\n",
      "Chunk of response data received: 12376\n",
      "Stream ended\n",
      "Total response time: 10.47 seconds\n",
      "Total data received: 45406 bytes\n",
      "Raw Response Data: {'Total response time': 10.468260765075684, 'Total data received': 45406}\n"
     ]
    }
   ],
   "source": [
    "async def test_headers_frame_and_analyze():\n",
    "    ssl_context = ssl.create_default_context(purpose=ssl.Purpose.SERVER_AUTH)\n",
    "    ssl_context.set_alpn_protocols([\"h2\"])\n",
    "\n",
    "    host = 'nghttp2.org'\n",
    "    port = 443\n",
    "    path = '/'\n",
    "\n",
    "    start_time = time.time()\n",
    "\n",
    "    reader, writer = await asyncio.open_connection(host, port, ssl=ssl_context)\n",
    "    \n",
    "    config = H2Configuration(client_side=True)\n",
    "    conn = H2Connection(config=config)\n",
    "    conn.initiate_connection()\n",
    "    writer.write(conn.data_to_send())\n",
    "\n",
    "    headers = [\n",
    "        (':method', 'GET'),\n",
    "        (':authority', host),\n",
    "        (':scheme', 'https'),\n",
    "        (':path', path),\n",
    "        ('user-agent', 'http2-test/0.1'),\n",
    "    ]\n",
    "    stream_id = conn.get_next_available_stream_id()\n",
    "    conn.send_headers(stream_id, headers, end_stream=True)\n",
    "    writer.write(conn.data_to_send())\n",
    "    await writer.drain()\n",
    "\n",
    "    data_received = 0\n",
    "\n",
    "    while True:\n",
    "        data = await reader.read(4096)\n",
    "        if not data:\n",
    "            break\n",
    "\n",
    "        events = conn.receive_data(data)\n",
    "        for event in events:\n",
    "            if isinstance(event, ResponseReceived):\n",
    "                print('Response headers:', event.headers)\n",
    "            elif isinstance(event, DataReceived):\n",
    "                print('Chunk of response data received:', len(event.data))\n",
    "                data_received += len(event.data)\n",
    "            elif isinstance(event, StreamEnded):\n",
    "                print('Stream ended')\n",
    "                break\n",
    "\n",
    "    writer.close()\n",
    "    await writer.wait_closed()\n",
    "\n",
    "    end_time = time.time()\n",
    "\n",
    "    print(f\"Total response time: {end_time - start_time:.2f} seconds\")\n",
    "    print(f\"Total data received: {data_received} bytes\")\n",
    "    response_data = {\n",
    "        \"Total response time\": end_time - start_time,\n",
    "        \"Total data received\": data_received\n",
    "    }\n",
    "    analyze_results(\"Headers Frame Test\", response_data)\n",
    "\n",
    "\n",
    "await test_headers_frame_and_analyze()"
   ]
  },
  {
   "cell_type": "markdown",
   "id": "907a5bcb",
   "metadata": {},
   "source": [
    "# Data Frame"
   ]
  },
  {
   "cell_type": "code",
   "execution_count": 14,
   "id": "b787e799",
   "metadata": {},
   "outputs": [
    {
     "name": "stdout",
     "output_type": "stream",
     "text": [
      "Total response time: 10.15 seconds\n",
      "Total data received: 0 bytes\n",
      "Raw Response Data: {'Total response time': 10.146790742874146, 'Total data received': 0}\n"
     ]
    }
   ],
   "source": [
    "\n",
    "async def test_data_frame_and_analyze():\n",
    "    ssl_context = ssl.create_default_context(purpose=ssl.Purpose.SERVER_AUTH)\n",
    "    ssl_context.set_alpn_protocols([\"h2\"])\n",
    "\n",
    "    host = 'nghttp2.org'\n",
    "    port = 443\n",
    "    path = '/post'  # Change to a path that accepts POST requests\n",
    "\n",
    "    reader, writer = await asyncio.open_connection(host, port, ssl=ssl_context)\n",
    "\n",
    "    config = H2Configuration(client_side=True)\n",
    "    conn = H2Connection(config=config)\n",
    "    conn.initiate_connection()\n",
    "    writer.write(conn.data_to_send())\n",
    "\n",
    "    # Headers for a POST request\n",
    "    headers = [\n",
    "        (':method', 'POST'),\n",
    "        (':authority', host),\n",
    "        (':scheme', 'https'),\n",
    "        (':path', path),\n",
    "        ('content-length', '15'),  \n",
    "        ('content-type', 'application/x-www-form-urlencoded'),\n",
    "    ]\n",
    "    stream_id = conn.get_next_available_stream_id()\n",
    "    conn.send_headers(stream_id, headers)\n",
    "\n",
    "    # Sending the data\n",
    "    data = 'Hello, world!\\n'\n",
    "    conn.send_data(stream_id, data.encode('utf-8'), end_stream=True)\n",
    "    writer.write(conn.data_to_send())\n",
    "    await writer.drain()\n",
    "\n",
    "    start_time = time.time()\n",
    "    data_received = 0\n",
    "\n",
    "    while True:\n",
    "        data = await reader.read(4096)\n",
    "        if not data:\n",
    "            break\n",
    "\n",
    "        events = conn.receive_data(data)\n",
    "        for event in events:\n",
    "            if isinstance(event, ResponseReceived):\n",
    "                print('Response headers:', event.headers)\n",
    "            elif isinstance(event, DataReceived):\n",
    "                data_received += len(event.data)\n",
    "                print('Chunk of response data received:', len(event.data))\n",
    "            elif isinstance(event, StreamEnded):\n",
    "                print('Stream ended')\n",
    "                break\n",
    "\n",
    "    end_time = time.time()\n",
    "\n",
    "    writer.close()\n",
    "    await writer.wait_closed()\n",
    "\n",
    "    print(f\"Total response time: {end_time - start_time:.2f} seconds\")\n",
    "    print(f\"Total data received: {data_received} bytes\")\n",
    "    response_data = {\n",
    "        \"Total response time\": end_time - start_time,\n",
    "        \"Total data received\": data_received\n",
    "    }\n",
    "    analyze_results(\"Data Frame Test\", response_data)\n",
    "\n",
    "await test_data_frame_and_analyze()"
   ]
  },
  {
   "cell_type": "markdown",
   "id": "8d10eff2",
   "metadata": {},
   "source": [
    "# Settings Frame"
   ]
  },
  {
   "cell_type": "code",
   "execution_count": 15,
   "id": "a48c6492",
   "metadata": {},
   "outputs": [
    {
     "name": "stdout",
     "output_type": "stream",
     "text": [
      "Settings acknowledged by server\n",
      "Settings acknowledged by server\n",
      "Total time for settings acknowledgment: 0.29 seconds\n",
      "Raw Response Data: {'Total time for settings acknowledgment': 0.28667449951171875}\n"
     ]
    }
   ],
   "source": [
    "\n",
    "async def test_settings_frame_and_analyze():\n",
    "    ssl_context = ssl.create_default_context(purpose=ssl.Purpose.SERVER_AUTH)\n",
    "    ssl_context.set_alpn_protocols([\"h2\"])\n",
    "\n",
    "    host = 'nghttp2.org'\n",
    "    port = 443\n",
    "\n",
    "    reader, writer = await asyncio.open_connection(host, port, ssl=ssl_context)\n",
    "\n",
    "    config = H2Configuration(client_side=True)\n",
    "    conn = H2Connection(config=config)\n",
    "    conn.initiate_connection()\n",
    "    writer.write(conn.data_to_send())\n",
    "\n",
    "    # Sending a SETTINGS frame with custom settings (adjust as needed)\n",
    "    new_settings = {\n",
    "        SettingCodes.MAX_CONCURRENT_STREAMS: 10,\n",
    "    }\n",
    "    conn.update_settings(new_settings)\n",
    "    writer.write(conn.data_to_send())\n",
    "    await writer.drain()\n",
    "\n",
    "    start_time = time.time()\n",
    "\n",
    "    settings_acknowledged = False\n",
    "    while not settings_acknowledged:\n",
    "        data = await reader.read(4096)\n",
    "        if not data:\n",
    "            break\n",
    "\n",
    "        events = conn.receive_data(data)\n",
    "        for event in events:\n",
    "            if isinstance(event, SettingsAcknowledged):\n",
    "                settings_acknowledged = True\n",
    "                print(\"Settings acknowledged by server\")\n",
    "            elif isinstance(event, ResponseReceived):\n",
    "                print('Response headers:', event.headers)\n",
    "            elif isinstance(event, DataReceived):\n",
    "                print('Response data:', event.data)\n",
    "            elif isinstance(event, StreamEnded):\n",
    "                print('Stream ended')\n",
    "                break\n",
    "\n",
    "    end_time = time.time()\n",
    "\n",
    "    writer.close()\n",
    "    await writer.wait_closed()\n",
    "\n",
    "    print(f\"Total time for settings acknowledgment: {end_time - start_time:.2f} seconds\")\n",
    "    response_data = {\n",
    "        \"Total time for settings acknowledgment\": end_time - start_time\n",
    "    }\n",
    "    analyze_results(\"Settings Frame Test\", response_data)\n",
    "\n",
    "await test_settings_frame_and_analyze()"
   ]
  },
  {
   "cell_type": "markdown",
   "id": "dd9ce7e5",
   "metadata": {},
   "source": [
    "# Window_Updated Frame"
   ]
  },
  {
   "cell_type": "code",
   "execution_count": 16,
   "id": "4ff61935",
   "metadata": {
    "scrolled": true
   },
   "outputs": [
    {
     "name": "stdout",
     "output_type": "stream",
     "text": [
      "Response headers: [(b':status', b'200'), (b'date', b'Mon, 11 Dec 2023 02:30:25 GMT'), (b'content-type', b'text/html'), (b'last-modified', b'Fri, 27 Oct 2023 13:41:30 GMT'), (b'etag', b'\"653bbe0a-18b4\"'), (b'accept-ranges', b'bytes'), (b'content-length', b'6324'), (b'x-backend-header-rtt', b'0.002241'), (b'strict-transport-security', b'max-age=31536000'), (b'server', b'nghttpx'), (b'alt-svc', b'h3=\":443\"; ma=3600, h3-29=\":443\"; ma=3600'), (b'via', b'2 nghttpx'), (b'x-frame-options', b'SAMEORIGIN'), (b'x-xss-protection', b'1; mode=block'), (b'x-content-type-options', b'nosniff')]\n",
      "Response headers: [(b':status', b'200'), (b'date', b'Mon, 11 Dec 2023 02:30:25 GMT'), (b'content-type', b'text/css'), (b'last-modified', b'Fri, 27 Oct 2023 13:41:30 GMT'), (b'etag', b'\"653bbe0a-98aa\"'), (b'accept-ranges', b'bytes'), (b'content-length', b'39082'), (b'x-backend-header-rtt', b'0.001804'), (b'strict-transport-security', b'max-age=31536000'), (b'server', b'nghttpx'), (b'alt-svc', b'h3=\":443\"; ma=3600, h3-29=\":443\"; ma=3600'), (b'via', b'2 nghttpx'), (b'x-frame-options', b'SAMEORIGIN'), (b'x-xss-protection', b'1; mode=block'), (b'x-content-type-options', b'nosniff'), (b'x-http2-push', b'1')]\n",
      "Response data: b'\\n<!DOCTYPE html>\\n<!--[if IEMobile 7 ]><html class=\"no-js iem7\"><![endif]-->\\n<!--[if lt IE 9]><html class=\"no-js lte-ie8\"><![endif]-->\\n<!--[if (gt IE 8)|(gt IEMobile 7)|!(IEMobile)|!(IE)]><!--><html class=\"no-js\" lang=\"en\"><!--<![endif]-->\\n<head>\\n  <meta charset=\"utf-8\">\\n  <title>Nghttp2: HTTP/2 C Library - nghttp2.org</title>\\n  <meta name=\"author\" content=\"Tatsuhiro Tsujikawa\">\\n\\n  \\n  <meta name=\"description\" content=\"Nghttp2: HTTP/2 C Library Feb 16th, 2015 11:16 pm nghttp2 is an implementation of\\nHTTP/2 and its header\\ncompression algorithm HPACK in\\nC. The &hellip;\">\\n  \\n\\n  <!-- http://t.co/dKP3o1e -->\\n  <meta name=\"HandheldFriendly\" content=\"True\">\\n  <meta name=\"MobileOptimized\" content=\"320\">\\n  <meta name=\"viewport\" content=\"width=device-width, initial-scale=1\">\\n\\n  \\n  <link rel=\"canonical\" href=\"//nghttp2.org\">\\n  <link href=\"/favicon.png\" rel=\"icon\">\\n  <link href=\"/stylesheets/screen.css\" media=\"screen, projection\" rel=\"stylesheet\" type=\"text/css\">\\n  <link href=\"/atom.xml\" rel=\"alternate\" title=\"nghttp2.org\" type=\"application/atom+xml\">\\n  <script src=\"/javascripts/modernizr-2.0.js\"></script>\\n  <script src=\"//ajax.googleapis.com/ajax/libs/jquery/1.9.1/jquery.min.js\"></script>\\n  <script>!window.jQuery && document.write(unescape(\\'%3Cscript src=\"./javascripts/libs/jquery.min.js\"%3E%3C/script%3E\\'))</script>\\n  <script src=\"/javascripts/octopress.js\" type=\"text/javascript\"></script>\\n  <!--Fonts from Google\"s Web font directory at http://google.com/webfonts -->\\n<link href=\"//fonts.googleapis.com/css?family=PT+Serif:regular,italic,bold,bolditalic\" rel=\"stylesheet\" type=\"text/css\">\\n<link href=\"//fonts.googleapis.com/css?family=PT+Sans:regular,italic,bold,bolditalic\" rel=\"stylesheet\" type=\"text/css\">\\n\\n  \\n\\n</head>\\n\\n<body   >\\n  <header role=\"banner\"><hgroup>\\n  <h1><a href=\"/\">nghttp2.org</a></h1>\\n  \\n    <h2>HTTP/2 C library and tools</h2>\\n  \\n</hgroup>\\n\\n</header>\\n  <nav role=\"navigation\"><ul class=\"subscription\" data-subscription=\"rss\">\\n  <li><a href=\"/atom.xml\" rel=\"subscribe-rss\" title=\"subscribe via RSS\">RSS</a></li>\\n  \\n</ul>\\n  \\n<form action=\"https://www.google.com/search\" method=\"get\">\\n  <fieldset role=\"search\">\\n    <input type=\"hidden\" name=\"q\" value=\"site://nghttp2.org\" />\\n    <input class=\"search\" type=\"text\" name=\"q\" results=\"0\" placeholder=\"Search\"/>\\n  </fieldset>\\n</form>\\n  \\n<ul class=\"main-navigation\">\\n  <li><a href=\"/\">Top</a></li>\\n  <li><a href=\"/blog/\">Blog</a></li>\\n  <li><a href=\"/blog/archives\">Archives</a></li>\\n  <li><a href=\"/documentation/\">Documentation</a></li>\\n  <li><a href=\"/httpbin\">Httpbin</a></li>\\n  <li><a href=\"https://github.com/nghttp2/nghttp2/releases\">Releases</a></li>\\n  <li><a href=\"https://github.com/nghttp2/nghttp2\">Source Code</a></li>\\n</ul>\\n\\n</nav>\\n  <div id=\"main\">\\n    <div id=\"content\">\\n      <div>\\n<article role=\"article\">\\n  \\n  <header>\\n    <h1 class=\"entry-title\">Nghttp2: HTTP/2 C Library</h1>\\n    <p class=\"meta\">\\n\\n\\n\\n\\n<time class=\\'entry-date\\' datetime=\\'2015-02-16T23:16:00+09:00\\'><span class=\\'date\\'><span class=\\'date-month\\'>Feb</span> <span class=\\'date-day\\'>16</span><span class=\\'date-suffix\\'>th</span>, <span class=\\'date-year\\'>2015</span></span> <span class=\\'time\\'>11:16 pm</span></time></p>\\n  </header>\\n  \\n  <p>nghttp2 is an implementation of\\n<a href=\"https://tools.ietf.org/html/rfc7540\">HTTP/2</a> and its header\\ncompression algorithm <a href=\"https://tools.ietf.org/html/rfc7541\">HPACK</a> in\\nC.</p>\\n\\n<p>The framing layer of HTTP/2 is implemented as a form of reusable C\\nlibrary.  On top of that, we have implemented HTTP/2 <a href=\"/documentation/nghttp.1.html\">client</a>, <a href=\"/documentation/nghttpd.1.html\">server</a>\\nand <a href=\"/documentation/nghttpx.1.html\">proxy</a>.\\nWe have also developed <a href=\"/documentation/h2load.1.html\">load test and benchmarking tool</a> for HTTP/2.</p>\\n\\n<p>We have participated in httpbis working group since HTTP/2 draft-04,\\nwhich is the first implementation draft.  Since then we have updated\\nnghttp2 library constantly to latest specification and nghttp2 is now\\none of the most mature <a href=\"https://github.com/http2/http2-spec/wiki/Implementations\">HTTP/2 implementations</a>.</p>\\n\\n<p>All C APIs are <a href=\"/documentation/apiref.html\">fully documented</a>.</p>\\n\\n<p>HTTP/2 utilizes header compression method called <a href=\"https://tools.ietf.org/html/rfc7541\">HPACK</a>.  We offer\\nHPACK encoder and decoder are available as <a href=\"/documentation/tutorial-hpack.html\">public API</a>.</p>\\n\\n  \\n    <footer>\\n      <p class=\"meta\">\\n        \\n        \\n\\n\\n\\n\\n<time class=\\'entry-date\\' datetime=\\'2015-02-16T23:16:00+09:00\\'><span class=\\'date\\'><span class=\\'date-month\\'>Feb</span> <span class=\\'date-day\\'>16</span><span class=\\'date-suffix\\'>th</span>, <span class=\\'date-year\\'>2015</span></span> <span class=\\'time\\'>11:16 pm</span></time>\\n        \\n      </p>\\n      \\n        <div class=\"sharing\">\\n  \\n  <a href=\"//twitter.com/share\" class=\"twitter-share-button\" data-url=\"//nghttp2.org/index.html\" data-via=\"\" data-counturl=\"//nghttp2.org/index.html\" >Tweet</a>\\n  \\n  \\n  \\n</div>\\n\\n      \\n    </footer>\\n  \\n</article>\\n\\n</div>\\n\\n<aside class=\"sidebar\">\\n  \\n    <section>\\n  <h1>Recent Posts</h1>\\n  <ul id=\"recent_posts\">\\n    \\n      <li class=\"post\">\\n        <a href=\"/blog/2023/10/27/nghttp2-v1-58-0/\">Nghttp2 v1.58.0</a>\\n      </li>\\n    \\n      <li class=\"post\">\\n        <a href=\"/blog/2023/10/10/nghttp2-v1-57-0/\">Nghttp2 v1.57.0</a>\\n      </li>\\n    \\n      <li class=\"post\">\\n        <a href=\"/blog/2023/09/04/nghttp2-v1-56-0/\">Nghttp2 v1.56.0</a>\\n      </li>\\n    \\n      <li class=\"post\">\\n        <a href=\"/blog/2023/07/14/nghttp2-v1-55-1/\">Nghttp2 v1.55.1</a>\\n      </li>\\n    \\n      <li class=\"post\">\\n        <a href=\"/blog/2023/07/12/nghttp2-v1-55-0/\">Nghttp2 v1.55.0</a>\\n      </li>\\n    \\n  </ul>\\n</section>\\n\\n\\n\\n\\n\\n  \\n</aside>\\n\\n\\n    </div>\\n  </div>\\n  <footer role=\"contentinfo\"><p>\\n  Copyright &copy; 2023 - Tatsuhiro Tsujikawa -\\n  <span class=\"credit\">Powered by <a href=\"http://octopress.org\">Octopress</a></span>\\n</p>\\n\\n</footer>\\n  \\n\\n\\n\\n\\n\\n\\n\\n  <script type=\"text/javascript\">\\n    (function(){\\n      var twitterWidgets = document.createElement(\\'script\\');\\n      twitterWidgets.type = \\'text/javascript\\';\\n      twitterWidgets.async = true;\\n      twitterWidgets.src = \\'//platform.twitter.com/widgets.js\\';\\n      document.getElementsByTagName(\\'head\\')[0].appendChild(twitterWidgets);\\n    })();\\n  </script>\\n\\n\\n\\n\\n\\n</body>\\n</html>\\n'\n",
      "Stream ended\n",
      "Response data: b'html,body,div,span,applet,object,iframe,h1,h2,h3,h4,h5,h6,p,blockquote,pre,a,abbr,acronym,address,big,cite,code,del,dfn,em,img,ins,kbd,q,s,samp,small,strike,strong,sub,sup,tt,var,b,u,i,center,dl,dt,dd,ol,ul,li,fieldset,form,label,legend,table,caption,tbody,tfoot,thead,tr,th,td,article,aside,canvas,details,embed,figure,figcaption,footer,header,hgroup,menu,nav,output,ruby,section,summary,time,mark,audio,video{margin:0;padding:0;border:0;font:inherit;font-size:100%;vertical-align:baseline}html{line-height:1}ol,ul{list-style:none}table{border-collapse:collapse;border-spacing:0}caption,th,td{text-align:left;font-weight:normal;vertical-align:middle}q,blockquote{quotes:none}q:before,q:after,blockquote:before,blockquote:after{content:\"\";content:none}a img{border:none}article,aside,details,figcaption,figure,footer,header,hgroup,menu,nav,section,summary{display:block}a{color:#2aa198}a:visited{color:#2aa198}a:focus{color:#15e9d9}a:hover{color:#15e9d9}a:active{color:#0fa398}aside.sidebar a{color:#073642}aside.sidebar a:focus{color:#15e9d9}aside.sidebar a:hover{color:#15e9d9}aside.sidebar a:active{color:#0fa398}a{-webkit-transition:color 0.3s;-moz-transition:color 0.3s;-o-transition:color 0.3s;transition:color 0.3s}html{background:#002b36 url(\\'/images/line-tile.png?1413623488\\') top left}body>div{background:#f2f2f2 url(\\'/images/noise.png?1413623488\\') top left;border-bottom:1px solid #7d8d93}body>div>div{background:#fefcf6 url(\\'/images/noise.png?1413623488\\') top left;border-right:1px solid #e0e0e0}.heading,body>header h1,h1,h2,h3,h4,h5,h6{font-family:\"PT Serif\",\"Georgia\",\"Helvetica Neue\",Arial,sans-serif}.sans,body>header h2,article header p.meta,article>footer,#content .blog-index footer,html .gist .gist-file .gist-meta,#blog-archives a.category,#blog-archives time,aside.sidebar section,body>footer{font-family:\"PT Sans\",\"Helvetica Neue\",Arial,sans-serif}.serif,body,#content .blog-index a[rel=full-article]{font-family:\"PT Serif\",Georgia,Times,\"Times New Roman\",serif}.mono,pre,code,tt,p code,li code{font-family:Menlo,Monaco,\"Andale Mono\",\"lucida console\",\"Courier New\",monospace}body>header h1{font-size:2.2em;font-family:\"PT Serif\",\"Georgia\",\"Helvetica Neue\",Arial,sans-serif;font-weight:normal;line-height:1.2em;margin-bottom:0.6667em}body>header h2{font-family:\"PT Serif\",\"Georgia\",\"Helvetica Neue\",Arial,sans-serif}body{line-height:1.5em;color:#073642}h1{font-size:2.2em;line-height:1.2em}@media only screen and (min-width: 992px){body{font-size:1.15em}h1{font-size:2.6em;line-height:1.2em}}h1,h2,h3,h4,h5,h6{text-rendering:optimizelegibility;margin-bottom:1em;font-weight:bold}h2,section h1{font-size:1.5em}h3,section h2,section section h1{font-size:1.3em}h4,section h3,section section h2,section section section h1{font-size:1em}h5,section h4,section section h3{font-size:.9em}h6,section h5,section section h4,section section section h3{font-size:.8em}p,article blockquote,ul,ol{margin-bottom:1.5em}ul{list-style-type:disc}ul ul{list-style-type:circle;margin-bottom:0px}ul ul ul{list-style-type:square;margin-bottom:0px}ol{list-style-type:decimal}ol ol{list-style-type:lower-alpha;margin-bottom:0px}ol ol ol{list-style-type:lower-roman;margin-bottom:0px}ul,ul ul,ul ol,ol,ol ul,ol ol{margin-left:1.3em}ul ul,ul ol,ol ul,ol ol{margin-bottom:0em}strong{font-weight:bold}em{font-style:italic}sup,sub{font-size:0.75em;position:relative;display:inline-block;padding:0 .2em;line-height:.8em}sup{top:-.5em}sub{bottom:-.5em}a[rev=\\'footnote\\']{font-size:.75em;padding:0 .3em;line-height:1}q{font-style:italic}q:before{content:\"\\\\201C\"}q:after{content:\"\\\\201D\"}em,dfn{font-style:italic}strong,dfn{font-weight:bold}del,s{text-decoration:line-through}abbr,acronym{border-bottom:1px dotted;cursor:help}hr{margin-bottom:0.2em}small{font-size:.8em}big{font-size:1.2em}article blockquote{font-style:italic;position:relative;font-size:1.2em;line-height:1.5em;padding-left:1em;border-left:4px solid rgba(170,170,170,0.5)}article blockquote cite{font-style:italic}article blockquote cite a{color:#aaa !important;word-wrap:break-word}article blockquote cite:before{content:\\'\\\\2014\\';padding-right:.3em;padding-left:.3em;color:#aaa}@media only screen and (min-width: 992px){article blockquote{padding-left:1.5em;border-left-width:4px}}.pullquote-right:before,.pullquote-left:before{padding:0;border:none;content:attr(data-pullquote);float:right;width:45%;margin:.5em 0 1em 1.5em;position:relative;top:7px;font-size:1.4em;line-height:1.45em}.pullquote-left:before{float:left;margin:.5em 1.5em 1em 0}.force-wrap,article a,aside.sidebar a{white-space:-moz-pre-wrap;white-space:-pre-wrap;white-space:-o-pre-wrap;white-space:pre-wrap;word-wrap:break-word}.group,body>header,body>nav,body>footer,body #content>article,body #content>div>article,body #content>div>section,body div.pagination,aside.sidebar,#main,#content,.sidebar{*zoom:1}.group:after,body>header:after,body>nav:after,body>footer:after,body #content>article:after,body #content>div>section:after,body div.pagination:after,#main:after,#content:after,.sidebar:after{content:\"\";display:table;clear:both}body{-webkit-text-size-adjust:none;max-width:1200px;position:relative;margin:0 auto}body>header,body>nav,body>footer,body #content>article,body #content>div>article,body #content>div>section{padding-left:18px;padding-right:18px}@media only screen and (min-width: 480px){body>header,body>nav,body>footer,body #content>article,body #content>div>article,body #content>div>section{padding-left:25px;padding-right:25px}}@media only screen and (min-width: 768px){body>header,body>nav,body>footer,body #content>article,body #content>div>article,body #content>div>section{padding-left:35px;padding-right:35px}}@media only screen and (min-width: 992px){body>header,body>nav,body>footer,body #content>article,body #content>div>article,body #content>div>section{padding-left:55px;padding-right:55px}}body div.pagination{margin-left:18px;margin-right:18px}@media only screen and (min-width: 480px){body div.pagination{margin-left:25px;margin-right:25px}}@media only screen and (min-width: 768px){body div.pagination{margin-left:35px;margin-right:35px}}@media only screen and (min-width: 992px){body div.pagination{margin-left:55px;margin-right:55px}}body>header{font-size:1em;padding-top:1.5em;padding-bottom:1.5em}#content{overflow:hidden}#content>div,#content>article{width:100%}aside.sidebar{float:none;padding:0 18px 1px;background-color:#f7f7f7;border-top:1px solid #e0e0e0}.flex-content,article img,article video,article .flash-video,aside.sidebar img{max-width:100%;height:auto}.basic-alignment.left,article img.left,article video.left,article .left.flash-video,aside.sidebar img.left{float:left;margin-right:1.5em}.basic-alignment.right,article img.right,article video.right,article .right.flash-video,aside.sidebar img.right{float:right;margin-left:1.5em}.basic-alignment.center,article img.center,article video.center,article .center.flash-video,aside.sidebar img.center{display:block;margin:0 auto 1.5em}.basic-alignment.left,article img.left,article video.left,article .left.flash-video,aside.sidebar img.left,.basic-alignment.right,article img.right,article video.right,article .right.flash-video,aside.sidebar img.right{margin-bottom:.8em}.toggle-sidebar,.no-sidebar .toggle-sidebar{display:none}@media only screen and (min-width: 750px){body.sidebar-footer aside.sidebar{float:none;width:auto;clear:left;margin:0;padding:0 35px 1px;background-color:#f7f7f7;border-top:1px solid #eaeaea}body.sidebar-footer aside.sidebar section.odd,body.sidebar-footer aside.sidebar section.even{float:left;width:48%}body.sidebar-footer aside.sidebar section.odd{margin-left:0}body.sidebar-footer aside.sidebar section.even{margin-left:4%}body.sidebar-footer aside.sidebar.thirds section{width:30%;margin-left:5%}body.sidebar-footer aside.sidebar.thirds section.first{margin-left:0;clear:both}}body.sidebar-footer #content{margin-right:0px}body.sidebar-footer .toggle-sidebar{display:none}@media only screen and (min-width: 550px){body>header{font-size:1em}}@media only screen and (min-width: 750px){aside.sidebar{float:none;width:auto;clear:left;margin:0;padding:0 35px 1px;background-color:#f7f7f7;border-top:1px solid #eaeaea}aside.sidebar section.odd,aside.sidebar section.even{float:left;width:48%}aside.sidebar section.odd{margin-left:0}aside.sidebar section.even{margin-left:4%}aside.sidebar.thirds section{width:30%;margin-left:5%}aside.sidebar.thirds section.first{margin-left:0;clear:both}}@media only screen and (min-width: 768px){body{-webkit-text-size-adjust:auto}body>header{font-size:1.2em}#main{padding:0;margin:0 auto}#content{overflow:visible;margin-right:240px;position:relative}.no-sidebar #content{margin-right:0;border-right:0}.collapse-sidebar #content{margin-right:20px}#content>div,#content>article{padding-top:17.5px;padding-bottom:17.5px;float:left}aside.sidebar{width:210px;padding:0 15px 15px;background:none;clear:none;float:left;margin:0 -100% 0 0}aside.sidebar section{width:auto;margin-left:0}aside.sidebar section.odd,aside.sidebar section.even{float:none;width:auto;margin-left:0}.collapse-sidebar aside.sidebar{float:none;width:auto;clear:left;margin:0;padding:0 35px 1px;background-color:#f7f7f7;border-top:1px solid #eaeaea}.collapse-sidebar aside.sidebar section.odd,.collapse-sidebar aside.sidebar section.even{float:left;width:48%}.collapse-sidebar aside.sidebar section.odd{margin-left:0}.collapse-sidebar aside.sidebar section.even{margin-left:4%}.collapse-sidebar aside.sidebar.thirds section{width:30%;margin-left:5%}.collapse-sidebar aside.sidebar.thirds section.first{margin-left:0;clear:both}}@media only screen and (min-width: 992px){body>header{font-size:1.3em}#content{margin-right:300px}#content>div,#content>art'\n",
      "Response data: b'icle{padding-top:27.5px;padding-bottom:27.5px}aside.sidebar{width:260px;padding:1.2em 20px 20px}.collapse-sidebar aside.sidebar{padding-left:55px;padding-right:55px}}@media only screen and (min-width: 768px){ul,ol{margin-left:0}}body>header{background:#073642}body>header h1{display:inline-block;margin:0}body>header h1 a,body>header h1 a:visited,body>header h1 a:hover{color:#b58900;text-decoration:none}body>header h2{margin:.2em 0 0;font-size:1em;color:#eee8d5;font-weight:normal}body>nav{position:relative;background-color:#8b999e;background:url(\\'/images/noise.png?1413623488\\'),-webkit-gradient(linear, 50% 0%, 50% 100%, color-stop(0%, #a1adb1), color-stop(50%, #8b999e), color-stop(100%, #6d7e83));background:url(\\'/images/noise.png?1413623488\\'),-webkit-linear-gradient(#a1adb1,#8b999e,#6d7e83);background:url(\\'/images/noise.png?1413623488\\'),-moz-linear-gradient(#a1adb1,#8b999e,#6d7e83);background:url(\\'/images/noise.png?1413623488\\'),-o-linear-gradient(#a1adb1,#8b999e,#6d7e83);background:url(\\'/images/noise.png?1413623488\\'),linear-gradient(#a1adb1,#8b999e,#6d7e83);border-top:1px solid #b4bec1;border-bottom:1px solid #4d595c;padding-top:.35em;padding-bottom:.35em}body>nav form{-webkit-background-clip:padding;-moz-background-clip:padding;background-clip:padding-box;margin:0;padding:0}body>nav form .search{padding:.3em .5em 0;font-size:.85em;font-family:\"PT Sans\",\"Helvetica Neue\",Arial,sans-serif;line-height:1.1em;width:95%;-webkit-border-radius:0.5em;-moz-border-radius:0.5em;-ms-border-radius:0.5em;-o-border-radius:0.5em;border-radius:0.5em;-webkit-background-clip:padding;-moz-background-clip:padding;background-clip:padding-box;-webkit-box-shadow:#909ea3 0 1px;-moz-box-shadow:#909ea3 0 1px;box-shadow:#909ea3 0 1px;background-color:#b4bec1;border:1px solid #708186;color:#888}body>nav form .search:focus{color:#444;border-color:#80b1df;-webkit-box-shadow:#80b1df 0 0 4px,#80b1df 0 0 3px inset;-moz-box-shadow:#80b1df 0 0 4px,#80b1df 0 0 3px inset;box-shadow:#80b1df 0 0 4px,#80b1df 0 0 3px inset;background-color:#fff;outline:none}body>nav fieldset[role=search]{float:right;width:48%}body>nav fieldset.mobile-nav{float:left;width:48%}body>nav fieldset.mobile-nav select{width:100%;font-size:.8em;border:1px solid #888}body>nav ul{display:none}@media only screen and (min-width: 550px){body>nav{font-size:.9em}body>nav ul{margin:0;padding:0;border:0;overflow:hidden;*zoom:1;float:left;display:block;padding-top:.15em}body>nav ul li{list-style-image:none;list-style-type:none;margin-left:0;white-space:nowrap;display:inline;float:left;padding-left:0;padding-right:0}body>nav ul li:first-child,body>nav ul li.first{padding-left:0}body>nav ul li:last-child{padding-right:0}body>nav ul li.last{padding-right:0}body>nav ul.subscription{margin-left:.8em;float:right}body>nav ul.subscription li:last-child a{padding-right:0}body>nav ul li{margin:0}body>nav a{color:#073642;font-family:\"PT Sans\",\"Helvetica Neue\",Arial,sans-serif;text-shadow:#acb7ba 0 1px;float:left;text-decoration:none;font-size:1.1em;padding:.1em 0;line-height:1.5em}body>nav a:visited{color:#073642}body>nav a:hover{color:#000}body>nav li+li{border-left:1px solid #6d7e83;margin-left:.8em}body>nav li+li a{padding-left:.8em;border-left:1px solid #9eaaae}body>nav form{float:right;text-align:left;padding-left:.8em;width:175px}body>nav form .search{width:93%;font-size:.95em;line-height:1.2em}body>nav ul[data-subscription$=email]+form{width:97px}body>nav ul[data-subscription$=email]+form .search{width:91%}body>nav fieldset.mobile-nav{display:none}body>nav fieldset[role=search]{width:99%}}@media only screen and (min-width: 992px){body>nav form{width:215px}body>nav ul[data-subscription$=email]+form{width:147px}}.no-placeholder body>nav .search{background:#b4bec1 url(\\'/images/search.png?1413623488\\') 0.3em 0.25em no-repeat;text-indent:1.3em}@media only screen and (min-width: 550px){.maskImage body>nav ul[data-subscription$=email]+form{width:123px}}@media only screen and (min-width: 992px){.maskImage body>nav ul[data-subscription$=email]+form{width:173px}}.maskImage ul.subscription{position:relative;top:.2em}.maskImage ul.subscription li,.maskImage ul.subscription a{border:0;padding:0}.maskImage a[rel=subscribe-rss]{position:relative;top:0px;text-indent:-999999em;background-color:#9eaaae;border:0;padding:0}.maskImage a[rel=subscribe-rss],.maskImage a[rel=subscribe-rss]:after{-webkit-mask-image:url(\\'/images/rss.png?1413623488\\');-moz-mask-image:url(\\'/images/rss.png?1413623488\\');-ms-mask-image:url(\\'/images/rss.png?1413623488\\');-o-mask-image:url(\\'/images/rss.png?1413623488\\');mask-image:url(\\'/images/rss.png?1413623488\\');-webkit-mask-repeat:no-repeat;-moz-mask-repeat:no-repeat;-ms-mask-repeat:no-repeat;-o-mask-repeat:no-repeat;mask-repeat:no-repeat;width:22px;height:22px}.maskImage a[rel=subscribe-rss]:after{content:\"\";position:absolute;top:-1px;left:0;background-color:#1394b5}.maskImage a[rel=subscribe-rss]:hover:after{background-color:#11819e}.maskImage a[rel=subscribe-email]{position:relative;top:0px;text-indent:-999999em;background-color:#9eaaae;border:0;padding:0}.maskImage a[rel=subscribe-email],.maskImage a[rel=subscribe-email]:after{-webkit-mask-image:url(\\'/images/email.png?1413623488\\');-moz-mask-image:url(\\'/images/email.png?1413623488\\');-ms-mask-image:url(\\'/images/email.png?1413623488\\');-o-mask-image:url(\\'/images/email.png?1413623488\\');mask-image:url(\\'/images/email.png?1413623488\\');-webkit-mask-repeat:no-repeat;-moz-mask-repeat:no-repeat;-ms-mask-repeat:no-repeat;-o-mask-repeat:no-repeat;mask-repeat:no-repeat;width:28px;height:22px}.maskImage a[rel=subscribe-email]:after{content:\"\";position:absolute;top:-1px;left:0;background-color:#1394b5}.m'\n",
      "Response data: b'askImage a[rel=subscribe-email]:hover:after{background-color:#11819e}article{padding-top:1em}article header{position:relative;padding-top:2em;padding-bottom:1em;margin-bottom:1em;background:url(\\'data:image/png;base64,iVBORw0KGgoAAAANSUhEUgAAACgAAAABCAYAAACsXeyTAAAACXBIWXMAAAsTAAALEwEAmpwYAAAAFUlEQVQIHWNIS0sr/v//PwMMDzY+ADqMahlW4J91AAAAAElFTkSuQmCC\\') bottom left repeat-x}article header h1{margin:0}article header h1 a{text-decoration:none}article header h1 a:hover{text-decoration:underline}article header p{font-size:.9em;color:#aaa;margin:0}article header p.meta{text-transform:uppercase;position:absolute;top:0}@media only screen and (min-width: 768px){article header{margin-bottom:1.5em;padding-bottom:1em;background:url(\\'data:image/png;base64,iVBORw0KGgoAAAANSUhEUgAAACgAAAABCAYAAACsXeyTAAAACXBIWXMAAAsTAAALEwEAmpwYAAAAFUlEQVQIHWNIS0sr/v//PwMMDzY+ADqMahlW4J91AAAAAElFTkSuQmCC\\') bottom left repeat-x}}article h2{padding-top:0.8em;background:url(\\'data:image/png;base64,iVBORw0KGgoAAAANSUhEUgAAACgAAAABCAYAAACsXeyTAAAACXBIWXMAAAsTAAALEwEAmpwYAAAAFUlEQVQIHWNIS0sr/v//PwMMDzY+ADqMahlW4J91AAAAAElFTkSuQmCC\\') top left repeat-x}.entry-content article h2:first-child,article header+h2{padding-top:0}article h2:first-child,article header+h2{background:none}article .feature{padding-top:.5em;margin-bottom:1em;padding-bottom:1em;background:url(\\'data:image/png;base64,iVBORw0KGgoAAAANSUhEUgAAACgAAAABCAYAAACsXeyTAAAACXBIWXMAAAsTAAALEwEAmpwYAAAAFUlEQVQIHWNIS0sr/v//PwMMDzY+ADqMahlW4J91AAAAAElFTkSuQmCC\\') bottom left repeat-x;font-size:2.0em;font-style:italic;line-height:1.3em}article img,article video,article .flash-video{-webkit-border-radius:0.3em;-moz-border-radius:0.3em;-ms-border-radius:0.3em;-o-border-radius:0.3em;border-radius:0.3em;-webkit-box-shadow:rgba(0,0,0,0.15) 0 1px 4px;-moz-box-shadow:rgba(0,0,0,0.15) 0 1px 4px;box-shadow:rgba(0,0,0,0.15) 0 1px 4px;-webkit-box-sizing:border-box;-moz-box-sizing:border-box;box-sizing:border-box;border:#fff 0.5em solid}article video,article .flash-video{margin:0 auto 1.5em}article video{display:block;width:100%}article .flash-video>div{position:relative;display:block;padding-bottom:56.25%;padding-top:1px;height:0;overflow:hidden}article .flash-video>div iframe,article .flash-video>div object,article .flash-video>div embed{position:absolute;top:0;left:0;width:100%;height:100%}article>footer{padding-bottom:2.5em;margin-top:2em}article>footer p.meta{margin-bottom:.8em;font-size:.85em;clear:both;overflow:hidden}.blog-index article+article{background:url(\\'data:image/png;base64,iVBORw0KGgoAAAANSUhEUgAAACgAAAABCAYAAACsXeyTAAAACXBIWXMAAAsTAAALEwEAmpwYAAAAFUlEQVQIHWNIS0sr/v//PwMMDzY+ADqMahlW4J91AAAAAElFTkSuQmCC\\') top left repeat-x}#content .blog-index{padding-top:0;padding-bottom:0}#content .blog-index article{padding-top:2em}#content .blog-index article header{background:none;padding-bottom:0}#content .blog-index article h1{font-size:2.2em}#content .blog-index article h1 a{color:inherit}#content .blog-index article h1 a:hover{color:#15e9d9}#content .blog-index a[rel=full-article]{background:#fdf4de;display:inline-block;padding:.4em .8em;margin-right:.5em;text-decoration:none;color:#587076;-webkit-transition:background-color 0.5s;-moz-transition:background-color 0.5s;-o-transition:background-color 0.5s;transition:background-color 0.5s}#content .blog-index a[rel=full-article]:hover{background:#15e9d9;text-shadow:none;color:#fefcf6}#content .blog-index footer{margin-top:1em}.separator,article>footer .byline+time:before,article>footer time+time:before,article>footer .comments:before,article>footer .byline ~ .categories:before{content:\"\\\\2022 \";padding:0 .4em 0 .2em;display:inline-block}#content div.pagination{text-align:center;font-size:.95em;position:relative;background:url(\\'data:image/png;base64,iVBORw0KGgoAAAANSUhEUgAAACgAAAABCAYAAACsXeyTAAAACXBIWXMAAAsTAAALEwEAmpwYAAAAFUlEQVQIHWNIS0sr/v//PwMMDzY+ADqMahlW4J91AAAAAElFTkSuQmCC\\') top left repeat-x;padding-top:1.5em;padding-bottom:1.5em}#content div.pagination a{text-decoration:none;color:#aaa}#content div.pagination a.prev{position:absolute;left:0}#content div.pagination a.next{position:absolute;right:0}#content div.pagination a:hover{color:#15e9d9}#content div.pagination a[href*=archive]:before,#content div.pagination a[href*=archive]:after{content:\\'\\\\2014\\';padding:0 .3em}p.meta+.sharing{padding-top:1em;padding-left:0;background:url(\\'data:image/png;base64,iVBORw0KGgoAAAANSUhEUgAAACgAAAABCAYAAACsXeyTAAAACXBIWXMAAAsTAAALEwEAmpwYAAAAFUlEQVQIHWNIS0sr/v//PwMMDzY+ADqMahlW4J91AAAAAElFTkSuQmCC\\') top left repeat-x}#fb-root{display:none}.highlight,html .gist .gist-file .gist-syntax .gist-highlight{border:1px solid #e7dec3 !important}.highlight table td.code,html .gist .gist-file .gist-syntax .gist-highlight table td.code{width:100%}.highlight .line-numbers,html .gist .gist-file .gist-syntax .highlight .line_numbers{text-align:right;font-size:13px;line-height:1.45em;background:#fdf8e8 url(\\'/images/noise.png?1413623488\\') top left !important;border-right:1px solid #ebe4ce !important;-webkit-box-shadow:#fef9ed -1px 0 inset;-moz-box-shadow:#fef9ed -1px 0 inset;box-shadow:#fef9ed -1px 0 inset;text-shadow:#f1ecdc 0 -1px;padding:.8em !important;-webkit-border-radius:0;-moz-border-radius:0;-ms-border-radius:0;-o-border-radius:0;border-radius:0}.highlight .line-numbers span,html .gist .gist-file .gist-syntax .highlight .line_numbers span{color:#93a1a1 !important}figure.code,.gist-file,pre{-webkit-box-shadow:rgba(0,0,0,0.06) 0 0 10px;-moz-box-shadow:rgba(0,0,0,0.06) 0 0 10px;box-shadow:rgba(0,0,0,0.06) 0 0 10px}figure.code .highlight pre,.gist-file .highlight pre,pre .highlight pre{-webkit-box-shadow:none;-moz-box-shadow:none;box-shadow:none}.gist .highlight *::-moz-selection,figure.code .highlight *::-moz-selection{background:#fff;color:inherit;text-shadow:#fdf6e3 0 1px}.gist .highlight *::-webkit-selection,figure.code .highlight *::-webkit-selection{background:#fff;color:inherit;text-shadow:#fdf6e3 0 1px}.gist .highlight *::selection,figure.code .highlight *::selection{background:#fff;color:inherit;text-shadow:#fdf6e3 0 1px}html .gist .gist-file{margin-bottom:1.8em;position:relative;border:none;padding-top:26px !important}html .gist .gist-file .highlight{margin-bottom:0}html .gist .gist-file .gist-syntax{border-bottom:0 !important;background:none !important}html .gist .gist-file .gist-syntax .gist-highlight{background:#fdf6e3 !important}html .gist .gist-file .gist-syntax .highlight pre{padding:0}html .gist .gist-file .gist-meta{padding:.6em 0.8em;border:1px solid #f1ecdc !important;color:#93a1a1;font-size:.7em !important;background:#fef9ed url(\\'/images/noise.png?1413623488\\') top left;border:1px solid #e7dec3 !important;border-top:1px solid #fef9ed !important;line-height:1.5em}html .gist .gist-file .gist-meta a{color:#75878b !important;text-decoration:none}html .gist .gist-file .gist-meta a:hover{text-decoration:underline}html .gist .gist-file .gist-meta a:hover{color:#586e75 !important}html .gist .gist-file .gist-meta a[href*=\\'#file\\']{position:absolute;top:0;left:0;right:-10px;color:#474747 !important}html .gist .gist-file .gist-meta a[href*=\\'#file\\']:hover{color:#2aa198 !important}html .gist .gist-file .gist-meta a[href*=raw]{top:.4em}pre{background:#fdf6e3 url(\\'/images/noise.png?1413623488\\') top left;-webkit-border-radius:0.4em;-moz-border-radius:0.4em;-ms-border-radius:0.4em;-o-border-radius:0.4em;border-radius:0.4em;border:1px solid #e7dec3;line-height:1.45em;font-size:13px;margin-bottom:2.1em;padding:.8em 1em;color:#586e75;overflow:auto}h3.filename+pre{-moz-border-radius-topleft:0px;-webkit-border-top-left-radius:0px;border-top-left-radius:0px;-moz-border-radius-topright:0px;-webkit-border-top-right-radius:0px;border-top-right-radius:0px}p code,li code{display:inline-block;white-space:no-wrap;background:#fff;font-size:.8em;line-height:1.5em;color:#555;border:1px solid #ddd;-webkit-border-radius:0.4em;-moz-border-radius:0.4em;-ms-border-radius:0.4em;-o-border-radius:0.4em;border-radius:0.4em;padding:0 .3em;margin:-1px 0}p pre code,li pre code{font-size:1em !important;background:none;border:none}.pre-code,html .gist .gist-file .gist-syntax .highlight pre,.highlight code{font-family:Menlo,Monaco,\"Andale Mono\",\"lucida console\",\"Courier New\",monospace !important;overflow:scroll;overflow-y:hidden;display:block;padding:.8em;overflow-x:auto;line-height:1.45em;background:#fdf6e3 url(\\'/images/noise.png?1413623488\\') top left !important;color:#586e75 !important}.pre-code span,html .gist .gist-file .gist-syntax .highlight pre span,.highlight code span{color:#586e75 !important}.pre-code span,html .gist .gist-file .gist-syntax .highlight pre span,.highlight code span{font-style:normal !important;font-weight:normal !important}.pre-code .c,html .gist .gist-file .gist-syntax .highlight pre .c,.highlight code .c{color:#93a1a1 !important;font-style:italic !important}.pre-code .cm,html .gist .gist-file .gist-syntax .highlight pre .cm,.highlight code .cm{color:#93a1a1 !important;font-style:italic !important}.pre-code .cp,html .gist .gist-file .gist-syntax .highlight pre .cp,.highlight code .cp{color:#93a1a1 !important;font-style:italic !important}.pre-code .c1,html .gist .gist-file .gist-syntax .highlight pre .c1,.highlight code .c1{color:#93a1a1 !important;font-style:italic !important}.pre-code .cs,html .gist .gist-file .gist-syntax .highlight pre .cs,.highlight code .cs{color:#93a1a1 !important;font-weight:bold !important;font-style:italic !important}.pre-code .err,html .gist .gist-file .gist-syntax .highlight pre .err,.highlight code .err{color:#dc322f !important;background:none !important}.pre-code .k,html .gist .gist-file .gist-syntax .highlight pre .k,.highlight code .k{color:#cb4b16 !important}.pre-code .o,html .gist .gist-file .gist-syntax .highlight pre .o,.highlight code .o{color:#586e75 !important;font-weight:bold !important}.pre-code .p,html .gist .gist-file .gist-syntax .highlight pre .p,.highlight code .p{color:#586e75 !important}.pre-code .ow,html .gist .gist-file .gist-syntax .highlight pre .ow,.highlight code .ow{color:#2aa198 !important;font-weight:bold !important}.pre-code .gd,html .gist .gist-file .gist-syntax .highlight pre .gd,.highlight code .gd{color:#586e75 !important;background-color:#f4c5b6 !important;display:inline-block}.pre-code .gd .x,html .gist .gist-file .gist-syntax .highlight pre .gd .x,.highlight code .gd .x{color:#586e75 !important;background-color:#f1b1a4 !important;display:inline-block}.pre-code .ge,html .gist .gist-file .gist-syntax .highlight pre .ge,.highlight code .ge{color:#586e75 !important;font-style:italic !important}.pre-code .gh,html .gist .gist-file .gist-syntax .highlight pre .gh,.highlight code .gh{color:#93a1a1 !important}.pre-code .gi,html .gist .gist-file .gist-syntax .highlight pre .gi,.highlight code .gi{color:#586e75 !important;background-color:#e5e3b5 !important;display:inline-block}.pre-code .gi .x,html .gist .gist-file .gist-syntax .highlight pre .gi .x,.highlight code .gi .x{color:#586e75 !important;background-color:#cdd088 !important;display:inline-block}.pre-code .gs,html .gist .gist-file .gist-syntax .highlight pre .gs,.highlight code .gs{color:#586e75 !important;font-weight:bold !important}.pre-code .gu,html .gist .gist-file .gist-syntax .highlight pre .gu,.highlight code .gu{color:#6c71c4 !important}.pre-code .kc,html .gist .gist-file .'\n",
      "Response data: b'gist-syntax .highlight pre .kc,.highlight code .kc{color:#859900 !important;font-weight:bold !important}.pre-code .kd,html .gist .gist-file .gist-syntax .highlight pre .kd,.highlight code .kd{color:#268bd2 !important}.pre-code .kp,html .gist .gist-file .gist-syntax .highlight pre .kp,.highlight code .kp{color:#cb4b16 !important;font-weight:bold !important}.pre-code .kr,html .gist .gist-file .gist-syntax .highlight pre .kr,.highlight code .kr{color:#d33682 !important;font-weight:bold !important}.pre-code .kt,html .gist .gist-file .gist-syntax .highlight pre .kt,.highlight code .kt{color:#2aa198 !important}.pre-code .n,html .gist .gist-file .gist-syntax .highlight pre .n,.highlight code .n{color:#268bd2 !important}.pre-code .na,html .gist .gist-file .gist-syntax .highlight pre .na,.highlight code .na{color:#268bd2 !important}.pre-code .nb,html .gist .gist-file .gist-syntax .highlight pre .nb,.highlight code .nb{color:#859900 !important}.pre-code .nc,html .gist .gist-file .gist-syntax .highlight pre .nc,.highlight code .nc{color:#d33682 !important}.pre-code .no,html .gist .gist-file .gist-syntax .highlight pre .no,.highlight code .no{color:#b58900 !important}.pre-code .nl,html .gist .gist-file .gist-syntax .highlight pre .nl,.highlight code .nl{color:#859900 !important}.pre-code .ne,html .gist .gist-file .gist-syntax .highlight pre .ne,.highlight code .ne{color:#268bd2 !important;font-weight:bold !important}.pre-code .nf,html .gist .gist-file .gist-syntax .highlight pre .nf,.highlight code .nf{color:#268bd2 !important;font-weight:bold !important}.pre-code .nn,html .gist .gist-file .gist-syntax .highlight pre .nn,.highlight code .nn{color:#b58900 !important}.pre-code .nt,html .gist .gist-file .gist-syntax .highlight pre .nt,.highlight code .nt{color:#268bd2 !important;font-weight:bold !important}.pre-code .nx,html .gist .gist-file .gist-syntax .highlight pre .nx,.highlight code .nx{color:#b58900 !important}.pre-code .vg,html .gist .gist-file .gist-syntax .highlight pre .vg,.highlight code .vg{color:#268bd2 !important}.pre-code .vi,html .gist .gist-file .gist-syntax .highlight pre .vi,.highlight code .vi{color:#268bd2 !important}.pre-code .nv,html .gist .gist-file .gist-syntax .highlight pre .nv,.highlight code .nv{color:#268bd2 !important}.pre-code .mf,html .gist .gist-file .gist-syntax .highlight pre .mf,.highlight code .mf{color:#2aa198 !important}.pre-code .m,html .gist .gist-file .gist-syntax .highlight pre .m,.highlight code .m{color:#2aa198 !important}.pre-code .mh,html .gist .gist-file .gist-syntax .highlight pre .mh,.highlight code .mh{color:#2aa198 !important}.pre-code .mi,html .gist .gist-file .gist-syntax .highlight pre .mi,.highlight code .mi{color:#2aa198 !important}.pre-code .s,html .gist .gist-file .gist-syntax .highlight pre .s,.highlight code .s{color:#2aa198 !important}.pre-code .sd,html .gist .gist-file .gist-syntax .highlight pre .sd,.highlight code .sd{color:#2aa198 !important}.pre-code .s2,html .gist .gist-file .gist-syntax .highlight pre .s2,.highlight code .s2{color:#2aa198 !important}.pre-code .se,html .gist .gist-file .gist-syntax .highlight pre .se,.highlight code .se{color:#dc322f !important}.pre-code .si,html .gist .gist-file .gist-syntax .highlight pre .si,.highlight code .si{color:#268bd2 !important}.pre-code .sr,html .gist .gist-file .gist-syntax .highlight pre .sr,.highlight code .sr{color:#2aa198 !important}.pre-code .s1,html .gist .gist-file .gist-syntax .highlight pre .s1,.highlight code .s1{color:#2aa198 !important}.pre-code div .gd,html .gist .gist-file .gist-syntax .highlight pre div .gd,.highlight code div .gd,.pre-code div .gd .x,html .gist .gist-file .gist-syntax .highlight pre div .gd .x,.highlight code div .gd .x,.pre-code div .gi,html .gist .gist-file .gist-syntax .highlight pre div .gi,.highlight code div .gi,.pre-code div .gi .x,html .gist .gist-file .gist-syntax .highlight pre div .gi .x,.highlight code div .gi .x{display:inline-block;width:100%}.highlight,.gist-highlight{margin-bottom:1.8em;background:#fdf6e3;overflow-y:hidden;overflow-x:auto}.highlight pre,.gist-highlight pre{background:none;-webkit-border-radius:0px;-moz-border-radius:0px;-ms-border-radius:0px;-o-border-radius:0px;border-radius:0px;border:none;padding:0;margin-bottom:0}pre::-webkit-scrollbar,.highlight::-webkit-scrollbar,.gist-highlight::-webkit-scrollbar{height:.5em;background:rgba(0,0,0,0.15)}pre::-webkit-scrollbar-thumb:horizontal,.highlight::-webkit-scrollbar-thumb:horizontal,.gist-highlight::-webkit-scrollbar-thumb:horizontal{background:rgba(0,0,0,0.15);-webkit-border-radius:4px;border-radius:4px}.highlight code{background:#000}figure.code{background:none;padding:0;border:0;margin-bottom:1.5em}figure.code pre{margin-bottom:0}figure.code figcaption{position:relative}figure.code .highlight{margin-bottom:0}.code-title,html .gist .gist-file .gist-meta a[href*=\\'#file\\'],h3.filename,figure.code figcaption{text-align:center;font-size:13px;line-height:2em;text-shadow:#cbcccc 0 1px 0;color:#474747;font-weight:normal;margin-bottom:0;-moz-border-radius-topleft:5px;-webkit-border-top-left-radius:5px;border-top-left-radius:5px;-moz-border-radius-topright:5px;-webkit-border-top-right-radius:5px;border-top-right-radius:5px;font-family:\"Helvetica Neue\", Arial, \"Lucida Grande\", \"Lucida Sans Unicode\", Lucida, sans-serif;background:#aaa url(\\'/images/code_bg.png?1413623488\\') top repeat-x;border:1px solid #565656;border-top-color:#cbcbcb;border-left-color:#a5a5a5;border-right-color:#a5a5a5;border-bottom:0}.download-source,html .gist .gist-file .gist-meta a[href*=raw],figure.code figcaption a{position:absolute;right:.8em;text-decoration:none;color:#666 !important;z-index:1;font-size:13px;text-shadow:#cbcccc 0 1px 0;padding-left:3em}.download-source:hover,html .gist .gist-file .gist-meta a[href*=raw]:hover,figure.code figcaption a:hover{text-decoration:underline}#archive #content>div,#archive #content>div>article{padding-top:0}#blog-archives{color:#aaa}#blog-archives article{padding:1em 0 1em;position:relative;background:url(\\'data:image/png;base64,iVBORw0KGgoAAAANSUhEUgAAACgAAAABCAYAAACsXeyTAAAACXBIWXMAAAsTAAALEwEAmpwYAAAAFUlEQVQIHWNIS0sr/v//PwMMDzY+ADqMahlW4J91AAAAAElFTkSuQmCC\\') bottom left repeat-x}#blog-archives article:last-child{background:none}#blog-archives article footer{padding:0;margin:0}#blog-archives h1{color:#073642;margin-bottom:.3em}#blog-archives h2{display:none}#blog-archives h1{font-size:1.5em}#blog-archives h1 a{text-decoration:none;color:inherit;font-weight:normal;display:inline-block}#blog-archives h1 a:hover{text-decoration:underline}#blog-archives h1 a:hover{color:#15e9d9}#blog-archives a.category,#blog-archives time{color:#aaa}#blog-archives .entry-content{display:none}#blog-archives time{font-size:.9em;line-height:1.2em}#blog-archives time .month,#blog-archives time .day{display:inline-block}#blog-archives time .month{text-transform:uppercase}#blog-archives p{margin-bottom:1em}#blog-archives a,#blog-archives .entry-content a{color:inherit}#blog-archives a:hover,#blog-archives .entry-content a:hover{color:#15e9d9}#blog-archives a:hover{color:#15e9d9}@media only screen and (min-width: 550px){#blog-archives article{margin-left:5em}#blog-archives h2{margin-bottom:.3em;font-weight:normal;display:inline-block;position:relative;top:-1px;float:left}#blog-archives h2:first-child{padding-top:.75em}#blog-archives time{position:absolute;text-align:right;left:0em;top:1.8em}#blog-archives .year{display:none}#blog-archives article{padding-left:4.5em;padding-bottom:.7em}#blog-archives a.category{line-height:1.1em}}#content>.category article{margin-left:0;padding-left:6.8em}#content>.category .year{display:inline}.side-shadow-border,aside.sidebar section h1,aside.sidebar li{-webkit-box-shadow:#fff 0 1px;-moz-box-shadow:#fff 0 1px;box-shadow:#fff 0 1px}aside.sidebar{overflow:hidden;color:#4d4d4d;text-shadow:#fff 0 1px}aside.sidebar section{font-size:.8em;line-height:1.4em;margin-bottom:1.5em}aside.sidebar section h1{margin:1.5em 0 0;padding-bottom:.2em;border-bottom:1px solid #e0e0e0}aside.sidebar section h1+p{padding-top:.4em}aside.sidebar img{-webkit-border-radius:0.3em;-moz-border-radius:0.3em;-ms-border-radius:0.3em;-o-border-radius:0.3em;border-radius:0.3em;-webkit-box-shadow:rgba(0,0,0,0.15) 0 1px 4px;-moz-box-shadow:rgba(0,0,0,0.15) 0 1px 4px;box-shadow:rgba(0,0,0,0.15) 0 1px 4px;-webkit-box-sizing:border-box;-moz-box-sizing:border-box;box-sizing:border-box;border:#fff 0.3em solid}aside.sidebar ul{margin-bottom:0.5em;margin-left:0}aside.sidebar li{list-style:none;padding:.5em 0;margin:0;border-bottom:1px solid #e0e0e0}aside.sidebar li p:last-child{margin-bottom:0}aside.sidebar a{color:inherit;-webkit-transition:color 0.5s;-moz-transition:color 0.5s;-o-transition:color 0.5s;transition:color 0.5s}aside.sidebar:hover a{color:#073642}aside.sidebar:hover a:hover{color:#15e9d9}.aside-alt-link,#pinboard_linkroll .pin-tag{color:gray}.aside-alt-link:hover,#pinboard_linkroll .pin-tag:hover{color:#15e9d9}@media only screen and (min-width: 768px){.toggle-sidebar{outline:none;position:absolute;right:-10px;top:0;bottom:0;display:inline-block;text-decoration:none;color:#cecece;width:9px;cursor:pointer}.toggle-sidebar:hover{background:#e9e9e9;background:-webkit-gradient(linear, 0% 50%, 100% 50%, color-stop(0%, rgba(224,224,224,0.5)), color-stop(100%, rgba(224,224,224,0)));background:-webkit-linear-gradient(left, rgba(224,224,224,0.5),rgba(224,224,224,0));background:-moz-linear-gradient(left, rgba(224,224,224,0.5),rgba(224,224,224,0));background:-o-linear-gradient(left, rgba(224,224,224,0.5),rgba(224,224,224,0));background:linear-gradient(left, rgba(224,224,224,0.5),rgba(224,224,224,0))}.toggle-sidebar:after{position:absolute;right:-11px;top:0;width:20px;font-size:1.2em;line-height:1.1em;padding-bottom:.15em;-moz-border-radius-bottomright:0.3em;-webkit-border-bottom-right-radius:0.3em;border-bottom-right-radius:0.3em;text-align:center;background:#fefcf6 url(\\'/images/noise.png?1413623488\\') top left;border-bottom:1px solid #e0e0e0;border-right:1px solid #e0e0e0;content:\"\\\\00BB\";text-indent:-1px}.collapse-sidebar .toggle-sidebar{text-indent:0px;right:-20px;width:19px}.collapse-sidebar .toggle-sidebar:hover{background:#e9e9e9}.collapse-sidebar .toggle-sidebar:after{border-left:1px solid #e0e0e0;text-shadow:#fff 0 1px;content:\"\\\\00AB\";left:0px;right:0;text-align:center;text-indent:0;border:0;border-right-width:0;background:none}}.googleplus h1{-moz-box-shadow:none !important;-webkit-box-shadow:none !important;-o-box-shadow:none !important;box-shadow:none !important;border-bottom:0px none !important}.googleplus a{text-decoration:none;white-space:normal !important;line-height:32px}.googleplus a img{float:left;margin-right:0.5em;border:0 none}.googleplus-hidden{position:absolute;top:-1000em;left:-1000em}#pinboard_linkroll .pin-title,#pinboard_linkroll .pin-description{display:block;margin-bottom:.5em}#pinboard_linkroll .pin-tag{text-decoration:none}#pinboard_linkroll .pin-tag:hover{text-decoration:underline}#pinboard_linkroll .pin-tag:after{content:\\',\\'}#pinboard_linkroll .pin-tag:last-child:after{content:\\'\\'}.delicious-posts a.delicious-link{margin-bottom:.5em;display:block}.delicious-posts p{font-size:1em}body>footer{font-size:.8em;color:#073642;text-shadow:#99a6aa 0 1px;background-color:#8b999e;background:url(\\'/images/noise.png?1413623488\\'),-webkit-gradient(linear, 50% 0%, 50% 100%, color-stop(0%, #a1adb1), color-stop(50%, #8b999e), color-stop(100%, #6d7e83));background:url(\\'/images/noise.png?1413623488\\'),-webkit-linear-gradient(#a1adb1,#8b999e,#6d7e83);background:url(\\'/images/noise.png?1413623488\\'),-moz-linear-gradient(#a1adb1,#8b999e,#6d7e83);background:url(\\'/images/noise.png?1413623488\\'),-o-linear-gradient(#a1adb1,#8b999e,#6d7e83);background:url(\\'/images/noise.png?1413623488\\'),linear-gradient(#a1adb1,#8b999e,#6d7e83);border-top:1px solid #b4bec1;position:relative;padding-top:1em;padding-bottom:1em;margin-bottom:3em;-moz-border-radius-bottomleft:0.4em;-webkit-border-bottom-left-radius:0.4em;border-bottom-left-radius:0.4em;-moz-border-radius-bottomright:0.4em;-webkit-border-bottom-right-radius:0.4em;border-bottom-right-radius:0.4em;z-index:1}body>footer a{color:#2f3638}body>footer a:visited{color:#2f3638}body>footer a:hover{color:#000}body>footer p:last-child{margin-bottom:0}article h1,article h2,article h3,article h4,article h5,article h6{color:#b58900}\\n'\n",
      "Stream ended\n"
     ]
    },
    {
     "name": "stdout",
     "output_type": "stream",
     "text": [
      "Total time for window update handling: 10.14 seconds\n",
      "Raw Response Data: {'Total time for window update handling': 10.143510580062866}\n"
     ]
    }
   ],
   "source": [
    "\n",
    "async def test_window_update_frame_and_analyze():\n",
    "    ssl_context = ssl.create_default_context(purpose=ssl.Purpose.SERVER_AUTH)\n",
    "    ssl_context.set_alpn_protocols([\"h2\"])\n",
    "\n",
    "    host = 'nghttp2.org'\n",
    "    port = 443\n",
    "    path = '/'  \n",
    "\n",
    "    reader, writer = await asyncio.open_connection(host, port, ssl=ssl_context)\n",
    "\n",
    "    config = H2Configuration(client_side=True)\n",
    "    conn = H2Connection(config=config)\n",
    "    conn.initiate_connection()\n",
    "    writer.write(conn.data_to_send())\n",
    "\n",
    "    # Headers for a GET request\n",
    "    headers = [\n",
    "        (':method', 'GET'),\n",
    "        (':authority', host),\n",
    "        (':scheme', 'https'),\n",
    "        (':path', path),\n",
    "    ]\n",
    "    stream_id = conn.get_next_available_stream_id()\n",
    "    conn.send_headers(stream_id, headers, end_stream=True)\n",
    "    writer.write(conn.data_to_send())\n",
    "    await writer.drain()\n",
    "\n",
    "    # Send a WINDOW_UPDATE frame \n",
    "    conn.increment_flow_control_window(increment=1024, stream_id=stream_id)\n",
    "    writer.write(conn.data_to_send())\n",
    "    await writer.drain()\n",
    "\n",
    "    start_time = time.time()\n",
    "\n",
    "    while True:\n",
    "        data = await reader.read(4096)\n",
    "        if not data:\n",
    "            break\n",
    "\n",
    "        events = conn.receive_data(data)\n",
    "        for event in events:\n",
    "            if isinstance(event, WindowUpdated):\n",
    "                print(\"Window update received, stream_id:\", event.stream_id)\n",
    "            elif isinstance(event, ResponseReceived):\n",
    "                print('Response headers:', event.headers)\n",
    "            elif isinstance(event, DataReceived):\n",
    "                print('Response data:', event.data)\n",
    "            elif isinstance(event, StreamEnded):\n",
    "                print('Stream ended')\n",
    "                break\n",
    "\n",
    "    end_time = time.time()\n",
    "\n",
    "    writer.close()\n",
    "    await writer.wait_closed()\n",
    "\n",
    "    print(f\"Total time for window update handling: {end_time - start_time:.2f} seconds\")\n",
    "    \n",
    "    response_data = {\n",
    "        \"Total time for window update handling\": end_time - start_time\n",
    "    }\n",
    "    analyze_results(\"Window_Update Frame Test\", response_data)\n",
    "\n",
    "await test_window_update_frame_and_analyze()"
   ]
  },
  {
   "cell_type": "markdown",
   "id": "36c5e60d",
   "metadata": {},
   "source": [
    "# GoAway Frame"
   ]
  },
  {
   "cell_type": "code",
   "execution_count": 17,
   "id": "85f98d80",
   "metadata": {},
   "outputs": [
    {
     "name": "stdout",
     "output_type": "stream",
     "text": [
      "Total time until connection termination: 0.50 seconds\n",
      "Raw Response Data: {'Total time until connection termination': 0.4985079765319824}\n"
     ]
    }
   ],
   "source": [
    "async def test_goaway_frame_and_analyze():\n",
    "    ssl_context = ssl.create_default_context(purpose=ssl.Purpose.SERVER_AUTH)\n",
    "    ssl_context.set_alpn_protocols([\"h2\"])\n",
    "\n",
    "    host = 'nghttp2.org'\n",
    "    port = 443\n",
    "\n",
    "    reader, writer = await asyncio.open_connection(host, port, ssl=ssl_context)\n",
    "\n",
    "    config = H2Configuration(client_side=True)\n",
    "    conn = H2Connection(config=config)\n",
    "    conn.initiate_connection()\n",
    "    writer.write(conn.data_to_send())\n",
    "\n",
    "    start_time = time.time()\n",
    "\n",
    "    # Send a GOAWAY frame\n",
    "    conn.close_connection()\n",
    "    writer.write(conn.data_to_send())\n",
    "    await writer.drain()\n",
    "\n",
    "    # Wait briefly to allow any pending frames to be processed\n",
    "    await asyncio.sleep(0.5)\n",
    "\n",
    "    end_time = time.time()\n",
    "\n",
    "    writer.close()\n",
    "    await writer.wait_closed()\n",
    "\n",
    "    print(f\"Total time until connection termination: {end_time - start_time:.2f} seconds\")\n",
    "    \n",
    "    response_data = {\n",
    "        \"Total time until connection termination\": end_time - start_time\n",
    "    }\n",
    "    analyze_results(\"GoAway Frame Test\", response_data)\n",
    "\n",
    "await test_goaway_frame_and_analyze()"
   ]
  },
  {
   "cell_type": "markdown",
   "id": "fa58965e",
   "metadata": {},
   "source": [
    "# A sequence of HEADERS, SETTINGS, and DATA frames is sent to the server"
   ]
  },
  {
   "cell_type": "code",
   "execution_count": 18,
   "id": "281f5784",
   "metadata": {},
   "outputs": [
    {
     "name": "stdout",
     "output_type": "stream",
     "text": [
      "Settings acknowledged by server\n",
      "Settings acknowledged by server\n",
      "Response headers: [(b':status', b'200'), (b'date', b'Mon, 11 Dec 2023 02:30:37 GMT'), (b'content-type', b'text/html'), (b'last-modified', b'Fri, 27 Oct 2023 13:41:30 GMT'), (b'etag', b'\"653bbe0a-18b4\"'), (b'accept-ranges', b'bytes'), (b'content-length', b'6324'), (b'x-backend-header-rtt', b'0.002272'), (b'strict-transport-security', b'max-age=31536000'), (b'server', b'nghttpx'), (b'alt-svc', b'h3=\":443\"; ma=3600, h3-29=\":443\"; ma=3600'), (b'via', b'2 nghttpx'), (b'x-frame-options', b'SAMEORIGIN'), (b'x-xss-protection', b'1; mode=block'), (b'x-content-type-options', b'nosniff')]\n",
      "Response headers: [(b':status', b'200'), (b'date', b'Mon, 11 Dec 2023 02:30:37 GMT'), (b'content-type', b'text/css'), (b'last-modified', b'Fri, 27 Oct 2023 13:41:30 GMT'), (b'etag', b'\"653bbe0a-98aa\"'), (b'accept-ranges', b'bytes'), (b'content-length', b'39082'), (b'x-backend-header-rtt', b'0.001135'), (b'strict-transport-security', b'max-age=31536000'), (b'server', b'nghttpx'), (b'alt-svc', b'h3=\":443\"; ma=3600, h3-29=\":443\"; ma=3600'), (b'via', b'2 nghttpx'), (b'x-frame-options', b'SAMEORIGIN'), (b'x-xss-protection', b'1; mode=block'), (b'x-content-type-options', b'nosniff'), (b'x-http2-push', b'1')]\n",
      "Chunk of response data received: 6324\n",
      "Stream ended\n",
      "Chunk of response data received: 9708\n",
      "Chunk of response data received: 4245\n",
      "Chunk of response data received: 5663\n",
      "Chunk of response data received: 16375\n",
      "Chunk of response data received: 3091\n",
      "Stream ended\n",
      "Total response time: 10.15 seconds\n",
      "Total data received: 45406 bytes\n",
      "Raw Response Data: {'Total response time': 10.152052402496338}\n"
     ]
    }
   ],
   "source": [
    "\n",
    "async def test_combined_frames_and_analyze():\n",
    "    ssl_context = ssl.create_default_context(purpose=ssl.Purpose.SERVER_AUTH)\n",
    "    ssl_context.set_alpn_protocols([\"h2\"])\n",
    "\n",
    "    host = 'nghttp2.org'\n",
    "    port = 443\n",
    "    path = '/'  \n",
    "\n",
    "    reader, writer = await asyncio.open_connection(host, port, ssl=ssl_context)\n",
    "\n",
    "    config = H2Configuration(client_side=True)\n",
    "    conn = H2Connection(config=config)\n",
    "    conn.initiate_connection()\n",
    "    writer.write(conn.data_to_send())\n",
    "\n",
    "    # Send HEADERS frame\n",
    "    headers = [\n",
    "        (':method', 'GET'),\n",
    "        (':authority', host),\n",
    "        (':scheme', 'https'),\n",
    "        (':path', path),\n",
    "    ]\n",
    "    stream_id = conn.get_next_available_stream_id()\n",
    "    conn.send_headers(stream_id, headers)\n",
    "    writer.write(conn.data_to_send())\n",
    "\n",
    "    # Send SETTINGS frame with correct setting reference\n",
    "    new_settings = {\n",
    "        SettingCodes.MAX_CONCURRENT_STREAMS: 10,  \n",
    "    }\n",
    "    conn.update_settings(new_settings)\n",
    "    writer.write(conn.data_to_send())\n",
    "\n",
    "    # Send DATA frame\n",
    "    data_payload = b'Hello, world!'  \n",
    "    conn.send_data(stream_id, data_payload, end_stream=True)\n",
    "    writer.write(conn.data_to_send())\n",
    "    await writer.drain()\n",
    "\n",
    "    start_time = time.time()\n",
    "    data_received = 0\n",
    "\n",
    "    while True:\n",
    "        data = await reader.read(4096)\n",
    "        if not data:\n",
    "            break\n",
    "\n",
    "        events = conn.receive_data(data)\n",
    "        for event in events:\n",
    "            if isinstance(event, ResponseReceived):\n",
    "                print('Response headers:', event.headers)\n",
    "            elif isinstance(event, DataReceived):\n",
    "                data_received += len(event.data)\n",
    "                print('Chunk of response data received:', len(event.data))\n",
    "            elif isinstance(event, StreamEnded):\n",
    "                print('Stream ended')\n",
    "                break\n",
    "            elif isinstance(event, SettingsAcknowledged):\n",
    "                print('Settings acknowledged by server')\n",
    "\n",
    "    end_time = time.time()\n",
    "\n",
    "    writer.close()\n",
    "    await writer.wait_closed()\n",
    "\n",
    "    print(f\"Total response time: {end_time - start_time:.2f} seconds\")\n",
    "    print(f\"Total data received: {data_received} bytes\")\n",
    "    \n",
    "    response_data = {\n",
    "        \"Total response time\": end_time - start_time,\n",
    "        \n",
    "    }\n",
    "    analyze_results(\"Frame Combination Test Header, Setting, Data\", response_data)\n",
    "\n",
    "\n",
    "await test_combined_frames_and_analyze()"
   ]
  },
  {
   "cell_type": "markdown",
   "id": "a881dc03",
   "metadata": {},
   "source": [
    "# Headers and Data Frames"
   ]
  },
  {
   "cell_type": "code",
   "execution_count": 19,
   "id": "2921bf1d",
   "metadata": {},
   "outputs": [
    {
     "name": "stdout",
     "output_type": "stream",
     "text": [
      "Response headers: [(b':status', b'200'), (b'date', b'Mon, 11 Dec 2023 02:30:48 GMT'), (b'content-type', b'text/html'), (b'last-modified', b'Fri, 27 Oct 2023 13:41:30 GMT'), (b'etag', b'\"653bbe0a-18b4\"'), (b'accept-ranges', b'bytes'), (b'content-length', b'6324'), (b'x-backend-header-rtt', b'0.003321'), (b'strict-transport-security', b'max-age=31536000'), (b'server', b'nghttpx'), (b'alt-svc', b'h3=\":443\"; ma=3600, h3-29=\":443\"; ma=3600'), (b'via', b'2 nghttpx'), (b'x-frame-options', b'SAMEORIGIN'), (b'x-xss-protection', b'1; mode=block'), (b'x-content-type-options', b'nosniff')]\n",
      "Response headers: [(b':status', b'200'), (b'date', b'Mon, 11 Dec 2023 02:30:48 GMT'), (b'content-type', b'text/css'), (b'last-modified', b'Fri, 27 Oct 2023 13:41:30 GMT'), (b'etag', b'\"653bbe0a-98aa\"'), (b'accept-ranges', b'bytes'), (b'content-length', b'39082'), (b'x-backend-header-rtt', b'0.001499'), (b'strict-transport-security', b'max-age=31536000'), (b'server', b'nghttpx'), (b'alt-svc', b'h3=\":443\"; ma=3600, h3-29=\":443\"; ma=3600'), (b'via', b'2 nghttpx'), (b'x-frame-options', b'SAMEORIGIN'), (b'x-xss-protection', b'1; mode=block'), (b'x-content-type-options', b'nosniff'), (b'x-http2-push', b'1')]\n",
      "Response data: b'\\n<!DOCTYPE html>\\n<!--[if IEMobile 7 ]><html class=\"no-js iem7\"><![endif]-->\\n<!--[if lt IE 9]><html class=\"no-js lte-ie8\"><![endif]-->\\n<!--[if (gt IE 8)|(gt IEMobile 7)|!(IEMobile)|!(IE)]><!--><html class=\"no-js\" lang=\"en\"><!--<![endif]-->\\n<head>\\n  <meta charset=\"utf-8\">\\n  <title>Nghttp2: HTTP/2 C Library - nghttp2.org</title>\\n  <meta name=\"author\" content=\"Tatsuhiro Tsujikawa\">\\n\\n  \\n  <meta name=\"description\" content=\"Nghttp2: HTTP/2 C Library Feb 16th, 2015 11:16 pm nghttp2 is an implementation of\\nHTTP/2 and its header\\ncompression algorithm HPACK in\\nC. The &hellip;\">\\n  \\n\\n  <!-- http://t.co/dKP3o1e -->\\n  <meta name=\"HandheldFriendly\" content=\"True\">\\n  <meta name=\"MobileOptimized\" content=\"320\">\\n  <meta name=\"viewport\" content=\"width=device-width, initial-scale=1\">\\n\\n  \\n  <link rel=\"canonical\" href=\"//nghttp2.org\">\\n  <link href=\"/favicon.png\" rel=\"icon\">\\n  <link href=\"/stylesheets/screen.css\" media=\"screen, projection\" rel=\"stylesheet\" type=\"text/css\">\\n  <link href=\"/atom.xml\" rel=\"alternate\" title=\"nghttp2.org\" type=\"application/atom+xml\">\\n  <script src=\"/javascripts/modernizr-2.0.js\"></script>\\n  <script src=\"//ajax.googleapis.com/ajax/libs/jquery/1.9.1/jquery.min.js\"></script>\\n  <script>!window.jQuery && document.write(unescape(\\'%3Cscript src=\"./javascripts/libs/jquery.min.js\"%3E%3C/script%3E\\'))</script>\\n  <script src=\"/javascripts/octopress.js\" type=\"text/javascript\"></script>\\n  <!--Fonts from Google\"s Web font directory at http://google.com/webfonts -->\\n<link href=\"//fonts.googleapis.com/css?family=PT+Serif:regular,italic,bold,bolditalic\" rel=\"stylesheet\" type=\"text/css\">\\n<link href=\"//fonts.googleapis.com/css?family=PT+Sans:regular,italic,bold,bolditalic\" rel=\"stylesheet\" type=\"text/css\">\\n\\n  \\n\\n</head>\\n\\n<body   >\\n  <header role=\"banner\"><hgroup>\\n  <h1><a href=\"/\">nghttp2.org</a></h1>\\n  \\n    <h2>HTTP/2 C library and tools</h2>\\n  \\n</hgroup>\\n\\n</header>\\n  <nav role=\"navigation\"><ul class=\"subscription\" data-subscription=\"rss\">\\n  <li><a href=\"/atom.xml\" rel=\"subscribe-rss\" title=\"subscribe via RSS\">RSS</a></li>\\n  \\n</ul>\\n  \\n<form action=\"https://www.google.com/search\" method=\"get\">\\n  <fieldset role=\"search\">\\n    <input type=\"hidden\" name=\"q\" value=\"site://nghttp2.org\" />\\n    <input class=\"search\" type=\"text\" name=\"q\" results=\"0\" placeholder=\"Search\"/>\\n  </fieldset>\\n</form>\\n  \\n<ul class=\"main-navigation\">\\n  <li><a href=\"/\">Top</a></li>\\n  <li><a href=\"/blog/\">Blog</a></li>\\n  <li><a href=\"/blog/archives\">Archives</a></li>\\n  <li><a href=\"/documentation/\">Documentation</a></li>\\n  <li><a href=\"/httpbin\">Httpbin</a></li>\\n  <li><a href=\"https://github.com/nghttp2/nghttp2/releases\">Releases</a></li>\\n  <li><a href=\"https://github.com/nghttp2/nghttp2\">Source Code</a></li>\\n</ul>\\n\\n</nav>\\n  <div id=\"main\">\\n    <div id=\"content\">\\n      <div>\\n<article role=\"article\">\\n  \\n  <header>\\n    <h1 class=\"entry-title\">Nghttp2: HTTP/2 C Library</h1>\\n    <p class=\"meta\">\\n\\n\\n\\n\\n<time class=\\'entry-date\\' datetime=\\'2015-02-16T23:16:00+09:00\\'><span class=\\'date\\'><span class=\\'date-month\\'>Feb</span> <span class=\\'date-day\\'>16</span><span class=\\'date-suffix\\'>th</span>, <span class=\\'date-year\\'>2015</span></span> <span class=\\'time\\'>11:16 pm</span></time></p>\\n  </header>\\n  \\n  <p>nghttp2 is an implementation of\\n<a href=\"https://tools.ietf.org/html/rfc7540\">HTTP/2</a> and its header\\ncompression algorithm <a href=\"https://tools.ietf.org/html/rfc7541\">HPACK</a> in\\nC.</p>\\n\\n<p>The framing layer of HTTP/2 is implemented as a form of reusable C\\nlibrary.  On top of that, we have implemented HTTP/2 <a href=\"/documentation/nghttp.1.html\">client</a>, <a href=\"/documentation/nghttpd.1.html\">server</a>\\nand <a href=\"/documentation/nghttpx.1.html\">proxy</a>.\\nWe have also developed <a href=\"/documentation/h2load.1.html\">load test and benchmarking tool</a> for HTTP/2.</p>\\n\\n<p>We have participated in httpbis working group since HTTP/2 draft-04,\\nwhich is the first implementation draft.  Since then we have updated\\nnghttp2 library constantly to latest specification and nghttp2 is now\\none of the most mature <a href=\"https://github.com/http2/http2-spec/wiki/Implementations\">HTTP/2 implementations</a>.</p>\\n\\n<p>All C APIs are <a href=\"/documentation/apiref.html\">fully documented</a>.</p>\\n\\n<p>HTTP/2 utilizes header compression method called <a href=\"https://tools.ietf.org/html/rfc7541\">HPACK</a>.  We offer\\nHPACK encoder and decoder are available as <a href=\"/documentation/tutorial-hpack.html\">public API</a>.</p>\\n\\n  \\n    <footer>\\n      <p class=\"meta\">\\n        \\n        \\n\\n\\n\\n\\n<time class=\\'entry-date\\' datetime=\\'2015-02-16T23:16:00+09:00\\'><span class=\\'date\\'><span class=\\'date-month\\'>Feb</span> <span class=\\'date-day\\'>16</span><span class=\\'date-suffix\\'>th</span>, <span class=\\'date-year\\'>2015</span></span> <span class=\\'time\\'>11:16 pm</span></time>\\n        \\n      </p>\\n      \\n        <div class=\"sharing\">\\n  \\n  <a href=\"//twitter.com/share\" class=\"twitter-share-button\" data-url=\"//nghttp2.org/index.html\" data-via=\"\" data-counturl=\"//nghttp2.org/index.html\" >Tweet</a>\\n  \\n  \\n  \\n</div>\\n\\n      \\n    </footer>\\n  \\n</article>\\n\\n</div>\\n\\n<aside class=\"sidebar\">\\n  \\n    <section>\\n  <h1>Recent Posts</h1>\\n  <ul id=\"recent_posts\">\\n    \\n      <li class=\"post\">\\n        <a href=\"/blog/2023/10/27/nghttp2-v1-58-0/\">Nghttp2 v1.58.0</a>\\n      </li>\\n    \\n      <li class=\"post\">\\n        <a href=\"/blog/2023/10/10/nghttp2-v1-57-0/\">Nghttp2 v1.57.0</a>\\n      </li>\\n    \\n      <li class=\"post\">\\n        <a href=\"/blog/2023/09/04/nghttp2-v1-56-0/\">Nghttp2 v1.56.0</a>\\n      </li>\\n    \\n      <li class=\"post\">\\n        <a href=\"/blog/2023/07/14/nghttp2-v1-55-1/\">Nghttp2 v1.55.1</a>\\n      </li>\\n    \\n      <li class=\"post\">\\n        <a href=\"/blog/2023/07/12/nghttp2-v1-55-0/\">Nghttp2 v1.55.0</a>\\n      </li>\\n    \\n  </ul>\\n</section>\\n\\n\\n\\n\\n\\n  \\n</aside>\\n\\n\\n    </div>\\n  </div>\\n  <footer role=\"contentinfo\"><p>\\n  Copyright &copy; 2023 - Tatsuhiro Tsujikawa -\\n  <span class=\"credit\">Powered by <a href=\"http://octopress.org\">Octopress</a></span>\\n</p>\\n\\n</footer>\\n  \\n\\n\\n\\n\\n\\n\\n\\n  <script type=\"text/javascript\">\\n    (function(){\\n      var twitterWidgets = document.createElement(\\'script\\');\\n      twitterWidgets.type = \\'text/javascript\\';\\n      twitterWidgets.async = true;\\n      twitterWidgets.src = \\'//platform.twitter.com/widgets.js\\';\\n      document.getElementsByTagName(\\'head\\')[0].appendChild(twitterWidgets);\\n    })();\\n  </script>\\n\\n\\n\\n\\n\\n</body>\\n</html>\\n'\n",
      "Stream ended\n",
      "Response data: b'html,body,div,span,applet,object,iframe,h1,h2,h3,h4,h5,h6,p,blockquote,pre,a,abbr,acronym,address,big,cite,code,del,dfn,em,img,ins,kbd,q,s,samp,small,strike,strong,sub,sup,tt,var,b,u,i,center,dl,dt,dd,ol,ul,li,fieldset,form,label,legend,table,caption,tbody,tfoot,thead,tr,th,td,article,aside,canvas,details,embed,figure,figcaption,footer,header,hgroup,menu,nav,output,ruby,section,summary,time,mark,audio,video{margin:0;padding:0;border:0;font:inherit;font-size:100%;vertical-align:baseline}html{line-height:1}ol,ul{list-style:none}table{border-collapse:collapse;border-spacing:0}caption,th,td{text-align:left;font-weight:normal;vertical-align:middle}q,blockquote{quotes:none}q:before,q:after,blockquote:before,blockquote:after{content:\"\";content:none}a img{border:none}article,aside,details,figcaption,figure,footer,header,hgroup,menu,nav,section,summary{display:block}a{color:#2aa198}a:visited{color:#2aa198}a:focus{color:#15e9d9}a:hover{color:#15e9d9}a:active{color:#0fa398}aside.sidebar a{color:#073642}aside.sidebar a:focus{color:#15e9d9}aside.sidebar a:hover{color:#15e9d9}aside.sidebar a:active{color:#0fa398}a{-webkit-transition:color 0.3s;-moz-transition:color 0.3s;-o-transition:color 0.3s;transition:color 0.3s}html{background:#002b36 url(\\'/images/line-tile.png?1413623488\\') top left}body>div{background:#f2f2f2 url(\\'/images/noise.png?1413623488\\') top left;border-bottom:1px solid #7d8d93}body>div>div{background:#fefcf6 url(\\'/images/noise.png?1413623488\\') top left;border-right:1px solid #e0e0e0}.heading,body>header h1,h1,h2,h3,h4,h5,h6{font-family:\"PT Serif\",\"Georgia\",\"Helvetica Neue\",Arial,sans-serif}.sans,body>header h2,article header p.meta,article>footer,#content .blog-index footer,html .gist .gist-file .gist-meta,#blog-archives a.category,#blog-archives time,aside.sidebar section,body>footer{font-family:\"PT Sans\",\"Helvetica Neue\",Arial,sans-serif}.serif,body,#content .blog-index a[rel=full-article]{font-family:\"PT Serif\",Georgia,Times,\"Times New Roman\",serif}.mono,pre,code,tt,p code,li code{font-family:Menlo,Monaco,\"Andale Mono\",\"lucida console\",\"Courier New\",monospace}body>header h1{font-size:2.2em;font-family:\"PT Serif\",\"Georgia\",\"Helvetica Neue\",Arial,sans-serif;font-weight:normal;line-height:1.2em;margin-bottom:0.6667em}body>header h2{font-family:\"PT Serif\",\"Georgia\",\"Helvetica Neue\",Arial,sans-serif}body{line-height:1.5em;color:#073642}h1{font-size:2.2em;line-height:1.2em}@media only screen and (min-width: 992px){body{font-size:1.15em}h1{font-size:2.6em;line-height:1.2em}}h1,h2,h3,h4,h5,h6{text-rendering:optimizelegibility;margin-bottom:1em;font-weight:bold}h2,section h1{font-size:1.5em}h3,section h2,section section h1{font-size:1.3em}h4,section h3,section section h2,section section section h1{font-size:1em}h5,section h4,section section h3{font-size:.9em}h6,section h5,section section h4,section section section h3{font-size:.8em}p,article blockquote,ul,ol{margin-bottom:1.5em}ul{list-style-type:disc}ul ul{list-style-type:circle;margin-bottom:0px}ul ul ul{list-style-type:square;margin-bottom:0px}ol{list-style-type:decimal}ol ol{list-style-type:lower-alpha;margin-bottom:0px}ol ol ol{list-style-type:lower-roman;margin-bottom:0px}ul,ul ul,ul ol,ol,ol ul,ol ol{margin-left:1.3em}ul ul,ul ol,ol ul,ol ol{margin-bottom:0em}strong{font-weight:bold}em{font-style:italic}sup,sub{font-size:0.75em;position:relative;display:inline-block;padding:0 .2em;line-height:.8em}sup{top:-.5em}sub{bottom:-.5em}a[rev=\\'footnote\\']{font-size:.75em;padding:0 .3em;line-height:1}q{font-style:italic}q:before{content:\"\\\\201C\"}q:after{content:\"\\\\201D\"}em,dfn{font-style:italic}strong,dfn{font-weight:bold}del,s{text-decoration:line-through}abbr,acronym{border-bottom:1px dotted;cursor:help}hr{margin-bottom:0.2em}small{font-size:.8em}big{font-size:1.2em}article blockquote{font-style:italic;position:relative;font-size:1.2em;line-height:1.5em;padding-left:1em;border-left:4px solid rgba(170,170,170,0.5)}article blockquote cite{font-style:italic}article blockquote cite a{color:#aaa !important;word-wrap:break-word}article blockquote cite:before{content:\\'\\\\2014\\';padding-right:.3em;padding-left:.3em;color:#aaa}@media only screen and (min-width: 992px){article blockquote{padding-left:1.5em;border-left-width:4px}}.pullquote-right:before,.pullquote-left:before{padding:0;border:none;content:attr(data-pullquote);float:right;width:45%;margin:.5em 0 1em 1.5em;position:relative;top:7px;font-size:1.4em;line-height:1.45em}.pullquote-left:before{float:left;margin:.5em 1.5em 1em 0}.force-wrap,article a,aside.sidebar a{white-space:-moz-pre-wrap;white-space:-pre-wrap;white-space:-o-pre-wrap;white-space:pre-wrap;word-wrap:break-word}.group,body>header,body>nav,body>footer,body #content>article,body #content>div>article,body #content>div>section,body div.pagination,aside.sidebar,#main,#content,.sidebar{*zoom:1}.group:after,body>header:after,body>nav:after,body>footer:after,body #content>article:after,body #content>div>section:after,body div.pagination:after,#main:after,#content:after,.sidebar:after{content:\"\";display:table;clear:both}body{-webkit-text-size-adjust:none;max-width:1200px;position:relative;margin:0 auto}body>header,body>nav,body>footer,body #content>article,body #content>div>article,body #content>div>section{padding-left:18px;padding-right:18px}@media only screen and (min-width: 480px){body>header,body>nav,body>footer,body #content>article,body #content>div>article,body #content>div>section{padding-left:25px;padding-right:25px}}@media only screen and (min-width: 768px){body>header,body>nav,body>footer,body #content>article,body #content>div>article,body #content>div>section{padding-left:35px;padding-right:35px}}@media only screen and (min-width: 992px){body>header,body>nav,body>footer,body #content>article,body #content>div>article,body #content>div>section{padding-left:55px;padding-right:55px}}body div.pagination{margin-left:18px;margin-right:18px}@media only screen and (min-width: 480px){body div.pagination{margin-left:25px;margin-right:25px}}@media only screen and (min-width: 768px){body div.pagination{margin-left:35px;margin-right:35px}}@media only screen and (min-width: 992px){body div.pagination{margin-left:55px;margin-right:55px}}body>header{font-size:1em;padding-top:1.5em;padding-bottom:1.5em}#content{overflow:hidden}#content>div,#content>article{width:100%}aside.sidebar{float:none;padding:0 18px 1px;background-color:#f7f7f7;border-top:1px solid #e0e0e0}.flex-content,article img,article video,article .flash-video,aside.sidebar img{max-width:100%;height:auto}.basic-alignment.left,article img.left,article video.left,article .left.flash-video,aside.sidebar img.left{float:left;margin-right:1.5em}.basic-alignment.right,article img.right,article video.right,article .right.flash-video,aside.sidebar img.right{float:right;margin-left:1.5em}.basic-alignment.center,article img.center,article video.center,article .center.flash-video,aside.sidebar img.center{display:block;margin:0 auto 1.5em}.basic-alignment.left,article img.left,article video.left,article .left.flash-video,aside.sidebar img.left,.basic-alignment.right,article img.right,article video.right,article .right.flash-video,aside.sidebar img.right{margin-bottom:.8em}.toggle-sidebar,.no-sidebar .toggle-sidebar{display:none}@media only screen and (min-width: 750px){body.sidebar-footer aside.sidebar{float:none;width:auto;clear:left;margin:0;padding:0 35px 1px;background-color:#f7f7f7;border-top:1px solid #eaeaea}body.sidebar-footer aside.sidebar section.odd,body.sidebar-footer aside.sidebar section.even{float:left;width:48%}body.sidebar-footer aside.sidebar section.odd{margin-left:0}body.sidebar-footer aside.sidebar section.even{margin-left:4%}body.sidebar-footer aside.sidebar.thirds section{width:30%;margin-left:5%}body.sidebar-footer aside.sidebar.thirds section.first{margin-left:0;clear:both}}body.sidebar-footer #content{margin-right:0px}body.sidebar-footer .toggle-sidebar{display:none}@media only screen and (min-width: 550px){body>header{font-size:1em}}@media only screen and (min-width: 750px){aside.sidebar{float:none;width:auto;clear:left;margin:0;padding:0 35px 1px;background-color:#f7f7f7;border-top:1px solid #eaeaea}aside.sidebar section.odd,aside.sidebar section.even{float:left;width:48%}aside.sidebar section.odd{margin-left:0}aside.sidebar section.even{margin-left:4%}aside.sidebar.thirds section{width:30%;margin-left:5%}aside.sidebar.thirds section.first{margin-left:0;clear:both}}@media only screen and (min-width: 768px){body{-webkit-text-size-adjust:auto}body>header{font-size:1.2em}#main{padding:0;margin:0 auto}#content{overflow:visible;margin-right:240px;position:relative}.no-sidebar #content{margin-right:0;border-right:0}.collapse-sidebar #content{margin-right:20px}#content>div,#content>article{padding-top:17.5px;padding-bottom:17.5px;float:left}aside.sidebar{width:210px;padding:0 15px 15px;background:none;clear:none;float:left;margin:0 -100% 0 0}aside.sidebar section{width:auto;margin-left:0}aside.sidebar section.odd,aside.sidebar section.even{float:none;width:auto;margin-left:0}.collapse-sidebar aside.sidebar{float:none;width:auto;clear:left;margin:0;padding:0 35px 1px;background-color:#f7f7f7;border-top:1px solid #eaeaea}.collapse-sidebar aside.sidebar section.odd,.collapse-sidebar aside.sidebar section.even{float:left;width:48%}.collapse-sidebar aside.sidebar section.odd{margin-left:0}.collapse-sidebar aside.sidebar section.even{margin-left:4%}.collapse-sidebar aside.sidebar.thirds section{width:30%;margin-left:5%}.collapse-sidebar aside.sidebar.thirds section.first{margin-left:0;clear:both}}@media only screen and (min-width: 992px){body>header{font-size:1.3em}#content{margin-right:300px}#content>div,#content>art'\n",
      "Response data: b'icle{padding-top:27.5px;padding-bottom:27.5px}aside.sidebar{width:260px;padding:1.2em 20px 20px}.collapse-sidebar aside.sidebar{padding-left:55px;padding-right:55px}}@media only screen and (min-width: 768px){ul,ol{margin-left:0}}body>header{background:#073642}body>header h1{display:inline-block;margin:0}body>header h1 a,body>header h1 a:visited,body>header h1 a:hover{color:#b58900;text-decoration:none}body>header h2{margin:.2em 0 0;font-size:1em;color:#eee8d5;font-weight:normal}body>nav{position:relative;background-color:#8b999e;background:url(\\'/images/noise.png?1413623488\\'),-webkit-gradient(linear, 50% 0%, 50% 100%, color-stop(0%, #a1adb1), color-stop(50%, #8b999e), color-stop(100%, #6d7e83));background:url(\\'/images/noise.png?1413623488\\'),-webkit-linear-gradient(#a1adb1,#8b999e,#6d7e83);background:url(\\'/images/noise.png?1413623488\\'),-moz-linear-gradient(#a1adb1,#8b999e,#6d7e83);background:url(\\'/images/noise.png?1413623488\\'),-o-linear-gradient(#a1adb1,#8b999e,#6d7e83);background:url(\\'/images/noise.png?1413623488\\'),linear-gradient(#a1adb1,#8b999e,#6d7e83);border-top:1px solid #b4bec1;border-bottom:1px solid #4d595c;padding-top:.35em;padding-bottom:.35em}body>nav form{-webkit-background-clip:padding;-moz-background-clip:padding;background-clip:padding-box;margin:0;padding:0}body>nav form .search{padding:.3em .5em 0;font-size:.85em;font-family:\"PT Sans\",\"Helvetica Neue\",Arial,sans-serif;line-height:1.1em;width:95%;-webkit-border-radius:0.5em;-moz-border-radius:0.5em;-ms-border-radius:0.5em;-o-border-radius:0.5em;border-radius:0.5em;-webkit-background-clip:padding;-moz-background-clip:padding;background-clip:padding-box;-webkit-box-shadow:#909ea3 0 1px;-moz-box-shadow:#909ea3 0 1px;box-shadow:#909ea3 0 1px;background-color:#b4bec1;border:1px solid #708186;color:#888}body>nav form .search:focus{color:#444;border-color:#80b1df;-webkit-box-shadow:#80b1df 0 0 4px,#80b1df 0 0 3px inset;-moz-box-shadow:#80b1df 0 0 4px,#80b1df 0 0 3px inset;box-shadow:#80b1df 0 0 4px,#80b1df 0 0 3px inset;background-color:#fff;outline:none}body>nav fieldset[role=search]{float:right;width:48%}body>nav fieldset.mobile-nav{float:left;width:48%}body>nav fieldset.mobile-nav select{width:100%;font-size:.8em;border:1px solid #888}body>nav ul{display:none}@media only screen and (min-width: 550px){body>nav{font-size:.9em}body>nav ul{margin:0;padding:0;border:0;overflow:hidden;*zoom:1;float:left;display:block;padding-top:.15em}body>nav ul li{list-style-image:none;list-style-type:none;margin-left:0;white-space:nowrap;display:inline;float:left;padding-left:0;padding-right:0}body>nav ul li:first-child,body>nav ul li.first{padding-left:0}body>nav ul li:last-child{padding-right:0}body>nav ul li.last{padding-right:0}body>nav ul.subscription{margin-left:.8em;float:right}body>nav ul.subscription li:last-child a{padding-ri'\n",
      "Response data: b'ght:0}body>nav ul li{margin:0}body>nav a{color:#073642;font-family:\"PT Sans\",\"Helvetica Neue\",Arial,sans-serif;text-shadow:#acb7ba 0 1px;float:left;text-decoration:none;font-size:1.1em;padding:.1em 0;line-height:1.5em}body>nav a:visited{color:#073642}body>nav a:hover{color:#000}body>nav li+li{border-left:1px solid #6d7e83;margin-left:.8em}body>nav li+li a{padding-left:.8em;border-left:1px solid #9eaaae}body>nav form{float:right;text-align:left;padding-left:.8em;width:175px}body>nav form .search{width:93%;font-size:.95em;line-height:1.2em}body>nav ul[data-subscription$=email]+form{width:97px}body>nav ul[data-subscription$=email]+form .search{width:91%}body>nav fieldset.mobile-nav{display:none}body>nav fieldset[role=search]{width:99%}}@media only screen and (min-width: 992px){body>nav form{width:215px}body>nav ul[data-subscription$=email]+form{width:147px}}.no-placeholder body>nav .search{background:#b4bec1 url(\\'/images/search.png?1413623488\\') 0.3em 0.25em no-repeat;text-indent:1.3em}@media only screen and (min-width: 550px){.maskImage body>nav ul[data-subscription$=email]+form{width:123px}}@media only screen and (min-width: 992px){.maskImage body>nav ul[data-subscription$=email]+form{width:173px}}.maskImage ul.subscription{position:relative;top:.2em}.maskImage ul.subscription li,.maskImage ul.subscription a{border:0;padding:0}.maskImage a[rel=subscribe-rss]{position:relative;top:0px;text-indent:-999999em;background-color:#9eaaae;border:0;padding:0}.maskImage a[rel=subscribe-rss],.maskImage a[rel=subscribe-rss]:after{-webkit-mask-image:url(\\'/images/rss.png?1413623488\\');-moz-mask-image:url(\\'/images/rss.png?1413623488\\');-ms-mask-image:url(\\'/images/rss.png?1413623488\\');-o-mask-image:url(\\'/images/rss.png?1413623488\\');mask-image:url(\\'/images/rss.png?1413623488\\');-webkit-mask-repeat:no-repeat;-moz-mask-repeat:no-repeat;-ms-mask-repeat:no-repeat;-o-mask-repeat:no-repeat;mask-repeat:no-repeat;width:22px;height:22px}.maskImage a[rel=subscribe-rss]:after{content:\"\";position:absolute;top:-1px;left:0;background-color:#1394b5}.maskImage a[rel=subscribe-rss]:hover:after{background-color:#11819e}.maskImage a[rel=subscribe-email]{position:relative;top:0px;text-indent:-999999em;background-color:#9eaaae;border:0;padding:0}.maskImage a[rel=subscribe-email],.maskImage a[rel=subscribe-email]:after{-webkit-mask-image:url(\\'/images/email.png?1413623488\\');-moz-mask-image:url(\\'/images/email.png?1413623488\\');-ms-mask-image:url(\\'/images/email.png?1413623488\\');-o-mask-image:url(\\'/images/email.png?1413623488\\');mask-image:url(\\'/images/email.png?1413623488\\');-webkit-mask-repeat:no-repeat;-moz-mask-repeat:no-repeat;-ms-mask-repeat:no-repeat;-o-mask-repeat:no-repeat;mask-repeat:no-repeat;width:28px;height:22px}.maskImage a[rel=subscribe-email]:after{content:\"\";position:absolute;top:-1px;left:0;background-color:#'\n",
      "Response data: b'1394b5}.maskImage a[rel=subscribe-email]:hover:after{background-color:#11819e}article{padding-top:1em}article header{position:relative;padding-top:2em;padding-bottom:1em;margin-bottom:1em;background:url(\\'data:image/png;base64,iVBORw0KGgoAAAANSUhEUgAAACgAAAABCAYAAACsXeyTAAAACXBIWXMAAAsTAAALEwEAmpwYAAAAFUlEQVQIHWNIS0sr/v//PwMMDzY+ADqMahlW4J91AAAAAElFTkSuQmCC\\') bottom left repeat-x}article header h1{margin:0}article header h1 a{text-decoration:none}article header h1 a:hover{text-decoration:underline}article header p{font-size:.9em;color:#aaa;margin:0}article header p.meta{text-transform:uppercase;position:absolute;top:0}@media only screen and (min-width: 768px){article header{margin-bottom:1.5em;padding-bottom:1em;background:url(\\'data:image/png;base64,iVBORw0KGgoAAAANSUhEUgAAACgAAAABCAYAAACsXeyTAAAACXBIWXMAAAsTAAALEwEAmpwYAAAAFUlEQVQIHWNIS0sr/v//PwMMDzY+ADqMahlW4J91AAAAAElFTkSuQmCC\\') bottom left repeat-x}}article h2{padding-top:0.8em;background:url(\\'data:image/png;base64,iVBORw0KGgoAAAANSUhEUgAAACgAAAABCAYAAACsXeyTAAAACXBIWXMAAAsTAAALEwEAmpwYAAAAFUlEQVQIHWNIS0sr/v//PwMMDzY+ADqMahlW4J91AAAAAElFTkSuQmCC\\') top left repeat-x}.entry-content article h2:first-child,article header+h2{padding-top:0}article h2:first-child,article header+h2{background:none}article .feature{padding-top:.5em;margin-bottom:1em;padding-bottom:1em;background:url(\\'data:image/png;base64,iVBORw0KGgoAAAANSUhEUgAAACgAAAABCAYAAACsXeyTAAAACXBIWXMAAAsTAAALEwEAmpwYAAAAFUlEQVQIHWNIS0sr/v//PwMMDzY+ADqMahlW4J91AAAAAElFTkSuQmCC\\') bottom left repeat-x;font-size:2.0em;font-style:italic;line-height:1.3em}article img,article video,article .flash-video{-webkit-border-radius:0.3em;-moz-border-radius:0.3em;-ms-border-radius:0.3em;-o-border-radius:0.3em;border-radius:0.3em;-webkit-box-shadow:rgba(0,0,0,0.15) 0 1px 4px;-moz-box-shadow:rgba(0,0,0,0.15) 0 1px 4px;box-shadow:rgba(0,0,0,0.15) 0 1px 4px;-webkit-box-sizing:border-box;-moz-box-sizing:border-box;box-sizing:border-box;border:#fff 0.5em solid}article video,article .flash-video{margin:0 auto 1.5em}article video{display:block;width:100%}article .flash-video>div{position:relative;display:block;padding-bottom:56.25%;padding-top:1px;height:0;overflow:hidden}article .flash-video>div iframe,article .flash-video>div object,article .flash-video>div embed{position:absolute;top:0;left:0;width:100%;height:100%}article>footer{padding-bottom:2.5em;margin-top:2em}article>footer p.meta{margin-bottom:.8em;font-size:.85em;clear:both;overflow:hidden}.blog-index article+article{background:url(\\'data:image/png;base64,iVBORw0KGgoAAAANSUhEUgAAACgAAAABCAYAAACsXeyTAAAACXBIWXMAAAsTAAALEwEAmpwYAAAAFUlEQVQIHWNIS0sr/v//PwMMDzY+ADqMahlW4J91AAAAAElFTkSuQmCC\\') top left repeat-x}#content .blog-index{padding-top:0;padding-bottom:0}#content .blog-index article{padding-top:2em}#content .blog-index article header{background:none;padding-bottom:0}#content .blog-index article h1{font-size:2.2em}#content .blog-index article h1 a{color:inherit}#content .blog-index article h1 a:hover{color:#15e9d9}#content .blog-index a[rel=full-article]{background:#fdf4de;display:inline-block;padding:.4em .8em;margin-right:.5em;text-decoration:none;color:#587076;-webkit-transition:background-color 0.5s;-moz-transition:background-color 0.5s;-o-transition:background-color 0.5s;transition:background-color 0.5s}#content .blog-index a[rel=full-article]:hover{background:#15e9d9;text-shadow:none;color:#fefcf6}#content .blog-index footer{margin-top:1em}.separator,article>footer .byline+time:before,article>footer time+time:before,article>footer .comments:before,article>footer .byline ~ .categories:before{content:\"\\\\2022 \";padding:0 .4em 0 .2em;display:inline-block}#content div.pagination{text-align:center;font-size:.95em;position:relative;background:url(\\'data:image/png;base64,iVBORw0KGgoAAAANSUhEUgAAACgAAAABCAYAAACsXeyTAAAACXBIWXMAAAsTAAALEwEAmpwYAAAAFUlEQVQIHWNIS0sr/v//PwMMDzY+ADqMahlW4J91AAAAAElFTkSuQmCC\\') top left repeat-x;padding-top:1.5em;padding-bottom:1.5em}#content div.pagination a{text-decoration:none;color:#aaa}#content div.pagination a.prev{position:absolute;left:0}#content div.pagination a.next{position:absolute;right:0}#content div.pagination a:hover{color:#15e9d9}#content div.pagination a[href*=archive]:before,#content div.pagination a[href*=archive]:after{content:\\'\\\\2014\\';padding:0 .3em}p.meta+.sharing{padding-top:1em;padding-left:0;background:url(\\'data:image/png;base64,iVBORw0KGgoAAAANSUhEUgAAACgAAAABCAYAAACsXeyTAAAACXBIWXMAAAsTAAALEwEAmpwYAAAAFUlEQVQIHWNIS0sr/v//PwMMDzY+ADqMahlW4J91AAAAAElFTkSuQmCC\\') top left repeat-x}#fb-root{display:none}.highlight,html .gist .gist-file .gist-syntax .gist-highlight{border:1px solid #e7dec3 !important}.highlight table td.code,html .gist .gist-file .gist-syntax .gist-highlight table td.code{width:100%}.highlight .line-numbers,html .gist .gist-file .gist-syntax .highlight .line_numbers{text-align:right;font-size:13px;line-height:1.45em;background:#fdf8e8 url(\\'/images/noise.png?1413623488\\') top left !important;border-right:1px solid #ebe4ce !important;-webkit-box-shadow:#fef9ed -1px 0 inset;-moz-box-shadow:#fef9ed -1px 0 inset;box-shadow:#fef9ed -1px 0 inset;text-shadow:#f1ecdc 0 -1px;padding:.8em !important;-webkit-border-radius:0;-moz-border-radius:0;-ms-border-radius:0;-o-border-radius:0;border-radius:0}.highlight .line-numbers span,html .gist .gist-file .gist-syntax .highlight .line_numbers span{color:#93a1a1 !important}figure.code,.gist-file,pre{-webkit-box-shadow:rgba(0,0,0,0.06) 0 0 10px;-moz-box-shadow:rgba(0,0,0,0.06) 0 0 10px;box-shadow:rgba(0,0,0,0.06) 0 0 10px}figure.code .highlight pre,.gist-file .highlight pre,pre .highlight pre{-webkit-box-shadow:none;-moz-box-shadow:none;box-shadow:none}.gist .highlight *::-moz-selection,figure.code .highlight *::-moz-selection{background:#fff;color:inherit;text-shadow:#fdf6e3 0 1px}.gist .highlight *::-webkit-selection,figure.code .highlight *::-webkit-selection{background:#fff;color:inherit;text-shadow:#fdf6e3 0 1px}.gist .highlight *::selection,figure.code .highlight *::selection{background:#fff;color:inherit;text-shadow:#fdf6e3 0 1px}html .gist .gist-file{margin-bottom:1.8em;position:relative;border:none;padding-top:26px !important}html .gist .gist-file .highlight{margin-bottom:0}html .gist .gist-file .gist-syntax{border-bottom:0 !important;background:none !important}html .gist .gist-file .gist-syntax .gist-highlight{background:#fdf6e3 !important}html .gist .gist-file .gist-syntax .highlight pre{padding:0}html .gist .gist-file .gist-meta{padding:.6em 0.8em;border:1px solid #f1ecdc !important;color:#93a1a1;font-size:.7em !important;background:#fef9ed url(\\'/images/noise.png?1413623488\\') top left;border:1px solid #e7dec3 !important;border-top:1px solid #fef9ed !important;line-height:1.5em}html .gist .gist-file .gist-meta a{color:#75878b !important;text-decoration:none}html .gist .gist-file .gist-meta a:hover{text-decoration:underline}html .gist .gist-file .gist-meta a:hover{color:#586e75 !important}html .gist .gist-file .gist-meta a[href*=\\'#file\\']{position:absolute;top:0;left:0;right:-10px;color:#474747 !important}html .gist .gist-file .gist-meta a[href*=\\'#file\\']:hover{color:#2aa198 !important}html .gist .gist-file .gist-meta a[href*=raw]{top:.4em}pre{background:#fdf6e3 url(\\'/images/noise.png?1413623488\\') top left;-webkit-border-radius:0.4em;-moz-border-radius:0.4em;-ms-border-radius:0.4em;-o-border-radius:0.4em;border-radius:0.4em;border:1px solid #e7dec3;line-height:1.45em;font-size:13px;margin-bottom:2.1em;padding:.8em 1em;color:#586e75;overflow:auto}h3.filename+pre{-moz-border-radius-topleft:0px;-webkit-border-top-left-radius:0px;border-top-left-radius:0px;-moz-border-radius-topright:0px;-webkit-border-top-right-radius:0px;border-top-right-radius:0px}p code,li code{display:inline-block;white-space:no-wrap;background:#fff;font-size:.8em;line-height:1.5em;color:#555;border:1px solid #ddd;-webkit-border-radius:0.4em;-moz-border-radius:0.4em;-ms-border-radius:0.4em;-o-border-radius:0.4em;border-radius:0.4em;padding:0 .3em;margin:-1px 0}p pre code,li pre code{font-size:1em !important;background:none;border:none}.pre-code,html .gist .gist-file .gist-syntax .highlight pre,.highlight code{font-family:Menlo,Monaco,\"Andale Mono\",\"lucida console\",\"Courier New\",monospace !important;overflow:scroll;overflow-y:hidden;display:block;padding:.8em;overflow-x:auto;line-height:1.45em;background:#fdf6e3 url(\\'/images/noise.png?1413623488\\') top left !important;color:#586e75 !important}.pre-code span,html .gist .gist-file .gist-syntax .highlight pre span,.highlight code span{color:#586e75 !important}.pre-code span,html .gist .gist-file .gist-syntax .highlight pre span,.highlight code span{font-style:normal !important;font-weight:normal !important}.pre-code .c,html .gist .gist-file .gist-syntax .highlight pre .c,.highlight code .c{color:#93a1a1 !important;font-style:italic !important}.pre-code .cm,html .gist .gist-file .gist-syntax .highlight pre .cm,.highlight code .cm{color:#93a1a1 !important;font-style:italic !important}.pre-code .cp,html .gist .gist-file .gist-syntax .highlight pre .cp,.highlight code .cp{color:#93a1a1 !important;font-style:italic !important}.pre-code .c1,html .gist .gist-file .gist-syntax .highlight pre .c1,.highlight code .c1{color:#93a1a1 !important;font-style:italic !important}.pre-code .cs,html .gist .gist-file .gist-syntax .highlight pre .cs,.highlight code .cs{color:#93a1a1 !important;font-weight:bold !important;font-style:italic !important}.pre-code .err,html .gist .gist-file .gist-syntax .highlight pre .err,.highlight code .err{color:#dc322f !important;background:none !important}.pre-code .k,html .gist .gist-file .gist-syntax .highlight pre .k,.highlight code .k{color:#cb4b16 !important}.pre-code .o,html .gist .gist-file .gist-syntax .highlight pre .o,.highlight code .o{color:#586e75 !important;font-weight:bold !important}.pre-code .p,html .gist .gist-file .gist-syntax .highlight pre .p,.highlight code .p{color:#586e75 !important}.pre-code .ow,html .gist .gist-file .gist-syntax .highlight pre .ow,.highlight code .ow{color:#2aa198 !important;font-weight:bold !important}.pre-code .gd,html .gist .gist-file .gist-syntax .highlight pre .gd,.highlight code .gd{color:#586e75 !important;background-color:#f4c5b6 !important;display:inline-block}.pre-code .gd .x,html .gist .gist-file .gist-syntax .highlight pre .gd .x,.highlight code .gd .x{color:#586e75 !important;background-color:#f1b1a4 !important;display:inline-block}.pre-code .ge,html .gist .gist-file .gist-syntax .highlight pre .ge,.highlight code .ge{color:#586e75 !important;font-style:italic !important}.pre-code .gh,html .gist .gist-file .gist-syntax .highlight pre .gh,.highlight code .gh{color:#93a1a1 !important}.pre-code .gi,html .gist .gist-file .gist-syntax .highlight pre .gi,.highlight code .gi{color:#586e75 !important;background-color:#e5e3b5 !important;display:inline-block}.pre-code .gi .x,html .gist .gist-file .gist-syntax .highlight pre .gi .x,.highlight code .gi .x{color:#586e75 !important;background-color:#cdd088 !important;display:inline-block}.pre-code .gs,html .gist .gist-file .gist-syntax .highlight pre .gs,.highlight code .gs{color:#586e75 !important;font-weight:bold !important}.pre-code .gu,html .gist .gist-file .gist-syntax .highlight pre .gu,.highlight code .gu{color:#6c71c4 !important}.pre-code .kc,html .gist .gist-file .gist-syntax .highlight pre .kc,.highlight code .kc{color:#859900 !important;font-weight:bold !important}.pre-code .kd,html .gist .gist-file .gist-syntax .highlight pre .kd,.highlight code .kd{color:#268bd2 !important}.pre-code .kp,html .gist .gist-file .gist-syntax .highlight pre .kp,.highlight code .kp{color:#cb4b16 !important;font-weight:bold !important}.pre-code .kr,html .gist .gist-file .gist-syntax .highlight pre .kr,.highlight code .kr{color:#d33682 !important;font-weight:bold !important}.pre-code .kt,html .gist .gist-file .gist-syntax .highlight pre .kt,.highlight code .kt{color:#2aa198 !important}.pre-code .n,html .gist .gist-file .gist-syntax .highlight pre .n,.highlight code .n{color:#268bd2 !important}.pre-code .na,html .gist .gist-file .gist-syntax .highlight pre .na,.highlight code .na{color:#268bd2 !important}.pre-code .nb,html .gist .gist-file .gist-syntax .highlight pre .nb,.highlight code .nb{color:#859900 !important}.pre-code .nc,html .gist .gist-file .gist-syntax .highlight pre .nc,.highlight code .nc{color:#d33682 !important}.pre-code .no,html .gist .gist-file .gist-syntax .highlight pre .no,.highlight code .no{color:#b58900 !important}.pre-code .nl,html .gist .gist-file .gist-syntax .highlight pre .nl,.highlight code .nl{color:#859900 !important}.pre-code .ne,html .gist .gist-file .gist-syntax .highlight pre .ne,.highlight code .ne{color:#268bd2 !important;font-weight:bold !important}.pre-code .nf,html .gist .gist-file .gist-syntax .highlight pre .nf,.highlight code .nf{color:#268bd2 !important;font-weight:bold !important}.pre-code .nn,html .gist .gist-file .gist-syntax .highlight pre .nn,.highlight code .nn{color:#b58900 !important}.pre-code .nt,html .gist .gist-file .gist-syntax .highlight pre .nt,.highlight code .nt{color:#268bd2 !important;font-weight:bold !important}.pre-code .nx,html .gist .gist-file .gist-syntax .highlight pre .nx,.highlight code .nx{color:#b58900 !important}.pre-code .vg,html .gist .gist-file .gist-syntax .highlight pre .vg,.highlight code .vg{color:#268bd2 !important}.pre-code .vi,html .gist .gist-file .gist-syntax .highlight pre .vi,.highlight code .vi{color:#268bd2 !important}.pre-code .nv,html .gist .gist-file .gist-syntax .highlight pre .nv,.highlight code .nv{color:#268bd2 !important}.pre-code .mf,html .gist .gist-file .gist-syntax .highlight pre .mf,.highlight code .mf{color:#2aa198 !important}.pre-code .m,html .gist .gist-file .gist-syntax .highlight pre .m,.highlight code .m{color:#2aa198 !important}.pre-code .mh,html .gist .gist-file .gist-syntax .highlight pre .mh,.highlight code .mh{color:#2aa198 !important}.pre-code .mi,html .gist .gist-file .gist-syntax .highlight pre .mi,.highlight code .mi{color:#2aa198 !important}.pre-code .s,html .gist .gist-file .gist-syntax .highlight pre .s,.highlight code .s{color:#2aa198 !important}.pre-code .sd,html .gist .gist-file .gist-syntax .highlight pre .sd,.highlight code .sd{color:#2aa198 !important}.pre-code .s2,html .gist .gist-file .gist-syntax .highlight pre .s2,.highlight code .s2{color:#2aa198 !important}.pre-code .se,html .gist .gist-file .gist-syntax .highlight pre .se,.highlight code .se{color:#dc322f !important}.pre-code .si,html .gist .gist-file .gist-syntax .highlight pre .si,.highlight code .si{color:#268bd2 !important}.pre-code .sr,html .gist .gist-file .gist-syntax .highlight pre .sr,.highlight code .sr{color:#2aa198 !important}.pre-code .s1,html .gist .gist-file .gist-syntax .highlight pre .s1,.highlight code .s1{color:#2aa198 !important}.pre-code div .gd,html .gist .gist-file .gist-syntax .highlight pre div .gd,.highlight code div .gd,.pre-code div .gd .x,html .gist .gist-file .gist-syntax .highlight pre div .gd .x,.highlight code div .gd .x,.pre-code div .gi,html .gist .gist-file .gist-syntax .highlight pre div .gi,.highlight code div .gi,.pre-code div .gi .x,html .gist .gist-file .gist-syntax .highlight pre div .gi .x,.highlight code div .gi .x{display:inline-block;width:100%}.highlight,.gist-highlight{margin-bottom:1.8em;background:#fdf6e3;overflow-y:hidden;overflow-x:auto}.highlight pre,.gist-highlight pre{background:none;-webkit-border-radius:0px;-moz-border-radius:0px;-ms-border-radius:0px;-o-border-radius:0px;border-radius:0px;border:none;padding:0;margin-bottom:0}pre::-webkit-scrollbar,.highlight::-webkit-scrollbar,.gist-highlight::-webkit-scrollbar{height:.5em;background:rgba(0,0,0,0.15)}pre::-webkit-scrollbar-thumb:horizontal,.highlight::-webkit-scrollbar-thumb:horizontal,.gist-highlight::-webkit-scrollbar-thumb:horizontal{background:rgba(0,0,0,0.15);-webkit-border-radius:4px;border-radius:4px}.highlight code{background:#000}figure.code{background:none;padding:0;border:0;margin-bottom:1.5em}figure.code pre{margin-bottom:0}figure.code figcaption{position:relative}figure.code .highlight{margin-bottom:0}.code-title,html .gist .gist-file .gist-meta a[href*=\\'#file\\'],h3.filename,figure.code figcaption{text-align:center;font-size:13px;line-height:2em;text-shadow:#cbcccc 0 1px 0;color:#474747;font-weight:normal;margin-bottom'\n",
      "Response data: b':0;-moz-border-radius-topleft:5px;-webkit-border-top-left-radius:5px;border-top-left-radius:5px;-moz-border-radius-topright:5px;-webkit-border-top-right-radius:5px;border-top-right-radius:5px;font-family:\"Helvetica Neue\", Arial, \"Lucida Grande\", \"Lucida Sans Unicode\", Lucida, sans-serif;background:#aaa url(\\'/images/code_bg.png?1413623488\\') top repeat-x;border:1px solid #565656;border-top-color:#cbcbcb;border-left-color:#a5a5a5;border-right-color:#a5a5a5;border-bottom:0}.download-source,html .gist .gist-file .gist-meta a[href*=raw],figure.code figcaption a{position:absolute;right:.8em;text-decoration:none;color:#666 !important;z-index:1;font-size:13px;text-shadow:#cbcccc 0 1px 0;padding-left:3em}.download-source:hover,html .gist .gist-file .gist-meta a[href*=raw]:hover,figure.code figcaption a:hover{text-decoration:underline}#archive #content>div,#archive #content>div>article{padding-top:0}#blog-archives{color:#aaa}#blog-archives article{padding:1em 0 1em;position:relative;background:url(\\'data:image/png;base64,iVBORw0KGgoAAAANSUhEUgAAACgAAAABCAYAAACsXeyTAAAACXBIWXMAAAsTAAALEwEAmpwYAAAAFUlEQVQIHWNIS0sr/v//PwMMDzY+ADqMahlW4J91AAAAAElFTkSuQmCC\\') bottom left repeat-x}#blog-archives article:last-child{background:none}#blog-archives article footer{padding:0;margin:0}#blog-archives h1{color:#073642;margin-bottom:.3em}#blog-archives h2{display:none}#blog-archives h1{font-size:1.5em}#blog-archives h1 a{text-decoration:none;color:inherit;font-weight:normal;display:inline-block}#blog-archives h1 a:hover{text-decoration:underline}#blog-archives h1 a:hover{color:#15e9d9}#blog-archives a.category,#blog-archives time{color:#aaa}#blog-archives .entry-content{display:none}#blog-archives time{font-size:.9em;line-height:1.2em}#blog-archives time .month,#blog-archives time .day{display:inline-block}#blog-archives time .month{text-transform:uppercase}#blog-archives p{margin-bottom:1em}#blog-archives a,#blog-archives .entry-content a{color:inherit}#blog-archives a:hover,#blog-archives .entry-content a:hover{color:#15e9d9}#blog-archives a:hover{color:#15e9d9}@media only screen and (min-width: 550px){#blog-archives article{margin-left:5em}#blog-archives h2{margin-bottom:.3em;font-weight:normal;display:inline-block;position:relative;top:-1px;float:left}#blog-archives h2:first-child{padding-top:.75em}#blog-archives time{position:absolute;text-align:right;left:0em;top:1.8em}#blog-archives .year{display:none}#blog-archives article{padding-left:4.5em;padding-bottom:.7em}#blog-archives a.category{line-height:1.1em}}#content>.category article{margin-left:0;padding-left:6.8em}#content>.category .year{display:inline}.side-shadow-border,aside.sidebar section h1,aside.sidebar li{-webkit-box-shadow:#fff 0 1px;-moz-box-shadow:#fff 0 1px;box-shadow:#fff 0 1px}aside.sidebar{overflow:hidden;color:#4d4d4d;text-shadow:#fff 0 1px}aside.sidebar section{font-size:.8em;line-height:1.4em;margin-bottom:1.5em}aside.sidebar section h1{margin:1.5em 0 0;padding-bottom:.2em;border-bottom:1px solid #e0e0e0}aside.sidebar section h1+p{padding-top:.4em}aside.sidebar img{-webkit-border-radius:0.3em;-moz-border-radius:0.3em;-ms-border-radius:0.3em;-o-border-radius:0.3em;border-radius:0.3em;-webkit-box-shadow:rgba(0,0,0,0.15) 0 1px 4px;-moz-box-shadow:rgba(0,0,0,0.15) 0 1px 4px;box-shadow:rgba(0,0,0,0.15) 0 1px 4px;-webkit-box-sizing:border-box;-moz-box-sizing:border-box;box-sizing:border-box;border:#fff 0.3em solid}aside.sidebar ul{margin-bottom:0.5em;margin-left:0}aside.sidebar li{list-style:none;padding:.5em 0;margin:0;border-bottom:1px solid #e0e0e0}aside.sidebar li p:last-child{margin-bottom:0}aside.sidebar a{color:inherit;-webkit-transition:color 0.5s;-moz-transition:color 0.5s;-o-transition:color 0.5s;transition:color 0.5s}aside.sidebar:hover a{color:#073642}aside.sidebar:hover a:hover{color:#15e9d9}.aside-alt-link,#pinboard_linkroll .pin-tag{color:gray}.aside-alt-link:hover,#pinboard_linkroll .pin-tag:hover{color:#15e9d9}@media only screen and (min-width: 768px){.toggle-sidebar{outline:none;position:absolute;right:-10px;top:0;bottom:0;display:inline-block;text-decoration:none;color:#cecece;width:9px;cursor:pointer}.toggle-sidebar:hover{background:#e9e9e9;background:-webkit-gradient(linear, 0% 50%, 100% 50%, color-stop(0%, rgba(224,224,224,0.5)), color-stop(100%, rgba(224,224,224,0)));background:-webkit-linear-gradient(left, rgba(224,224,224,0.5),rgba(224,224,224,0));background:-moz-linear-gradient(left, rgba(224,224,224,0.5),rgba(224,224,224,0));background:-o-linear-gradient(left, rgba(224,224,224,0.5),rgba(224,224,224,0));background:linear-gradient(left, rgba(224,224,224,0.5),rgba(224,224,224,0))}.toggle-sidebar:after{position:absolute;right:-11px;top:0;width:20px;font-size:1.2em;line-height:1.1em;padding-bottom:.15em;-moz-border-radius-bottomright:0.3em;-webkit-border-bottom-right-radius:0.3em;border-bottom-right-radius:0.3em;text-align:center;background:#fefcf6 url(\\'/images/noise.png?1413623488\\') top left;border-bottom:1px solid #e0e0e0;border-right:1px solid #e0e0e0;content:\"\\\\00BB\";text-indent:-1px}.collapse-sidebar .toggle-sidebar{text-indent:0px;right:-20px;width:19px}.collapse-sidebar .toggle-sidebar:hover{background:#e9e9e9}.collapse-sidebar .toggle-sidebar:after{border-left:1px solid #e0e0e0;text-shadow:#fff 0 1px;content:\"\\\\00AB\";left:0px;right:0;text-align:center;text-indent:0;border:0;border-right-width:0;background:none}}.googleplus h1{-moz-box-shadow:none !important;-webkit-box-shadow:none !important;-o-box-shadow:none !important;box-shadow:none !important;border-bottom:0px none !important}.googleplus a{text-decoration:none;white-space:normal !important;line-height:32px}.googleplus a img{float:left;margin-right:0.5em;border:0 none}.googleplus-hidden{position:absolute;top:-1000em;left:-1000em}#pinboard_linkroll .pin-title,#pinboard_linkroll .pin-description{display:block;margin-bottom:.5em}#pinboard_linkroll .pin-tag{text-decoration:none}#pinboard_linkroll .pin-tag:hover{text-decoration:underline}#pinboard_linkroll .pin-tag:after{content:\\',\\'}#pinboard_linkroll .pin-tag:last-child:after{content:\\'\\'}.delicious-posts a.delicious-link{margin-bottom:.5em;display:block}.delicious-posts p{font-size:1em}body>footer{font-size:.8em;color:#073642;text-shadow:#99a6aa 0 1px;background-color:#8b999e;background:url(\\'/images/noise.png?1413623488\\'),-webkit-gradient(linear, 50% 0%, 50% 100%, color-stop(0%, #a1adb1), color-stop(50%, #8b999e), color-stop(100%, #6d7e83));background:url(\\'/images/noise.png?1413623488\\'),-webkit-linear-gradient(#a1adb1,#8b999e,#6d7e83);background:url(\\'/images/noise.png?1413623488\\'),-moz-linear-gradient(#a1adb1,#8b999e,#6d7e83);background:url(\\'/images/noise.png?1413623488\\'),-o-linear-gradient(#a1adb1,#8b999e,#6d7e83);background:url(\\'/images/noise.png?1413623488\\'),linear-gradient(#a1adb1,#8b999e,#6d7e83);border-top:1px solid #b4bec1;position:relative;padding-top:1em;padding-bottom:1em;margin-bottom:3em;-moz-border-radius-bottomleft:0.4em;-webkit-border-bottom-left-radius:0.4em;border-bottom-left-radius:0.4em;-moz-border-radius-bottomright:0.4em;-webkit-border-bottom-right-radius:0.4em;border-bottom-right-radius:0.4em;z-index:1}body>footer a{color:#2f3638}body>footer a:visited{color:#2f3638}body>footer a:hover{color:#000}body>footer p:last-child{margin-bottom:0}article h1,article h2,article h3,article h4,article h5,article h6{color:#b58900}\\n'\n",
      "Stream ended\n"
     ]
    },
    {
     "name": "stdout",
     "output_type": "stream",
     "text": [
      "Raw Response Data: {'Total response time': 10.14429235458374}\n"
     ]
    }
   ],
   "source": [
    "\n",
    "async def test_frame_combination(frame_sequence):\n",
    "    ssl_context = ssl.create_default_context(purpose=ssl.Purpose.SERVER_AUTH)\n",
    "    ssl_context.set_alpn_protocols([\"h2\"])\n",
    "\n",
    "    host = 'nghttp2.org'\n",
    "    port = 443\n",
    "    path = '/'  \n",
    "\n",
    "    reader, writer = await asyncio.open_connection(host, port, ssl=ssl_context)\n",
    "    \n",
    "    config = H2Configuration(client_side=True)\n",
    "    conn = H2Connection(config=config)\n",
    "    conn.initiate_connection()\n",
    "    writer.write(conn.data_to_send())\n",
    "\n",
    "    start_time = time.time()  \n",
    "\n",
    "    stream_id = conn.get_next_available_stream_id()\n",
    "\n",
    "    for frame in frame_sequence:\n",
    "        if frame == \"HEADERS\":\n",
    "            headers = [\n",
    "                (':method', 'GET'),\n",
    "                (':authority', host),\n",
    "                (':scheme', 'https'),\n",
    "                (':path', path),\n",
    "            ]\n",
    "            conn.send_headers(stream_id, headers)\n",
    "        elif frame == \"DATA\":\n",
    "            data = b'Hello, world!'\n",
    "            conn.send_data(stream_id, data, end_stream=True)\n",
    "    \n",
    "\n",
    "        writer.write(conn.data_to_send())\n",
    "        await writer.drain()\n",
    "\n",
    "    while True:\n",
    "        data = await reader.read(4096)\n",
    "        if not data:\n",
    "            break\n",
    "\n",
    "        events = conn.receive_data(data)\n",
    "        for event in events:\n",
    "            if isinstance(event, ResponseReceived):\n",
    "                print('Response headers:', event.headers)\n",
    "            elif isinstance(event, DataReceived):\n",
    "                print('Response data:', event.data)\n",
    "            elif isinstance(event, StreamEnded):\n",
    "                print('Stream ended')\n",
    "                break\n",
    "\n",
    "    end_time = time.time()  # Record the end time\n",
    "\n",
    "    writer.close()\n",
    "    await writer.wait_closed()\n",
    "    \n",
    "    response_data = {\n",
    "        \"Total response time\": end_time - start_time\n",
    "       \n",
    "    }\n",
    "    analyze_results(\"Frame Combination Test Header, Data\", response_data)\n",
    "\n",
    "# Test with HEADERS and DATA frame combination\n",
    "await test_frame_combination([\"HEADERS\", \"DATA\"])"
   ]
  },
  {
   "cell_type": "markdown",
   "id": "dea8baf5",
   "metadata": {},
   "source": [
    "# Header, Settings and Window_Update"
   ]
  },
  {
   "cell_type": "code",
   "execution_count": 20,
   "id": "69482528",
   "metadata": {},
   "outputs": [
    {
     "name": "stdout",
     "output_type": "stream",
     "text": [
      "Response headers: [(b':status', b'200'), (b'date', b'Mon, 11 Dec 2023 02:30:59 GMT'), (b'content-type', b'text/css'), (b'last-modified', b'Fri, 27 Oct 2023 13:41:30 GMT'), (b'etag', b'\"653bbe0a-98aa\"'), (b'accept-ranges', b'bytes'), (b'content-length', b'39082'), (b'x-backend-header-rtt', b'0.001384'), (b'strict-transport-security', b'max-age=31536000'), (b'server', b'nghttpx'), (b'alt-svc', b'h3=\":443\"; ma=3600, h3-29=\":443\"; ma=3600'), (b'via', b'2 nghttpx'), (b'x-frame-options', b'SAMEORIGIN'), (b'x-xss-protection', b'1; mode=block'), (b'x-content-type-options', b'nosniff'), (b'x-http2-push', b'1')]\n",
      "Response data: b'html,body,div,span,applet,object,iframe,h1,h2,h3,h4,h5,h6,p,blockquote,pre,a,abbr,acronym,address,big,cite,code,del,dfn,em,img,ins,kbd,q,s,samp,small,strike,strong,sub,sup,tt,var,b,u,i,center,dl,dt,dd,ol,ul,li,fieldset,form,label,legend,table,caption,tbody,tfoot,thead,tr,th,td,article,aside,canvas,details,embed,figure,figcaption,footer,header,hgroup,menu,nav,output,ruby,section,summary,time,mark,audio,video{margin:0;padding:0;border:0;font:inherit;font-size:100%;vertical-align:baseline}html{line-height:1}ol,ul{list-style:none}table{border-collapse:collapse;border-spacing:0}caption,th,td{text-align:left;font-weight:normal;vertical-align:middle}q,blockquote{quotes:none}q:before,q:after,blockquote:before,blockquote:after{content:\"\";content:none}a img{border:none}article,aside,details,figcaption,figure,footer,header,hgroup,menu,nav,section,summary{display:block}a{color:#2aa198}a:visited{color:#2aa198}a:focus{color:#15e9d9}a:hover{color:#15e9d9}a:active{color:#0fa398}aside.sidebar a{color:#073642}aside.sidebar a:focus{color:#15e9d9}aside.sidebar a:hover{color:#15e9d9}aside.sidebar a:active{color:#0fa398}a{-webkit-transition:color 0.3s;-moz-transition:color 0.3s;-o-transition:color 0.3s;transition:color 0.3s}html{background:#002b36 url(\\'/images/line-tile.png?1413623488\\') top left}body>div{background:#f2f2f2 url(\\'/images/noise.png?1413623488\\') top left;border-bottom:1px solid #7d8d93}body>div>div{background:#fefcf6 url(\\'/images/noise.png?1413623488\\') top left;border-right:1px solid #e0e0e0}.heading,body>header h1,h1,h2,h3,h4,h5,h6{font-family:\"PT Serif\",\"Georgia\",\"Helvetica Neue\",Arial,sans-serif}.sans,body>header h2,article header p.meta,article>footer,#content .blog-index footer,html .gist .gist-file .gist-meta,#blog-archives a.category,#blog-archives time,aside.sidebar section,body>footer{font-family:\"PT Sans\",\"Helvetica Neue\",Arial,sans-serif}.serif,body,#content .blog-index a[rel=full-article]{font-family:\"PT Serif\",Georgia,Times,\"Times New Roman\",serif}.mono,pre,code,tt,p code,li code{font-family:Menlo,Monaco,\"Andale Mono\",\"lucida console\",\"Courier New\",monospace}body>header h1{font-size:2.2em;font-family:\"PT Serif\",\"Georgia\",\"Helvetica Neue\",Arial,sans-serif;font-weight:normal;line-height:1.2em;margin-bottom:0.6667em}body>header h2{font-family:\"PT Serif\",\"Georgia\",\"Helvetica Neue\",Arial,sans-serif}body{line-height:1.5em;color:#073642}h1{font-size:2.2em;line-height:1.2em}@media only screen and (min-width: 992px){body{font-size:1.15em}h1{font-size:2.6em;line-height:1.2em}}h1,h2,h3,h4,h5,h6{text-rendering:optimizelegibility;margin-bottom:1em;font-weight:bold}h2,section h1{font-size:1.5em}h3,section h2,section section h1{font-size:1.3em}h4,section h3,section section h2,section section section h1{font-size:1em}h5,section h4,section section h3{font-size:.9em}h6,section h5,section section h4,section section section h3{font-size:.8em}p,article blockquote,ul,ol{margin-bottom:1.5em}ul{list-style-type:disc}ul ul{list-style-type:circle;margin-bottom:0px}ul ul ul{list-style-type:square;margin-bottom:0px}ol{list-style-type:decimal}ol ol{list-style-type:lower-alpha;margin-bottom:0px}ol ol ol{list-style-type:lower-roman;margin-bottom:0px}ul,ul ul,ul ol,ol,ol ul,ol ol{margin-left:1.3em}ul ul,ul ol,ol ul,ol ol{margin-bottom:0em}strong{font-weight:bold}em{font-style:italic}sup,sub{font-size:0.75em;position:relative;display:inline-block;padding:0 .2em;line-height:.8em}sup{top:-.5em}sub{bottom:-.5em}a[rev=\\'footnote\\']{font-size:.75em;padding:0 .3em;line-height:1}q{font-style:italic}q:before{content:\"\\\\201C\"}q:after{content:\"\\\\201D\"}em,dfn{font-style:italic}strong,dfn{font-weight:bold}del,s{text-decoration:line-through}abbr,acronym{border-bottom:1px dotted;cursor:help}hr{margin-bottom:0.2em}small{font-size:.8em}big{font-size:1.2em}article blockquote{font-style:italic;position:relative;font-size:1.2em;line-height:1.5em;padding-left:1em;border-left:4px solid rgba(170,170,170,0.5)}article blockquote cite{font-style:italic}article blockquote cite a{color:#aaa !important;word-wrap:break-word}article blockquote cite:before{content:\\'\\\\2014\\';padding-right:.3em;padding-left:.3em;color:#aaa}@media only screen and (min-width: 992px){article blockquote{padding-left:1.5em;border-left-width:4px}}.pullquote-right:before,.pullquote-left:before{padding:0;border:none;content:attr(data-pullquote);float:right;width:45%;margin:.5em 0 1em 1.5em;position:relative;top:7px;font-size:1.4em;line-height:1.45em}.pullquote-left:before{float:left;margin:.5em 1.5em 1em 0}.force-wrap,article a,aside.sidebar a{white-space:-moz-pre-wrap;white-space:-pre-wrap;white-space:-o-pre-wrap;white-space:pre-wrap;word-wrap:break-word}.group,body>header,body>nav,body>footer,body #content>article,body #content>div>article,body #content>div>section,body div.pagination,aside.sidebar,#main,#content,.sidebar{*zoom:1}.group:after,body>header:after,body>nav:after,body>footer:after,body #content>article:after,body #content>div>section:after,body div.pagination:after,#main:after,#content:after,.sidebar:after{content:\"\";display:table;clear:both}body{-webkit-text-size-adjust:none;max-width:1200px;position:relative;margin:0 auto}body>header,body>nav,body>footer,body #content>article,body #content>div>article,body #content>div>section{padding-left:18px;padding-right:18px}@media only screen and (min-width: 480px){body>header,body>nav,body>footer,body #content>article,body #content>div>article,body #content>div>section{padding-left:25px;padding-right:25px}}@media only screen and (min-width: 768px){body>header,body>nav,body>footer,body #content>article,body #content>div>article,body #content>div>section{padding-left:35px;padding-right:35px}}@media only screen and (min-width: 992px){body>header,body>nav,body>footer,body #content>article,body #content>div>article,body #content>div>section{padding-left:55px;padding-right:55px}}body div.pagination{margin-left:18px;margin-right:18px}@media only screen and (min-width: 480px){body div.pagination{margin-left:25px;margin-right:25px}}@media only screen and (min-width: 768px){body div.pagination{margin-left:35px;margin-right:35px}}@media only screen and (min-width: 992px){body div.pagination{margin-left:55px;margin-right:55px}}body>header{font-size:1em;padding-top:1.5em;padding-bottom:1.5em}#content{overflow:hidden}#content>div,#content>article{width:100%}aside.sidebar{float:none;padding:0 18px 1px;background-color:#f7f7f7;border-top:1px solid #e0e0e0}.flex-content,article img,article video,article .flash-video,aside.sidebar img{max-width:100%;height:auto}.basic-alignment.left,article img.left,article video.left,article .left.flash-video,aside.sidebar img.left{float:left;margin-right:1.5em}.basic-alignment.right,article img.right,article video.right,article .right.flash-video,aside.sidebar img.right{float:right;margin-left:1.5em}.basic-alignment.center,article img.center,article video.center,article .center.flash-video,aside.sidebar img.center{display:block;margin:0 auto 1.5em}.basic-alignment.left,article img.left,article video.left,article .left.flash-video,aside.sidebar img.left,.basic-alignment.right,article img.right,article video.right,article .right.flash-video,aside.sidebar img.right{margin-bottom:.8em}.toggle-sidebar,.no-sidebar .toggle-sidebar{display:none}@media only screen and (min-width: 750px){body.sidebar-footer aside.sidebar{float:none;width:auto;clear:left;margin:0;padding:0 35px 1px;background-color:#f7f7f7;border-top:1px solid #eaeaea}body.sidebar-footer aside.sidebar section.odd,body.sidebar-footer aside.sidebar section.even{float:left;width:48%}body.sidebar-footer aside.sidebar section.odd{margin-left:0}body.sidebar-footer aside.sidebar section.even{margin-left:4%}body.sidebar-footer aside.sidebar.thirds section{width:30%;margin-left:5%}body.sidebar-footer aside.sidebar.thirds section.first{margin-left:0;clear:both}}body.sidebar-footer #content{margin-right:0px}body.sidebar-footer .toggle-sidebar{display:none}@media only screen and (min-width: 550px){body>header{font-size:1em}}@media only screen and (min-width: 750px){aside.sidebar{float:none;width:auto;clear:left;margin:0;padding:0 35px 1px;background-color:#f7f7f7;border-top:1px solid #eaeaea}aside.sidebar section.odd,aside.sidebar section.even{float:left;width:48%}aside.sidebar section.odd{margin-left:0}aside.sidebar section.even{margin-left:4%}aside.sidebar.thirds section{width:30%;margin-left:5%}aside.sidebar.thirds section.first{margin-left:0;clear:both}}@media only screen and (min-width: 768px){body{-webkit-text-size-adjust:auto}body>header{font-size:1.2em}#main{padding:0;margin:0 auto}#content{overflow:visible;margin-right:240px;position:relative}.no-sidebar #content{margin-right:0;border-right:0}.collapse-sidebar #content{margin-right:20px}#content>div,#content>article{padding-top:17.5px;padding-bottom:17.5px;float:left}aside.sidebar{width:210px;padding:0 15px 15px;background:none;clear:none;float:left;margin:0 -100% 0 0}aside.sidebar section{width:auto;margin-left:0}aside.sidebar section.odd,aside.sidebar section.even{float:none;width:auto;margin-left:0}.collapse-sidebar aside.sidebar{float:none;width:auto;clear:left;margin:0;padding:0 35px 1px;background-color:#f7f7f7;border-top:1px solid #eaeaea}.collapse-sidebar aside.sidebar section.odd,.collapse-sidebar aside.sidebar section.even{float:left;width:48%}.collapse-sidebar aside.sidebar section.odd{margin-left:0}.collapse-sidebar aside.sidebar section.even{margin-left:4%}.collapse-sidebar aside.sidebar.thirds section{width:30%;margin-left:5%}.collapse-sidebar aside.sidebar.thirds section.first{margin-left:0;clear:both}}@media only screen and (min-width: 992px){body>header{font-size:1.3em}#content{margin-right:300px}#content>div,#content>article{padding-top:27.5px;padding-bottom:27.5px}aside.sidebar{width:260px;padding:1.2em 20px 20px}.collapse-sidebar aside.sidebar{padding-left:55px;padding-right:55px}}@media only screen and (min-width: 768px){ul,ol{margin-left:0}}body>header{background:#073642}body>header h1{display:inline-block;margin:0}body>header h1 a,body>header h1 a:visited,body>header h1 a:hover{color:#b58900;text-decoration:none}body>header h2{margin:.2em 0 0;font-size:1em;color:#eee8d5;font-weight:normal}body>nav{position:relative;background-color:#8b999e;background:url(\\'/images/noise.png?1413623488\\'),-webkit-gradient(linear, 50% 0%, 50% 100%, color-stop(0%, #a1adb1), color-stop(50%, #8b999e), color-stop(100%, #6d7e83));background:url(\\'/images/noise.png?1413623488\\'),-webkit-linear-gradient(#a1adb1,#8b999e,#6d7e83);background:url(\\'/images/noise.png?1413623488\\'),-moz-linear-gradient(#a1adb1,#8b999e,#6d7e83);background:url(\\'/images/noise.png?1413623488\\'),-o-linear-gradient(#a1adb1,#8b999e,#6d7e83);background:url(\\'/images/noise.png?1413623488\\'),linear-gradient(#a1adb1,#8b999e,#6d7e83);border-top:1px solid #b4bec1;border-bottom:1px solid #4d595c;padding-top:.35em;padding-bottom:.35em}body>nav form{-webkit-background-clip:padding;-moz-background-clip:padding;background-clip:padding-box;margin:0;padding:0}body>nav form .search{padding:.3em .5em 0;font-size:.85em;font-family:\"PT Sans\",\"Helvetica Neue\",Arial,sans-serif;line-height:1.1em;width:95%;-webkit-border-radius:0.5em;-moz-border-radius:0.5em;-ms-border-radius:0.5em;-o-border-radius:0.5em;border-radius:0.5em;-webkit-background-clip:padding;-moz-background-clip:padding;background-clip:padding-box;-webkit-box-shadow:#909ea3 0 1px;-moz-box-shadow:#909ea3 0 1px;box-shadow:#909ea3 0 1px;background-color:#b4bec1;border:1px solid #708186;color:#888}body>nav form .search:focus{color:#444;border-color:#80b1df;-webkit-box-shadow:#80b1df 0 0 4px,#80b1df 0 0 3px inset;-moz-box-shadow:#80b1df 0 0 4px,#80b1df 0 0 3px inset;box-shadow:#80b1df 0 0 4px,#80b1df 0 0 3px inset;background-color:#fff;outline:none}body>nav fieldset[role=search]{float:right;width:48%}body>nav fieldset.mobile-nav{float:left;width:48%}body>nav fieldset.mobile-nav select{width:100%;font-size:.8em;border:1px solid #888}body>nav ul{display:none}@media only screen and (min-width: 550px){body>nav{font-size:.9em}body>nav ul{margin:0;padding:0;border:0;overflow:hidden;*zoom:1;float:left;display:block;padding-top:.15em}body>nav ul li{list-style-image:none;list-style-type:none;margin-left:0;white-space:nowrap;display:inline;float:left;padding-left:0;padding-right:0}body>nav ul li:first-child,body>nav ul li.first{padding-left:0}body>nav ul li:last-child{padding-right:0}body>nav ul li.last{padding-right:0}body>nav ul.subscription{margin-left:.8em;float:right}body>nav ul.subscription li:last-child a{padding-right:0}body>nav ul li{margin:0}body>nav a{color:#073642;font-family:\"PT Sans\",\"Helvetica Neue\",Arial,sans-serif;text-shadow:#acb7ba 0 1px;float:left;text-decoration:none;font-size:1.1em;padding:.1em 0;line-height:1.5em}body>nav a:visited{color:#073642}body>nav a:hover{color:#000}body>nav li+li{border-left:1px solid #6d7e83;margin-left:.8em}body>nav li+li a{padding-left:.8em;border-left:1px solid #9eaaae}body>nav form{float:right;text-align:left;padding-left:.8em;width:175px}body>nav form .search{width:93%;font-size:.95em;line-height:1.2em}body>nav ul[data-subscription$=email]+form{width:97px}body>nav ul[data-subscription$=email]+form .search{width:91%}body>nav fieldset.mobile-nav{display:none}body>nav fieldset[role=search]{width:99%}}@media only screen and (min-width: 992px){body>nav form{width:215px}body>nav ul[data-subscription$=email]+form{width:147px}}.no-placeholder body>nav .search{background:#b4bec1 url(\\'/images/search.png?1413623488\\') 0.3em 0.25em no-repeat;text-indent:1.3em}@media only screen and (min-width: 550px){.maskImage body>nav ul[data-subscription$=email]+form{width:123px}}@media only screen and (min-width: 992px){.maskImage body>nav ul[data-subscription$=email]+form{width:173px}}.maskImage ul.subscription{position:relative;top:.2em}.maskImage ul.subscription li,.maskImage ul.subscription a{border:0;padding:0}.maskImage a[rel=subscribe-rss]{position:relative;top:0px;text-indent:-999999em;background-color:#9eaaae;border:0;padding:0}.maskImage a[rel=subscribe-rss],.maskImage a[rel=subscribe-rss]:after{-webkit-mask-image:url(\\'/images/rss.png?1413623488\\');-moz-mask-image:url(\\'/images/rss.png?1413623488\\');-ms-mask-image:url(\\'/images/rss.png?1413623488\\');-o-mask-image:url(\\'/images/rss.png?1413623488\\');mask-image:url(\\'/images/rss.png?1413623488\\');-webkit-mask-repeat:no-repeat;-moz-mask-repeat:no-repeat;-ms-mask-repeat:no-repeat;-o-mask-repeat:no-repeat;mask-repeat:no-repeat;width:22px;height:22px}.maskImage a[rel=subscribe-rss]:after{content:\"\";position:absolute;top:-1px;left:0;background-color:#1394b5}.maskImage a[rel=subscribe-rss]:hover:after{background-color:#11819e}.maskImage a[rel=subscribe-email]{position:relative;top:0px;text-indent:-999999em;background-color:#9eaaae;border:0;padding:0}.maskImage a[rel=subscribe-email],.maskImage a[rel=subscribe-email]:after{-webkit-mask-image:url(\\'/images/email.png?1413623488\\');-moz-mask-image:url(\\'/images/email.png?1413623488\\');-ms-mask-image:url(\\'/images/email.png?1413623488\\');-o-mask-image:url(\\'/images/email.png?1413623488\\');mask-image:url(\\'/images/email.png?1413623488\\');-webkit-mask-repeat:no-repeat;-moz-mask-repeat:no-repeat;-ms-mask-repeat:no-repeat;-o-mask-repeat:no-repeat;mask-repeat:no-repeat;width:28px;height:22px}.maskImage a[rel=subscribe-email]:after{content:\"\";position:absolute;top:-1px;left:0;background-color:#1394b5}.maskImage a[rel=subscribe-email]:hover:after{background-color:#11819e}article{padding-top:1em}article header{position:relative;padding-top:2em;padding-bottom:1em;margin-bottom:1em;background:url(\\'data:image/png;base64,iVBORw0KGgoAAAANSUhEUgAAACgAAAABCAYAAACsXeyTAAAACXBIWXMAAAsTAAALEwEAmpwYAAAAFUlEQVQIHWNIS0sr/v//PwMMDzY+ADqMahlW4J91AAAAAElFTkSuQmCC\\') bottom left repeat-x}article header h1{margin:0}article header h1 a{text-decoration:none}article header h1 a:hover{text-decoration:underline}article header p{font-size:.9em;color:#aaa;margin:0}article header p.meta{text-transform:uppercase;position:absolute;top:0}@media only screen and (min-width: 768px){article header{margin-bottom:1.5em;padding-bottom:1em;background:url(\\'d'\n",
      "Response data: b'ata:image/png;base64,iVBORw0KGgoAAAANSUhEUgAAACgAAAABCAYAAACsXeyTAAAACXBIWXMAAAsTAAALEwEAmpwYAAAAFUlEQVQIHWNIS0sr/v//PwMMDzY+ADqMahlW4J91AAAAAElFTkSuQmCC\\') bottom left repeat-x}}article h2{padding-top:0.8em;background:url(\\'data:image/png;base64,iVBORw0KGgoAAAANSUhEUgAAACgAAAABCAYAAACsXeyTAAAACXBIWXMAAAsTAAALEwEAmpwYAAAAFUlEQVQIHWNIS0sr/v//PwMMDzY+ADqMahlW4J91AAAAAElFTkSuQmCC\\') top left repeat-x}.entry-content article h2:first-child,article header+h2{padding-top:0}article h2:first-child,article header+h2{background:none}article .feature{padding-top:.5em;margin-bottom:1em;padding-bottom:1em;background:url(\\'data:image/png;base64,iVBORw0KGgoAAAANSUhEUgAAACgAAAABCAYAAACsXeyTAAAACXBIWXMAAAsTAAALEwEAmpwYAAAAFUlEQVQIHWNIS0sr/v//PwMMDzY+ADqMahlW4J91AAAAAElFTkSuQmCC\\') bottom left repeat-x;font-size:2.0em;font-style:italic;line-height:1.3em}article img,article video,article .flash-video{-webkit-border-radius:0.3em;-moz-border-radius:0.3em;-ms-border-radius:0.3em;-o-border-radius:0.3em;border-radius:0.3em;-webkit-box-shadow:rgba(0,0,0,0.15) 0 1px 4px;-moz-box-shadow:rgba(0,0,0,0.15) 0 1px 4px;box-shadow:rgba(0,0,0,0.15) 0 1px 4px;-webkit-box-sizing:border-box;-moz-box-sizing:border-box;box-sizing:border-box;border:#fff 0.5em solid}article video,article .flash-video{margin:0 auto 1.5em}article video{display:block;width:100%}article .flash-video>div{position:relative;display:block;padding-bottom:56.25%;padding-top:1px;height:0;overflow:hidden}article .flash-video>div iframe,article .flash-video>div object,article .flash-video>div embed{position:absolute;top:0;left:0;width:100%;height:100%}article>footer{padding-bottom:2.5em;margin-top:2em}article>footer p.meta{margin-bottom:.8em;font-size:.85em;clear:both;overflow:hidden}.blog-index article+article{background:url(\\'data:image/png;base64,iVBORw0KGgoAAAANSUhEUgAAACgAAAABCAYAAACsXeyTAAAACXBIWXMAAAsTAAALEwEAmpwYAAAAFUlEQVQIHWNIS0sr/v//PwMMDzY+ADqMahlW4J91AAAAAElFTkSuQmCC\\') top left repeat-x}#content .blog-index{padding-top:0;padding-bottom:0}#content .blog-index article{padding-top:2em}#content .blog-index article header{background:none;padding-bottom:0}#content .blog-index article h1{font-size:2.2em}#content .blog-index article h1 a{color:inherit}#content .blog-index article h1 a:hover{color:#15e9d9}#content .blog-index a[rel=full-article]{background:#fdf4de;display:inline-block;padding:.4em .8em;margin-right:.5em;text-decoration:none;color:#587076;-webkit-transition:background-color 0.5s;-moz-transition:background-color 0.5s;-o-transition:background-color 0.5s;transition:background-color 0.5s}#content .blog-index a[rel=full-article]:hover{background:#15e9d9;text-shadow:none;color:#fefcf6}#content .blog-index footer{margin-top:1em}.separator,article>footer .byline+time:before,article>footer time+time:before,article>footer .comments:before,article>footer .byline ~ .categories:before{content:\"\\\\2022 \";padding:0 .4em 0 .2em;display:inline-block}#content div.pagination{text-align:center;font-size:.95em;position:relative;background:url(\\'data:image/png;base64,iVBORw0KGgoAAAANSUhEUgAAACgAAAABCAYAAACsXeyTAAAACXBIWXMAAAsTAAALEwEAmpwYAAAAFUlEQVQIHWNIS0sr/v//PwMMDzY+ADqMahlW4J91AAAAAElFTkSuQmCC\\') top left repeat-x;padding-top:1.5em;padding-bottom:1.5em}#content div.pagination a{text-decoration:none;color:#aaa}#content div.pagination a.prev{position:absolute;left:0}#content div.pagination a.next{position:absolute;right:0}#content div.pagination a:hover{color:#15e9d9}#content div.pagination a[href*=archive]:before,#content div.pagination a[href*=archive]:after{content:\\'\\\\2014\\';padding:0 .3em}p.meta+.sharing{padding-top:1em;padding-left:0;background:url(\\'data:image/png;base64,iVBORw0KGgoAAAANSUhEUgAAACgAAAABCAYAAACsXeyTAAAACXBIWXMAAAsTAAALEwEAmpwYAAAAFUlEQVQIHWNIS0sr/v//PwMMDzY+ADqMahlW4J91AAAAAElFTkSuQmCC\\') top left repeat-x}#fb-root{display:none}.highlight,html .gist .gist-file .gist-syntax .gist-highlight{border:1px solid #e7dec3 !important}.highlight table td.code,html .gist .gist-file .gist-syntax .gist-highlight table td.code{width:100%}.highlight .line-numbers,html .gist .gist-file .gist-syntax .highlight .line_numbers{text-align:right;font-size:13px;line-height:1.45em;background:#fdf8e8 url(\\'/images/noise.png?1413623488\\') top left !important;'\n",
      "Response data: b'border-right:1px solid #ebe4ce !important;-webkit-box-shadow:#fef9ed -1px 0 inset;-moz-box-shadow:#fef9ed -1px 0 inset;box-shadow:#fef9ed -1px 0 inset;text-shadow:#f1ecdc 0 -1px;padding:.8em !important;-webkit-border-radius:0;-moz-border-radius:0;-ms-border-radius:0;-o-border-radius:0;border-radius:0}.highlight .line-numbers span,html .gist .gist-file .gist-syntax .highlight .line_numbers span{color:#93a1a1 !important}figure.code,.gist-file,pre{-webkit-box-shadow:rgba(0,0,0,0.06) 0 0 10px;-moz-box-shadow:rgba(0,0,0,0.06) 0 0 10px;box-shadow:rgba(0,0,0,0.06) 0 0 10px}figure.code .highlight pre,.gist-file .highlight pre,pre .highlight pre{-webkit-box-shadow:none;-moz-box-shadow:none;box-shadow:none}.gist .highlight *::-moz-selection,figure.code .highlight *::-moz-selection{background:#fff;color:inherit;text-shadow:#fdf6e3 0 1px}.gist .highlight *::-webkit-selection,figure.code .highlight *::-webkit-selection{background:#fff;color:inherit;text-shadow:#fdf6e3 0 1px}.gist .highlight *::selection,figure.code .highlight *::selection{background:#fff;color:inherit;text-shadow:#fdf6e3 0 1px}html .gist .gist-file{margin-bottom:1.8em;position:relative;border:none;padding-top:26px !important}html .gist .gist-file .highlight{margin-bottom:0}html .gist .gist-file .gist-syntax{border-bottom:0 !important;background:none !important}html .gist .gist-file .gist-syntax .gist-highlight{background:#fdf6e3 !important}html .gist .gist-file .gist-syntax .highlight pre{padding:0}html .gist .gist-file .gist-meta{padding:.6em 0.8em;border:1px solid #f1ecdc !important;color:#93a1a1;font-size:.7em !important;background:#fef9ed url(\\'/images/noise.png?1413623488\\') top left;border:1px solid #e7dec3 !important;border-top:1px solid #fef9ed !important;line-height:1.5em}html .gist .gist-file .gist-meta a{color:#75878b !important;text-decoration:none}html .gist .gist-file .gist-meta a:hover{text-decoration:underline}html .gist .gist-file .gist-meta a:hover{color:#586e75 !important}html .gist .gist-file .gist-meta a[href*=\\'#file\\']{position:absolute;top:0;left:0;right:-10px;color:#474747 !important}html .gist .gist-file .gist-meta a[href*=\\'#file\\']:hover{color:#2aa198 !important}html .gist .gist-file .gist-meta a[href*=raw]{top:.4em}pre{background:#fdf6e3 url(\\'/images/noise.png?1413623488\\') top left;-webkit-border-radius:0.4em;-moz-border-radius:0.4em;-ms-border-radius:0.4em;-o-border-radius:0.4em;border-radius:0.4em;border:1px solid #e7dec3;line-height:1.45em;font-size:13px;margin-bottom:2.1em;padding:.8em 1em;color:#586e75;overflow:auto}h3.filename+pre{-moz-border-radius-topleft:0px;-webkit-border-top-left-radius:0px;border-top-left-radius:0px;-moz-border-radius-topright:0px;-webkit-border-top-right-radius:0px;border-top-right-radius:0px}p code,li code{display:inline-block;white-space:no-wrap;background:#fff;font-size:.8em;line-height:1.5em;color:#555;border:1px solid #ddd;-webkit-border-radius:0.4em;-moz-border-radius:0.4em;-ms-border-radius:0.4em;-o-border-radius:0.4em;border-radius:0.4em;padding:0 .3em;margin:-1px 0}p pre code,li pre code{font-size:1em !important;background:none;border:none}.pre-code,html .gist .gist-file .gist-syntax .highlight pre,.highlight code{font-family:Menlo,Monaco,\"Andale Mono\",\"lucida console\",\"Courier New\",monospace !important;overflow:scroll;overflow-y:hidden;display:block;padding:.8em;overflow-x:auto;line-height:1.45em;background:#fdf6e3 url(\\'/images/noise.png?1413623488\\') top left !important;color:#586e75 !important}.pre-code span,html .gist .gist-file .gist-syntax .highlight pre span,.highlight code span{color:#586e75 !important}.pre-code span,html .gist .gist-file .gist-syntax .highlight pre span,.highlight code span{font-style:normal !important;font-weight:normal !important}.pre-code .c,html .gist .gist-file .gist-syntax .highlight pre .c,.highlight code .c{color:#93a1a1 !important;font-style:italic !important}.pre-code .cm,html .gist .gist-file .gist-syntax .highlight pre .cm,.highlight code .cm{color:#93a1a1 !important;font-style:italic !important}.pre-code .cp,html .gist .gist-file .gist-syntax .highlight pre .cp,.highlight code .cp{color:#93a1a1 !important;font-style:italic !important}.pre-code .c1,html .gist .gist-file .gist-syntax .highlight pre .c1,.highlight code .c1{color:#93a1a1 !important;font-style:italic !important}.pre-code .cs,html .gist .gist-file .gist-syntax .highlight pre .cs,.highlight code .cs{color:#93a1a1 !important;font-weight:bold !important;font-style:italic !important}.pre-code .err,html .gist .gist-file .gist-syntax .highlight pre .err,.highlight code .err{color:#dc322f !important;background:none !important}.pre-code .k,html .gist .gist-file .gist-syntax .highlight pre .k,.highlight code .k{color:#cb4b16 !important}.pre-code .o,html .gist .gist-file .gist-syntax .highlight pre .o,.highlight code .o{color:#586e75 !important;font-weight:bold !important}.pre-code .p,html .gist .gist-file .gist-syntax .highlight pre .p,.highlight code .p{color:#586e75 !important}.pre-code .ow,html .gist .gist-file .gist-syntax .highlight pre .ow,.highlight code .ow{color:#2aa198 !important;font-weight:bold !important}.pre-code .gd,html .gist .gist-file .gist-syntax .highlight pre .gd,.highlight code .gd{color:#586e75 !important;background-color:#f4c5b6 !important;display:inline-block}.pre-code .gd .x,html .gist .gist-file .gist-syntax .highlight pre .gd .x,.highlight code .gd .x{color:#586e75 !important;background-color:#f1b1a4 !important;display:inline-block}.pre-code .ge,html .gist .gist-file .gist-syntax .highlight pre .ge,.highlight code .ge{color:#586e75 !important;font-style:italic !important}.pre-code .gh,html .gist .gist-file .gist-syntax .highlight pre .gh,.highlight code .gh{color:#93a1a1 !important}.pre-code .gi,html .gist .gist-file .gist-syntax .highlight pre .gi,.highlight code .gi{color:#586e75 !important;background-color:#e5e3b5 !important;display:inline-block}.pre-code .gi .x,html .gist .gist-file .gist-syntax .highlight pre .gi .x,.highlight code .gi .x{color:#586e75 !important;background-color:#cdd088 !important;display:inline-block}.pre-code .gs,html .gist .gist-file .gist-syntax .highlight pre .gs,.highlight code .gs{color:#586e75 !important;font-weight:bold !important}.pre-code .gu,html .gist .gist-file .gist-syntax .highlight pre .gu,.highlight code .gu{color:#6c71c4 !important}.pre-code .kc,html .gist .gist-file .gist-syntax .highlight pre .kc,.highlight code .kc{color:#859900 !important;font-weight:bold !important}.pre-code .kd,html .gist .gist-file .gist-syntax .highlight pre .kd,.highlight code .kd{color:#268bd2 !important}.pre-code .kp,html .gist .gist-file .gist-syntax .highlight pre .kp,.highlight code .kp{color:#cb4b16 !important;font-weight:bold !important}.pre-code .kr,html .gist .gist-file .gist-syntax .highlight pre .kr,.highlight code .kr{color:#d33682 !important;font-weight:bold !important}.pre-code .kt,html .gist .gist-file .gist-syntax .highlight pre .kt,.highlight code .kt{color:#2aa198 !important}.pre-code .n,html .gist .gist-file .gist-syntax .highlight pre .n,.highlight code .n{color:#268bd2 !important}.pre-code .na,html .gist .gist-file .gist-syntax .highlight pre .na,.highlight code .na{color:#268bd2 !important}.pre-code .nb,html .gist .gist-file .gist-syntax .highlight pre .nb,.highlight code .nb{color:#859900 !important}.pre-code .nc,html .gist .gist-file .gist-syntax .highlight pre .nc,.highlight code .nc{color:#d33682 !important}.pre-code .no,html .gist .gist-file .gist-syntax .highlight pre .no,.highlight code .no{color:#b58900 !important}.pre-code .nl,html .gist .gist-file .gist-syntax .highlight pre .nl,.highlight code .nl{color:#859900 !important}.pre-code .ne,html .gist .gist-file .gist-syntax .highlight pre .ne,.highlight code .ne{color:#268bd2 !important;font-weight:bold !important}.pre-code .nf,html .gist .gist-file .gist-syntax .highlight pre .nf,.highlight code .nf{color:#268bd2 !important;font-weight:bold !important}.pre-code .nn,html .gist .gist-file .gist-syntax .highlight pre .nn,.highlight code .nn{color:#b58900 !important}.pre-code .nt,html .gist .gist-file .gist-syntax .highlight pre .nt,.highlight code .nt{color:#268bd2 !important;font-weight:bold !important}.pre-code .nx,html .gist .gist-file .gist-syntax .highlight pre .nx,.highlight code .nx{color:#b58900 !important}.pre-code .vg,html .gist .gist-file .gist-syntax .highlight pre .vg,.highlight code .vg{color:#268bd2 !important}.pre-code .vi,html .gist .gist-file .gist-syntax .highlight pre .vi,.highlight code .vi{color:#268bd2 !important}.pre-code .nv,html .gist .gist-file .gist-syntax .highlight pre .nv,.highlight code .nv{color:#268bd2 !important}.pre-code .mf,html .gist .gist-file .gist-syntax .highlight pre .mf,.highlight code .mf{color:#2aa198 !important}.pre-code .m,html .gist .gist-file .gist-syntax .highlight pre .m,.highlight code .m{color:#2aa198 !important}.pre-code .mh,html .gist .gist-file .gist-syntax .highlight pre .mh,.highlight code .mh{color:#2aa198 !important}.pre-code .mi,html .gist .gist-file .gist-syntax .highlight pre .mi,.highlight code .mi{color:#2aa198 !important}.pre-code .s,html .gist .gist-file .gist-syntax .highlight pre .s,.highlight code .s{color:#2aa198 !important}.pre-code .sd,html .gist .gist-file .gist-syntax .highlight pre .sd,.highlight code .sd{color:#2aa198 !important}.pre-code .s2,html .gist .gist-file .gist-syntax .highlight pre .s2,.highlight code .s2{color:#2aa198 !important}.pre-code .se,html .gist .gist-file .gist-syntax .highlight pre .se,.highlight code .se{color:#dc322f !important}.pre-code .si,html .gist .gist-file .gist-syntax .highlight pre .si,.highlight code .si{color:#268bd2 !important}.pre-code .sr,html .gist .gist-file .gist-syntax .highlight pre .sr,.highlight code .sr{color:#2aa198 !important}.pre-code .s1,html .gist .gist-file .gist-syntax .highlight pre .s1,.highlight code .s1{color:#2aa198 !important}.pre-code div .gd,html .gist .gist-file .gist-syntax .highlight pre div .gd,.highlight code div .gd,.pre-code div .gd .x,html .gist .gist-file .gist-syntax .highlight pre div .gd .x,.highlight code div .gd .x,.pre-code div .gi,html .gist .gist-file .gist-syntax .highlight pre div .gi,.highlight code div .gi,.pre-code div .gi .x,html .gist .gist-file .gist-syntax .highlight pre div .gi .x,.highlight code div .gi .x{display:inline-block;width:100%}.highlight,.gist-highlight{margin-bottom:1.8em;background:#fdf6e3;overflow-y:hidden;overflow-x:auto}.highlight pre,.gist-highlight pre{background:none;-webkit-border-radius:0px;-moz-border-radius:0px;-ms-border-radius:0px;-o-border-radius:0px;border-radius:0px;border:none;padding:0;margin-bottom:0}pre::-webkit-scrollbar,.highlight::-webkit-scrollbar,.gist-highlight::-webkit-scrollbar{height:.5em;background:rgba(0,0,0,0.15)}pre::-webkit-scrollbar-thumb:horizontal,.highlight::-webkit-scrollbar-thumb:horizontal,.gist-highlight::-webkit-scrollbar-thumb:horizontal{background:rgba(0,0,0,0.15);-webkit-border-radius:4px;border-radius:4px}.highlight code{background:#000}figure.code{background:none;padding:0;border:0;margin-bottom:1.5em}figure.code pre{margin-bottom:0}figure.code figcaption{position:relative}figure.code .highlight{margin-bottom:0}.code-title,html .gist .gist-file .gist-meta a[href*=\\'#file\\'],h3.filename,figure.code figcaption{text-align:center;font-size:13px;line-height:2em;text-shadow:#cbcccc 0 1px 0;color:#474747;font-weight:normal;margin-bottom:0;-moz-border-radius-topleft:5px;-webkit-border-top-left-radius:5px;border-top-left-radius:5px;-moz-border-radius-topright:5px;-webkit-border-top-right-radius:5px;border-top-right-radius:5px;font-family:\"Helvetica Neue\", Arial, \"Lucida Grande\", \"Lucida Sans Unicode\", Lucida, sans-serif;background:#aaa url(\\'/images/code_bg.png?1413623488\\') top repeat-x;border:1px solid #565656;border-top-color:#cbcbcb;border-left-color:#a5a5a5;border-right-color:#a5a5a5;border-bottom:0}.download-source,html .gist .gist-file .gist-meta a[href*=raw],figure.code figcaption a{position:absolute;right:.8em;text-decoration:none;color:#666 !important;z-index:1;font-size:13px;text-shadow:#cbcccc 0 1px 0;padding-left:3em}.download-source:hover,html .gist .gist-file .gist-meta a[href*=raw]:hover,figure.code figcaption a:hover{text-decoration:underline}#archive #content>div,#archive #content>div>article{padding-top:0}#blog-archives{color:#aaa}#blog-archives article{padding:1em 0 1em;position:relative;background:url(\\'data:image/png;base64,iVBORw0KGgoAAAANSUhEUgAAACgAAAABCAYAAACsXeyTAAAACXBIWXMAAAsTAAALEwEAmpwYAAAAFUlEQVQIHWNIS0sr/v//PwMMDzY+ADqMahlW4J91AAAAAElFTkSuQmCC\\') bottom left repeat-x}#blog-archives article:last-child{background:none}#blog-archives article footer{padding:0;margin:0}#blog-archives h1{color:#073642;margin-bottom:.3em}#blog-archives h2{display:none}#blog-archives h1{font-size:1.5em}#blog-archives h1 a{text-decoration:none;color:inherit;font-weight:normal;display:inline-block}#blog-archives h1 a:hover{text-decoration:underline}#blog-archives h1 a:hover{color:#15e9d9}#blog-archives a.category,#blog-archives time{color:#aaa}#blog-archives .entry-content{display:none}#blog-archives time{font-size:.9em;line-height:1.2em}#blog-archives time .month,#blog-archives time .day{display:inline-block}#blog-archives time .month{text-transform:uppercase}#blog-archives p{margin-bottom:1em}#blog-archives a,#blog-archives .entry-content a{color:inherit}#blog-archives a:hover,#blog-archives .entry-content a:hover{color:#15e9d9}#blog-archives a:hover{color:#15e9d9}@media only screen and (min-width: 550px){#blog-archives article{margin-left:5em}#blog-archives h2{margin-bottom:.3em;font-weight:normal;display:inline-block;position:relative;top:-1px;float:left}#blog-archives h2:first-child{padding-top:.75em}#blog-archives time{position:absolute;text-align:right;left:0em;top:1.8em}#blog-archives .year{display:none}#blog-archives article{padding-left:4.5em;padding-bottom:.7em}#blog-archives a.category{line-height:1.1em}}#content>.category article{margin-left:0;padding-left:6.8em}#content>.category .year{display:inline}.side-shadow-border,aside.sidebar section h1,aside.sidebar li{-webkit-box-shadow:#fff 0 1px;-moz-box-shadow:#fff 0 1px;box-shadow:#fff 0 1px}aside.sidebar{overflow:hidden;color:#4d4d4d;text-shadow:#fff 0 1px}aside.sidebar section{font-size:.8em;line-height:1.4em;margin-bottom:1.5em}aside.sidebar section h1{margin:1.5em 0 0;padding-bottom:.2em;border-bottom:1px solid #e0e0e0}aside.sidebar section h1+p{padding-top:.4em}aside.sidebar img{-webkit-border-radius:0.3em;-moz-border-radius:0.3em;-ms-border-radius:0.3em;-o-border-radius:0.3em;border-radius:0.3em;-webkit-box-shadow:rgba(0,0,0,0.15) 0 1px 4px;-moz-box-shadow:rgba(0,0,0,0.15) 0 1px 4px;box-shadow:rgba(0,0,0,0.15) 0 1px 4px;-webkit-box-sizing:border-box;-moz-box-sizing:border-box;box-sizing:border-box;border:#fff 0.3em solid}aside.sidebar ul{margin-bottom:0.5em;margin-left:0}aside.sidebar li{list-style:none;padding:.5em 0;margin:0;border-bottom:1px solid #e0e0e0}aside.sidebar li p:last-child{margin-bottom:0}aside.sidebar a{color:inherit;-webkit-transition:color 0.5s;-moz-transition:color 0.5s;-o-transition:color 0.5s;transition:color 0.5s}aside.sidebar:hover a{color:#073642}aside.sidebar:hover a:hover{color:#15e9d9}.aside-alt-link,#pinboard_linkroll .pin-tag{color:gray}.aside-alt-link:hover,#pinboard_linkroll .pin-tag:hover{color:#15e9d9}@media only screen and (min-width: 768px){.toggle-sidebar{outline:none;position:absolute;right:-10px;top:0;bottom:0;display:inline-block;text-decoration:none;color:#cecece;width:9px;cursor:pointer}.toggle-sidebar:hover{background:#e9e9e9;background:-webkit-gradient(linear, 0% 50%, 100% 50%, color-stop(0%, rgba(224,224,224,0.5)), color-stop(100%, rgba(224,224,224,0)));background:-webkit-linear-gradient(left, rgba(224,224,224,0.5),rgba(224,224,224,0));background:-moz-linear-gradient(left, rgba(224,224,224,0.5),rgba(224,224,224,0));background:-o-linear-gradient(left, rgba(224,224,224,0.5),rgba(224,224,224,0));background:linear-gradient(left, rgba(224,224,224,0.5),rgba(224,224,224,0))}.toggle-sidebar:after{position:absolute;right:-11px;top:0;width:20px;font-size:1.2em;line-height:1.1em;padding-bottom:.15em;-moz-border-radius-bottomright:0.3em;-webkit-border-bottom-right-radius:0.3em;border-bottom-right-radius:0.3em;text-align:center;background:#fefcf6 url(\\'/images/noise.png?1413623488\\') top left;border-bottom:1px solid #e0e0e0;bo'\n",
      "Response data: b'rder-right:1px solid #e0e0e0;content:\"\\\\00BB\";text-indent:-1px}.collapse-sidebar .toggle-sidebar{text-indent:0px;right:-20px;width:19px}.collapse-sidebar .toggle-sidebar:hover{background:#e9e9e9}.collapse-sidebar .toggle-sidebar:after{border-left:1px solid #e0e0e0;text-shadow:#fff 0 1px;content:\"\\\\00AB\";left:0px;right:0;text-align:center;text-indent:0;border:0;border-right-width:0;background:none}}.googleplus h1{-moz-box-shadow:none !important;-webkit-box-shadow:none !important;-o-box-shadow:none !important;box-shadow:none !important;border-bottom:0px none !important}.googleplus a{text-decoration:none;white-space:normal !important;line-height:32px}.googleplus a img{float:left;margin-right:0.5em;border:0 none}.googleplus-hidden{position:absolute;top:-1000em;left:-1000em}#pinboard_linkroll .pin-title,#pinboard_linkroll .pin-description{display:block;margin-bottom:.5em}#pinboard_linkroll .pin-tag{text-decoration:none}#pinboard_linkroll .pin-tag:hover{text-decoration:underline}#pinboard_linkroll .pin-tag:after{content:\\',\\'}#pinboard_linkroll .pin-tag:last-child:after{content:\\'\\'}.delicious-posts a.delicious-link{margin-bottom:.5em;display:block}.delicious-posts p{font-size:1em}body>footer{font-size:.8em;color:#073642;text-shadow:#99a6aa 0 1px;background-color:#8b999e;background:url(\\'/images/noise.png?1413623488\\'),-webkit-gradient(linear, 50% 0%, 50% 100%, color-stop(0%, #a1adb1), color-stop(50%, #8b999e), color-stop(100%, #6d7e83));background:url(\\'/images/noise.png?1413623488\\'),-webkit-linear-gradient(#a1adb1,#8b999e,#6d7e83);background:url(\\'/images/noise.png?1413623488\\'),-moz-linear-gradient(#a1adb1,#8b999e,#6d7e83);background:url(\\'/images/noise.png?1413623488\\'),-o-linear-gradient(#a1adb1,#8b999e,#6d7e83);background:url(\\'/images/noise.png?1413623488\\'),linear-gradient(#a1adb1,#8b999e,#6d7e83);border-top:1px solid #b4bec1;position:relative;padding-top:1em;padding-bottom:1em;margin-bottom:3em;-moz-border-radius-bottomleft:0.4em;-webkit-border-bottom-left-radius:0.4em;border-bottom-left-radius:0.4em;-moz-border-radius-bottomright:0.4em;-webkit-border-bottom-right-radius:0.4em;border-bottom-right-radius:0.4em;z-index:1}body>footer a{color:#2f3638}body>footer a:visited{color:#2f3638}body>footer a:hover{color:#000}body>footer p:last-child{margin-bottom:0}article h1,article h2,article h3,article h4,article h5,article h6{color:#b58900}\\n'\n",
      "Stream ended\n"
     ]
    },
    {
     "name": "stdout",
     "output_type": "stream",
     "text": [
      "Raw Response Data: {'Total response time': 10.143590927124023}\n"
     ]
    }
   ],
   "source": [
    "\n",
    "async def test_frame_combination(frame_sequence):\n",
    "    ssl_context = ssl.create_default_context(purpose=ssl.Purpose.SERVER_AUTH)\n",
    "    ssl_context.set_alpn_protocols([\"h2\"])\n",
    "\n",
    "    host = 'nghttp2.org'\n",
    "    port = 443\n",
    "    path = '/'  \n",
    "\n",
    "    reader, writer = await asyncio.open_connection(host, port, ssl=ssl_context)\n",
    "    \n",
    "    config = H2Configuration(client_side=True)\n",
    "    conn = H2Connection(config=config)\n",
    "    conn.initiate_connection()\n",
    "    writer.write(conn.data_to_send())\n",
    "    start_time = time.time()\n",
    "    stream_id = conn.get_next_available_stream_id()\n",
    "\n",
    "    for frame in frame_sequence:\n",
    "        if frame == \"HEADERS\":\n",
    "            headers = [\n",
    "                (':method', 'GET'),\n",
    "                (':authority', host),\n",
    "                (':scheme', 'https'),\n",
    "                (':path', path),\n",
    "            ]\n",
    "            conn.send_headers(stream_id, headers)\n",
    "        elif frame == \"SETTINGS\":\n",
    "            new_settings = {\n",
    "                SettingCodes.INITIAL_WINDOW_SIZE: 65535\n",
    "            }\n",
    "            conn.update_settings(new_settings)\n",
    "        elif frame == \"WINDOW_UPDATE\":\n",
    "            conn.increment_flow_control_window(65535)\n",
    "        \n",
    "\n",
    "        writer.write(conn.data_to_send())\n",
    "        await writer.drain()\n",
    "\n",
    "    while True:\n",
    "        data = await reader.read(4096)\n",
    "        if not data:\n",
    "            break\n",
    "\n",
    "        events = conn.receive_data(data)\n",
    "        for event in events:\n",
    "            if isinstance(event, ResponseReceived):\n",
    "                print('Response headers:', event.headers)\n",
    "            elif isinstance(event, DataReceived):\n",
    "                print('Response data:', event.data)\n",
    "            elif isinstance(event, StreamEnded):\n",
    "                print('Stream ended')\n",
    "            elif isinstance(event, WindowUpdated):\n",
    "                print('Window update frame received')\n",
    "\n",
    "    writer.close()\n",
    "    end_time = time.time()\n",
    "    await writer.wait_closed()\n",
    "    \n",
    "    response_data = {\n",
    "        \"Total response time\": end_time - start_time,\n",
    "        \n",
    "    }\n",
    "    analyze_results(\"Frame Combination Test Header, Settings, Windows_Update\", response_data)\n",
    "\n",
    "\n",
    "# Test with HEADERS, SETTINGS, and WINDOW_UPDATE frame combination\n",
    "await test_frame_combination([\"HEADERS\", \"SETTINGS\", \"WINDOW_UPDATE\"])"
   ]
  },
  {
   "cell_type": "markdown",
   "id": "646a2c85",
   "metadata": {},
   "source": [
    "# Header, Priority and Ping"
   ]
  },
  {
   "cell_type": "code",
   "execution_count": 21,
   "id": "04ae9e14",
   "metadata": {},
   "outputs": [
    {
     "name": "stdout",
     "output_type": "stream",
     "text": [
      "Response headers: [(b':status', b'200'), (b'date', b'Mon, 11 Dec 2023 02:31:10 GMT'), (b'content-type', b'text/css'), (b'last-modified', b'Fri, 27 Oct 2023 13:41:30 GMT'), (b'etag', b'\"653bbe0a-98aa\"'), (b'accept-ranges', b'bytes'), (b'content-length', b'39082'), (b'x-backend-header-rtt', b'0.001436'), (b'strict-transport-security', b'max-age=31536000'), (b'server', b'nghttpx'), (b'alt-svc', b'h3=\":443\"; ma=3600, h3-29=\":443\"; ma=3600'), (b'via', b'2 nghttpx'), (b'x-frame-options', b'SAMEORIGIN'), (b'x-xss-protection', b'1; mode=block'), (b'x-content-type-options', b'nosniff'), (b'x-http2-push', b'1')]\n",
      "Response data: b'html,body,div,span,applet,object,iframe,h1,h2,h3,h4,h5,h6,p,blockquote,pre,a,abbr,acronym,address,big,cite,code,del,dfn,em,img,ins,kbd,q,s,samp,small,strike,strong,sub,sup,tt,var,b,u,i,center,dl,dt,dd,ol,ul,li,fieldset,form,label,legend,table,caption,tbody,tfoot,thead,tr,th,td,article,aside,canvas,details,embed,figure,figcaption,footer,header,hgroup,menu,nav,output,ruby,section,summary,time,mark,audio,video{margin:0;padding:0;border:0;font:inherit;font-size:100%;vertical-align:baseline}html{line-height:1}ol,ul{list-style:none}table{border-collapse:collapse;border-spacing:0}caption,th,td{text-align:left;font-weight:normal;vertical-align:middle}q,blockquote{quotes:none}q:before,q:after,blockquote:before,blockquote:after{content:\"\";content:none}a img{border:none}article,aside,details,figcaption,figure,footer,header,hgroup,menu,nav,section,summary{display:block}a{color:#2aa198}a:visited{color:#2aa198}a:focus{color:#15e9d9}a:hover{color:#15e9d9}a:active{color:#0fa398}aside.sidebar a{color:#073642}aside.sidebar a:focus{color:#15e9d9}aside.sidebar a:hover{color:#15e9d9}aside.sidebar a:active{color:#0fa398}a{-webkit-transition:color 0.3s;-moz-transition:color 0.3s;-o-transition:color 0.3s;transition:color 0.3s}html{background:#002b36 url(\\'/images/line-tile.png?1413623488\\') top left}body>div{background:#f2f2f2 url(\\'/images/noise.png?1413623488\\') top left;border-bottom:1px solid #7d8d93}body>div>div{background:#fefcf6 url(\\'/images/noise.png?1413623488\\') top left;border-right:1px solid #e0e0e0}.heading,body>header h1,h1,h2,h3,h4,h5,h6{font-family:\"PT Serif\",\"Georgia\",\"Helvetica Neue\",Arial,sans-serif}.sans,body>header h2,article header p.meta,article>footer,#content .blog-index footer,html .gist .gist-file .gist-meta,#blog-archives a.category,#blog-archives time,aside.sidebar section,body>footer{font-family:\"PT Sans\",\"Helvetica Neue\",Arial,sans-serif}.serif,body,#content .blog-index a[rel=full-article]{font-family:\"PT Serif\",Georgia,Times,\"Times New Roman\",serif}.mono,pre,code,tt,p code,li code{font-family:Menlo,Monaco,\"Andale Mono\",\"lucida console\",\"Courier New\",monospace}body>header h1{font-size:2.2em;font-family:\"PT Serif\",\"Georgia\",\"Helvetica Neue\",Arial,sans-serif;font-weight:normal;line-height:1.2em;margin-bottom:0.6667em}body>header h2{font-family:\"PT Serif\",\"Georgia\",\"Helvetica Neue\",Arial,sans-serif}body{line-height:1.5em;color:#073642}h1{font-size:2.2em;line-height:1.2em}@media only screen and (min-width: 992px){body{font-size:1.15em}h1{font-size:2.6em;line-height:1.2em}}h1,h2,h3,h4,h5,h6{text-rendering:optimizelegibility;margin-bottom:1em;font-weight:bold}h2,section h1{font-size:1.5em}h3,section h2,section section h1{font-size:1.3em}h4,section h3,section section h2,section section section h1{font-size:1em}h5,section h4,section section h3{font-size:.9em}h6,section h5,section section h4,section section section h3{font-size:.8em}p,article blockquote,ul,ol{margin-bottom:1.5em}ul{list-style-type:disc}ul ul{list-style-type:circle;margin-bottom:0px}ul ul ul{list-style-type:square;margin-bottom:0px}ol{list-style-type:decimal}ol ol{list-style-type:lower-alpha;margin-bottom:0px}ol ol ol{list-style-type:lower-roman;margin-bottom:0px}ul,ul ul,ul ol,ol,ol ul,ol ol{margin-left:1.3em}ul ul,ul ol,ol ul,ol ol{margin-bottom:0em}strong{font-weight:bold}em{font-style:italic}sup,sub{font-size:0.75em;position:relative;display:inline-block;padding:0 .2em;line-height:.8em}sup{top:-.5em}sub{bottom:-.5em}a[rev=\\'footnote\\']{font-size:.75em;padding:0 .3em;line-height:1}q{font-style:italic}q:before{content:\"\\\\201C\"}q:after{content:\"\\\\201D\"}em,dfn{font-style:italic}strong,dfn{font-weight:bold}del,s{text-decoration:line-through}abbr,acronym{border-bottom:1px dotted;cursor:help}hr{margin-bottom:0.2em}small{font-size:.8em}big{font-size:1.2em}article blockquote{font-style:italic;position:relative;font-size:1.2em;line-height:1.5em;padding-left:1em;border-left:4px solid rgba(170,170,170,0.5)}article blockquote cite{font-style:italic}article blockquote cite a{color:#aaa !important;word-wrap:break-word}article blockquote cite:before{content:\\'\\\\2014\\';padding-right:.3em;padding-left:.3em;color:#aaa}@media only screen and (min-width: 992px){article blockquote{padding-left:1.5em;border-left-width:4px}}.pullquote-right:before,.pullquote-left:before{padding:0;border:none;content:attr(data-pullquote);float:right;width:45%;margin:.5em 0 1em 1.5em;position:relative;top:7px;font-size:1.4em;line-height:1.45em}.pullquote-left:before{float:left;margin:.5em 1.5em 1em 0}.force-wrap,article a,aside.sidebar a{white-space:-moz-pre-wrap;white-space:-pre-wrap;white-space:-o-pre-wrap;white-space:pre-wrap;word-wrap:break-word}.group,body>header,body>nav,body>footer,body #content>article,body #content>div>article,body #content>div>section,body div.pagination,aside.sidebar,#main,#content,.sidebar{*zoom:1}.group:after,body>header:after,body>nav:after,body>footer:after,body #content>article:after,body #content>div>section:after,body div.pagination:after,#main:after,#content:after,.sidebar:after{content:\"\";display:table;clear:both}body{-webkit-text-size-adjust:none;max-width:1200px;position:relative;margin:0 auto}body>header,body>nav,body>footer,body #content>article,body #content>div>article,body #content>div>section{padding-left:18px;padding-right:18px}@media only screen and (min-width: 480px){body>header,body>nav,body>footer,body #content>article,body #content>div>article,body #content>div>section{padding-left:25px;padding-right:25px}}@media only screen and (min-width: 768px){body>header,body>nav,body>footer,body #content>article,body #content>div>article,body #content>div>section{padding-left:35px;padding-right:35px}}@media only screen and (min-width: 992px){body>header,body>nav,body>footer,body #content>article,body #content>div>article,body #content>div>section{padding-left:55px;padding-right:55px}}body div.pagination{margin-left:18px;margin-right:18px}@media only screen and (min-width: 480px){body div.pagination{margin-left:25px;margin-right:25px}}@media only screen and (min-width: 768px){body div.pagination{margin-left:35px;margin-right:35px}}@media only screen and (min-width: 992px){body div.pagination{margin-left:55px;margin-right:55px}}body>header{font-size:1em;padding-top:1.5em;padding-bottom:1.5em}#content{overflow:hidden}#content>div,#content>article{width:100%}aside.sidebar{float:none;padding:0 18px 1px;background-color:#f7f7f7;border-top:1px solid #e0e0e0}.flex-content,article img,article video,article .flash-video,aside.sidebar img{max-width:100%;height:auto}.basic-alignment.left,article img.left,article video.left,article .left.flash-video,aside.sidebar img.left{float:left;margin-right:1.5em}.basic-alignment.right,article img.right,article video.right,article .right.flash-video,aside.sidebar img.right{float:right;margin-left:1.5em}.basic-alignment.center,article img.center,article video.center,article .center.flash-video,aside.sidebar img.center{display:block;margin:0 auto 1.5em}.basic-alignment.left,article img.left,article video.left,article .left.flash-video,aside.sidebar img.left,.basic-alignment.right,article img.right,article video.right,article .right.flash-video,aside.sidebar img.right{margin-bottom:.8em}.toggle-sidebar,.no-sidebar .toggle-sidebar{display:none}@media only screen and (min-width: 750px){body.sidebar-footer aside.sidebar{float:none;width:auto;clear:left;margin:0;padding:0 35px 1px;background-color:#f7f7f7;border-top:1px solid #eaeaea}body.sidebar-footer aside.sidebar section.odd,body.sidebar-footer aside.sidebar section.even{float:left;width:48%}body.sidebar-footer aside.sidebar section.odd{margin-left:0}body.sidebar-footer aside.sidebar section.even{margin-left:4%}body.sidebar-footer aside.sidebar.thirds section{width:30%;margin-left:5%}body.sidebar-footer aside.sidebar.thirds section.first{margin-left:0;clear:both}}body.sidebar-footer #content{margin-right:0px}body.sidebar-footer .toggle-sidebar{display:none}@media only screen and (min-width: 550px){body>header{font-size:1em}}@media only screen and (min-width: 750px){aside.sidebar{float:none;width:auto;clear:left;margin:0;padding:0 35px 1px;background-color:#f7f7f7;border-top:1px solid #eaeaea}aside.sidebar section.odd,aside.sidebar section.even{float:left;width:48%}aside.sidebar section.odd{margin-left:0}aside.sidebar section.even{margin-left:4%}aside.sidebar.thirds section{width:30%;margin-left:5%}aside.sidebar.thirds section.first{margin-left:0;clear:both}}@media only screen and (min-width: 768px){body{-webkit-text-size-adjust:auto}body>header{font-size:1.2em}#main{padding:0;margin:0 auto}#content{overflow:visible;margin-right:240px;position:relative}.no-sidebar #content{margin-right:0;border-right:0}.collapse-sidebar #content{margin-right:20px}#content>div,#content>article{padding-top:17.5px;padding-bottom:17.5px;float:left}aside.sidebar{width:210px;padding:0 15px 15px;background:none;clear:none;float:left;margin:0 -100% 0 0}aside.sidebar section{width:auto;margin-left:0}aside.sidebar section.odd,aside.sidebar section.even{float:none;width:auto;margin-left:0}.collapse-sidebar aside.sidebar{float:none;width:auto;clear:left;margin:0;padding:0 35px 1px;background-color:#f7f7f7;border-top:1px solid #eaeaea}.collapse-sidebar aside.sidebar section.odd,.collapse-sidebar aside.sidebar section.even{float:left;width:48%}.collapse-sidebar aside.sidebar section.odd{margin-left:0}.collapse-sidebar aside.sidebar section.even{margin-left:4%}.collapse-sidebar aside.sidebar.thirds section{width:30%;margin-left:5%}.collapse-sidebar aside.sidebar.thirds section.first{margin-left:0;clear:both}}@media only screen and (min-width: 992px){body>header{font-size:1.3em}#content{margin-right:300px}#content>div,#content>article{padding-top:27.5px;padding-bottom:27.5px}aside.sidebar{width:260px;padding:1.2em 20px 20px}.collapse-sidebar aside.sidebar{padding-left:55px;padding-right:55px}}@media only screen and (min-width: 768px){ul,ol{margin-left:0}}body>header{background:#073642}body>header h1{display:inline-block;margin:0}body>header h1 a,body>header h1 a:visited,body>header h1 a:hover{color:#b58900;text-decoration:none}body>header h2{margin:.2em 0 0;font-size:1em;color:#eee8d5;font-weight:normal}body>nav{position:relative;background-color:#8b999e;background:url(\\'/images/noise.png?1413623488\\'),-webkit-gradient(linear, 50% 0%, 50% 100%, color-stop(0%, #a1adb1), color-stop(50%, #8b999e), color-stop(100%, #6d7e83));background:url(\\'/images/noise.png?1413623488\\'),-webkit-linear-gradient(#a1adb1,#8b999e,#6d7e83);background:url(\\'/images/noise.png?1413623488\\'),-moz-linear-gradient(#a1adb1,#8b999e,#6d7e83);background:url(\\'/images/noise.png?1413623488\\'),-o-linear-gradient(#a1adb1,#8b999e,#6d7e83);background:url(\\'/images/noise.png?1413623488\\'),linear-gradient(#a1adb1,#8b999e,#6d7e83);border-top:1px solid #b4bec1;border-bottom:1px solid #4d595c;padding-top:.35em;padding-bottom:.35em}body>nav form{-webkit-background-clip:padding;-moz-background-clip:padding;background-clip:padding-box;margin:0;padding:0}body>nav form .search{padding:.3em .5em 0;font-size:.85em;font-family:\"PT Sans\",\"Helvetica Neue\",Arial,sans-serif;line-height:1.1em;width:95%;-webkit-border-radius:0.5em;-moz-border-radius:0.5em;-ms-border-radius:0.5em;-o-border-radius:0.5em;border-radius:0.5em;-webkit-background-clip:padding;-moz-background-clip:padding;background-clip:padding-box;-webkit-box-shadow:#909ea3 0 1px;-moz-box-shadow:#909ea3 0 1px;box-shadow:#909ea3 0 1px;background-color:#b4bec1;border:1px solid #708186;color:#888}body>nav form .search:focus{color:#444;border-color:#80b1df;-webkit-box-shadow:#80b1df 0 0 4px,#80b1df 0 0 3px inset;-moz-box-shadow:#80b1df 0 0 4px,#80b1df 0 0 3px inset;box-shadow:#80b1df 0 0 4px,#80b1df 0 0 3px inset;background-color:#fff;outline:none}body>nav fieldset[role=search]{float:right;width:48%}body>nav fieldset.mobile-nav{float:left;width:48%}body>nav fieldset.mobile-nav select{width:100%;font-size:.8em;border:1px solid #888}body>nav ul{display:none}@media only screen and (min-width: 550px){body>nav{font-size:.9em}body>nav ul{margin:0;padding:0;border:0;overflow:hidden;*zoom:1;float:left;display:block;padding-top:.15em}body>nav ul li{list-style-image:none;list-style-type:none;margin-left:0;white-space:nowrap;display:inline;float:left;padding-left:0;padding-right:0}body>nav ul li:first-child,body>nav ul li.first{padding-left:0}body>nav ul li:last-child{padding-right:0}body>nav ul li.last{padding-right:0}body>nav ul.subscription{margin-left:.8em;float:right}body>nav ul.subscription li:last-child a{padding-right:0}body>nav ul li{margin:0}body>nav a{color:#073642;font-family:\"PT Sans\",\"Helvetica Neue\",Arial,sans-serif;text-shadow:#acb7ba 0 1px;float:left;text-decoration:none;font-size:1.1em;padding:.1em 0;line-height:1.5em}body>nav a:visited{color:#073642}body>nav a:hover{color:#000}body>nav li+li{border-left:1px solid #6d7e83;margin-left:.8em}body>nav li+li a{padding-left:.8em;border-left:1px solid #9eaaae}body>nav form{float:right;text-align:left;padding-left:.8em;width:175px}body>nav form .search{width:93%;font-size:.95em;line-height:1.2em}body>nav ul[data-subscription$=email]+form{width:97px}body>nav ul[data-subscription$=email]+form .search{width:91%}body>nav fieldset.mobile-nav{display:none}body>nav fieldset[role=search]{width:99%}}@media only screen and (min-width: 992px){body>nav form{width:215px}body>nav ul[data-subscription$=email]+form{width:147px}}.no-placeholder body>nav .search{background:#b4bec1 url(\\'/images/search.png?1413623488\\') 0.3em 0.25em no-repeat;text-indent:1.3em}@media only screen and (min-width: 550px){.maskImage body>nav ul[data-subscription$=email]+form{width:123px}}@media only screen and (min-width: 992px){.maskImage body>nav ul[data-subscription$=email]+form{width:173px}}.maskImage ul.subscription{position:relative;top:.2em}.maskImage ul.subscription li,.maskImage ul.subscription a{border:0;padding:0}.maskImage a[rel=subscribe-rss]{position:relative;top:0px;text-indent:-999999em;background-color:#9eaaae;border:0;padding:0}.maskImage a[rel=subscribe-rss],.maskImage a[rel=subscribe-rss]:after{-webkit-mask-image:url(\\'/images/rss.png?1413623488\\');-moz-mask-image:url(\\'/images/rss.png?1413623488\\');-ms-mask-image:url(\\'/images/rss.png?1413623488\\');-o-mask-image:url(\\'/images/rss.png?1413623488\\');mask-image:url(\\'/images/rss.png?1413623488\\');-webkit-mask-repeat:no-repeat;-moz-mask-repeat:no-repeat;-ms-mask-repeat:no-repeat;-o-mask-repeat:no-repeat;mask-repeat:no-repeat;width:22px;height:22px}.maskImage a[rel=subscribe-rss]:after{content:\"\";position:absolute;top:-1px;left:0;background-color:#1394b5}.maskImage a[rel=subscribe-rss]:hover:after{background-color:#11819e}.maskImage a[rel=subscribe-email]{position:relative;top:0px;text-indent:-999999em;background-color:#9eaaae;border:0;padding:0}.maskImage a[rel=subscribe-email],.maskImage a[rel=subscribe-email]:after{-webkit-mask-image:url(\\'/images/email.png?1413623488\\');-moz-mask-image:url(\\'/images/email.png?1413623488\\');-ms-mask-image:url(\\'/images/email.png?1413623488\\');-o-mask-image:url(\\'/images/email.png?1413623488\\');mask-image:url(\\'/images/email.png?1413623488\\');-webkit-mask-repeat:no-repeat;-moz-mask-repeat:no-repeat;-ms-mask-repeat:no-repeat;-o-mask-repeat:no-repeat;mask-repeat:no-repeat;width:28px;height:22px}.maskImage a[rel=subscribe-email]:after{content:\"\";position:absolute;top:-1px;left:0;background-color:#1394b5}.maskImage a[rel=subscribe-email]:hover:after{background-color:#11819e}article{padding-top:1em}article header{position:relative;padding-top:2em;padding-bottom:1em;margin-bottom:1em;background:url(\\'data:image/png;base64,iVBORw0KGgoAAAANSUhEUgAAACgAAAABCAYAAACsXeyTAAAACXBIWXMAAAsTAAALEwEAmpwYAAAAFUlEQVQIHWNIS0sr/v//PwMMDzY+ADqMahlW4J91AAAAAElFTkSuQmCC\\') bottom left repeat-x}article header h1{margin:0}article header h1 a{text-decoration:none}article header h1 a:hover{text-decoration:underline}article header p{font-size:.9em;color:#aaa;margin:0}article header p.meta{text-transform:uppercase;position:absolute;top:0}@media only screen and (min-width: 768px){article header{margin-bottom:1.5em;padding-bottom:1em;background:url(\\'d'\n",
      "Response data: b'ata:image/png;base64,iVBORw0KGgoAAAANSUhEUgAAACgAAAABCAYAAACsXeyTAAAACXBIWXMAAAsTAAALEwEAmpwYAAAAFUlEQVQIHWNIS0sr/v//PwMMDzY+ADqMahlW4J91AAAAAElFTkSuQmCC\\') bottom left repeat-x}}article h2{padding-top:0.8em;background:url(\\'data:image/png;base64,iVBORw0KGgoAAAANSUhEUgAAACgAAAABCAYAAACsXeyTAAAACXBIWXMAAAsTAAALEwEAmpwYAAAAFUlEQVQIHWNIS0sr/v//PwMMDzY+ADqMahlW4J91AAAAAElFTkSuQmCC\\') top left repeat-x}.entry-content article h2:first-child,article header+h2{padding-top:0}article h2:first-child,article header+h2{background:none}article .feature{padding-top:.5em;margin-bottom:1em;padding-bottom:1em;background:url(\\'data:image/png;base64,iVBORw0KGgoAAAANSUhEUgAAACgAAAABCAYAAACsXeyTAAAACXBIWXMAAAsTAAALEwEAmpwYAAAAFUlEQVQIHWNIS0sr/v//PwMMDzY+ADqMahlW4J91AAAAAElFTkSuQmCC\\') bottom left repeat-x;font-size:2.0em;font-style:italic;line-height:1.3em}article img,article video,article .flash-video{-webkit-border-radius:0.3em;-moz-border-radius:0.3em;-ms-border-radius:0.3em;-o-border-radius:0.3em;border-radius:0.3em;-webkit-box-shadow:rgba(0,0,0,0.15) 0 1px 4px;-moz-box-shadow:rgba(0,0,0,0.15) 0 1px 4px;box-shadow:rgba(0,0,0,0.15) 0 1px 4px;-webkit-box-sizing:border-box;-moz-box-sizing:border-box;box-sizing:border-box;border:#fff 0.5em solid}article video,article .flash-video{margin:0 auto 1.5em}article video{display:block;width:100%}article .flash-video>div{position:relative;display:block;padding-bottom:56.25%;padding-top:1px;height:0;overflow:hidden}article .flash-video>div iframe,article .flash-video>div object,article .flash-video>div embed{position:absolute;top:0;left:0;width:100%;height:100%}article>footer{padding-bottom:2.5em;margin-top:2em}article>footer p.meta{margin-bottom:.8em;font-size:.85em;clear:both;overflow:hidden}.blog-index article+article{background:url(\\'data:image/png;base64,iVBORw0KGgoAAAANSUhEUgAAACgAAAABCAYAAACsXeyTAAAACXBIWXMAAAsTAAALEwEAmpwYAAAAFUlEQVQIHWNIS0sr/v//PwMMDzY+ADqMahlW4J91AAAAAElFTkSuQmCC\\') top left repeat-x}#content .blog-index{padding-top:0;padding-bottom:0}#content .blog-index article{padding-top:2em}#content .blog-index article header{background:none;padding-bottom:0}#content .blog-index article h1{font-size:2.2em}#content .blog-index article h1 a{color:inherit}#content .blog-index article h1 a:hover{color:#15e9d9}#content .blog-index a[rel=full-article]{background:#fdf4de;display:inline-block;padding:.4em .8em;margin-right:.5em;text-decoration:none;color:#587076;-webkit-transition:background-color 0.5s;-moz-transition:background-color 0.5s;-o-transition:background-color 0.5s;transition:background-color 0.5s}#content .blog-index a[rel=full-article]:hover{background:#15e9d9;text-shadow:none;color:#fefcf6}#content .blog-index footer{margin-top:1em}.separator,article>footer .byline+time:before,article>footer time+time:before,article>footer .comments:before,article>footer .byline ~ .categories:before{content:\"\\\\2022 \";padding:0 .4em 0 .2em;display:inline-block}#content div.pagination{text-align:center;font-size:.95em;position:relative;background:url(\\'data:image/png;base64,iVBORw0KGgoAAAANSUhEUgAAACgAAAABCAYAAACsXeyTAAAACXBIWXMAAAsTAAALEwEAmpwYAAAAFUlEQVQIHWNIS0sr/v//PwMMDzY+ADqMahlW4J91AAAAAElFTkSuQmCC\\') top left repeat-x;padding-top:1.5em;padding-bottom:1.5em}#content div.pagination a{text-decoration:none;color:#aaa}#content div.pagination a.prev{position:absolute;left:0}#content div.pagination a.next{position:absolute;right:0}#content div.pagination a:hover{color:#15e9d9}#content div.pagination a[href*=archive]:before,#content div.pagination a[href*=archive]:after{content:\\'\\\\2014\\';padding:0 .3em}p.meta+.sharing{padding-top:1em;padding-left:0;background:url(\\'data:image/png;base64,iVBORw0KGgoAAAANSUhEUgAAACgAAAABCAYAAACsXeyTAAAACXBIWXMAAAsTAAALEwEAmpwYAAAAFUlEQVQIHWNIS0sr/v//PwMMDzY+ADqMahlW4J91AAAAAElFTkSuQmCC\\') top left repeat-x}#fb-root{display:none}.highlight,html .gist .gist-file .gist-syntax .gist-highlight{border:1px solid #e7dec3 !important}.highlight table td.code,html .gist .gist-file .gist-syntax .gist-highlight table td.code{width:100%}.highlight .line-numbers,html .gist .gist-file .gist-syntax .highlight .line_numbers{text-align:right;font-size:13px;line-height:1.45em;background:#fdf8e8 url(\\'/images/noise.png?1413623488\\') top left !important;'\n",
      "Response data: b'border-right:1px solid #ebe4ce !important;-webkit-box-shadow:#fef9ed -1px 0 inset;-moz-box-shadow:#fef9ed -1px 0 inset;box-shadow:#fef9ed -1px 0 inset;text-shadow:#f1ecdc 0 -1px;padding:.8em !important;-webkit-border-radius:0;-moz-border-radius:0;-ms-border-radius:0;-o-border-radius:0;border-radius:0}.highlight .line-numbers span,html .gist .gist-file .gist-syntax .highlight .line_numbers span{color:#93a1a1 !important}figure.code,.gist-file,pre{-webkit-box-shadow:rgba(0,0,0,0.06) 0 0 10px;-moz-box-shadow:rgba(0,0,0,0.06) 0 0 10px;box-shadow:rgba(0,0,0,0.06) 0 0 10px}figure.code .highlight pre,.gist-file .highlight pre,pre .highlight pre{-webkit-box-shadow:none;-moz-box-shadow:none;box-shadow:none}.gist .highlight *::-moz-selection,figure.code .highlight *::-moz-selection{background:#fff;color:inherit;text-shadow:#fdf6e3 0 1px}.gist .highlight *::-webkit-selection,figure.code .highlight *::-webkit-selection{background:#fff;color:inherit;text-shadow:#fdf6e3 0 1px}.gist .highlight *::selection,figure.code .highlight *::selection{background:#fff;color:inherit;text-shadow:#fdf6e3 0 1px}html .gist .gist-file{margin-bottom:1.8em;position:relative;border:none;padding-top:26px !important}html .gist .gist-file .highlight{margin-bottom:0}html .gist .gist-file .gist-syntax{border-bottom:0 !important;background:none !important}html .gist .gist-file .gist-syntax .gist-highlight{background:#fdf6e3 !important}html .gist .gist-file .gist-syntax .highlight pre{padding:0}html .gist .gist-file .gist-meta{padding:.6em 0.8em;border:1px solid #f1ecdc !important;color:#93a1a1;font-size:.7em !important;background:#fef9ed url(\\'/images/noise.png?1413623488\\') top left;border:1px solid #e7dec3 !important;border-top:1px solid #fef9ed !important;line-height:1.5em}html .gist .gist-file .gist-meta a{color:#75878b !important;text-decoration:none}html .gist .gist-file .gist-meta a:hover{text-decoration:underline}html .gist .gist-file .gist-meta a:hover{color:#586e75 !important}html .gist .gist-file .gist-meta a[href*=\\'#file\\']{position:absolute;top:0;left:0;right:-10px;color:#474747 !important}html .gist .gist-file .gist-meta a[href*=\\'#file\\']:hover{color:#2aa198 !important}html .gist .gist-file .gist-meta a[href*=raw]{top:.4em}pre{background:#fdf6e3 url(\\'/images/noise.png?1413623488\\') top left;-webkit-border-radius:0.4em;-moz-border-radius:0.4em;-ms-border-radius:0.4em;-o-border-radius:0.4em;border-radius:0.4em;border:1px solid #e7dec3;line-height:1.45em;font-size:13px;margin-bottom:2.1em;padding:.8em 1em;color:#586e75;overflow:auto}h3.filename+pre{-moz-border-radius-topleft:0px;-webkit-border-top-left-radius:0px;border-top-left-radius:0px;-moz-border-radius-topright:0px;-webkit-border-top-right-radius:0px;border-top-right-radius:0px}p code,li code{display:inline-block;white-space:no-wrap;background:#fff;font-size:.8em;line-height:1.5em;color:#555;border:1px solid #ddd;-webkit-border-radius:0.4em;-moz-border-radius:0.4em;-ms-border-radius:0.4em;-o-border-radius:0.4em;border-radius:0.4em;padding:0 .3em;margin:-1px 0}p pre code,li pre code{font-size:1em !important;background:none;border:none}.pre-code,html .gist .gist-file .gist-syntax .highlight pre,.highlight code{font-family:Menlo,Monaco,\"Andale Mono\",\"lucida console\",\"Courier New\",monospace !important;overflow:scroll;overflow-y:hidden;display:block;padding:.8em;overflow-x:auto;line-height:1.45em;background:#fdf6e3 url(\\'/images/noise.png?1413623488\\') top left !important;color:#586e75 !important}.pre-code span,html .gist .gist-file .gist-syntax .highlight pre span,.highlight code span{color:#586e75 !important}.pre-code span,html .gist .gist-file .gist-syntax .highlight pre span,.highlight code span{font-style:normal !important;font-weight:normal !important}.pre-code .c,html .gist .gist-file .gist-syntax .highlight pre .c,.highlight code .c{color:#93a1a1 !important;font-style:italic !important}.pre-code .cm,html .gist .gist-file .gist-syntax .highlight pre .cm,.highlight code .cm{color:#93a1a1 !important;font-style:italic !important}.pre-code .cp,html .gist .gist-file .gist-syntax .highlight pre .cp,.highlight code .cp{color:#93a1a1 !important;font-style:italic !important}.pre-code .c1,html .gist .gist-file .gist-syntax .highlight pre .c1,.highlight code .c1{color:#93a1a1 !important;font-style:italic !important}.pre-code .cs,html .gist .gist-file .gist-syntax .highlight pre .cs,.highlight code .cs{color:#93a1a1 !important;font-weight:bold !important;font-style:italic !important}.pre-code .err,html .gist .gist-file .gist-syntax .highlight pre .err,.highlight code .err{color:#dc322f !important;background:none !important}.pre-code .k,html .gist .gist-file .gist-syntax .highlight pre .k,.highlight code .k{color:#cb4b16 !important}.pre-code .o,html .gist .gist-file .gist-syntax .highlight pre .o,.highlight code .o{color:#586e75 !important;font-weight:bold !important}.pre-code .p,html .gist .gist-file .gist-syntax .highlight pre .p,.highlight code .p{color:#586e75 !important}.pre-code .ow,html .gist .gist-file .gist-syntax .highlight pre .ow,.highlight code .ow{color:#2aa198 !important;font-weight:bold !important}.pre-code .gd,html .gist .gist-file .gist-syntax .highlight pre .gd,.highlight code .gd{color:#586e75 !important;background-color:#f4c5b6 !important;display:inline-block}.pre-code .gd .x,html .gist .gist-file .gist-syntax .highlight pre .gd .x,.highlight code .gd .x{color:#586e75 !important;background-color:#f1b1a4 !important;display:inline-block}.pre-code .ge,html .gist .gist-file .gist-syntax .highlight pre .ge,.highlight code .ge{color:#586e75 !important;font-style:italic !important}.pre-code .gh,html .gist .gist-file .gist-syntax .highl'\n",
      "Response data: b'ight pre .gh,.highlight code .gh{color:#93a1a1 !important}.pre-code .gi,html .gist .gist-file .gist-syntax .highlight pre .gi,.highlight code .gi{color:#586e75 !important;background-color:#e5e3b5 !important;display:inline-block}.pre-code .gi .x,html .gist .gist-file .gist-syntax .highlight pre .gi .x,.highlight code .gi .x{color:#586e75 !important;background-color:#cdd088 !important;display:inline-block}.pre-code .gs,html .gist .gist-file .gist-syntax .highlight pre .gs,.highlight code .gs{color:#586e75 !important;font-weight:bold !important}.pre-code .gu,html .gist .gist-file .gist-syntax .highlight pre .gu,.highlight code .gu{color:#6c71c4 !important}.pre-code .kc,html .gist .gist-file .gist-syntax .highlight pre .kc,.highlight code .kc{color:#859900 !important;font-weight:bold !important}.pre-code .kd,html .gist .gist-file .gist-syntax .highlight pre .kd,.highlight code .kd{color:#268bd2 !important}.pre-code .kp,html .gist .gist-file .gist-syntax .highlight pre .kp,.highlight code .kp{color:#cb4b16 !important;font-weight:bold !important}.pre-code .kr,html .gist .gist-file .gist-syntax .highlight pre .kr,.highlight code .kr{color:#d33682 !important;font-weight:bold !important}.pre-code .kt,html .gist .gist-file .gist-syntax .highlight pre .kt,.highlight code .kt{color:#2aa198 !important}.pre-code .n,html .gist .gist-file .gist-syntax .highlight pre .n,.highlight code .n{color:#268bd2 !important}.pre-code .na,html .gist .gist-file .gist-syntax .highlight pre .na,.highlight code .na{color:#268bd2 !important}.pre-code .nb,html .gist .gist-file .gist-syntax .highlight pre .nb,.highlight code .nb{color:#859900 !important}.pre-code .nc,html .gist .gist-file .gist-syntax .highlight pre .nc,.highlight code .nc{color:#d33682 !important}.pre-code .no,html .gist .gist-file .gist-syntax .highlight pre .no,.highlight code .no{color:#b58900 !important}.pre-code .nl,html .gist .gist-file .gist-syntax .highlight pre .nl,.highlight code .nl{color:#859900 !important}.pre-code .ne,html .gist .gist-file .gist-syntax .highlight pre .ne,.highlight code .ne{color:#268bd2 !important;font-weight:bold !important}.pre-code .nf,html .gist .gist-file .gist-syntax .highlight pre .nf,.highlight code .nf{color:#268bd2 !important;font-weight:bold !important}.pre-code .nn,html .gist .gist-file .gist-syntax .highlight pre .nn,.highlight code .nn{color:#b58900 !important}.pre-code .nt,html .gist .gist-file .gist-syntax .highlight pre .nt,.highlight code .nt{color:#268bd2 !important;font-weight:bold !important}.pre-code .nx,html .gist .gist-file .gist-syntax .highlight pre .nx,.highlight code .nx{color:#b58900 !important}.pre-code .vg,html .gist .gist-file .gist-syntax .highlight pre .vg,.highlight code .vg{color:#268bd2 !important}.pre-code .vi,html .gist .gist-file .gist-syntax .highlight pre .vi,.highlight code .vi{color:#268bd2 !important}.pre-code .nv,html .gist .gist-file .gist-syntax .highlight pre .nv,.highlight code .nv{color:#268bd2 !important}.pre-code .mf,html .gist .gist-file .gist-syntax .highlight pre .mf,.highlight code .mf{color:#2aa198 !important}.pre-code .m,html .gist .gist-file .gist-syntax .highlight pre .m,.highlight code .m{color:#2aa198 !important}.pre-code .mh,html .gist .gist-file .gist-syntax .highlight pre .mh,.highlight code .mh{color:#2aa198 !important}.pre-code .mi,html .gist .gist-file .gist-syntax .highlight pre .mi,.highlight code .mi{color:#2aa198 !important}.pre-code .s,html .gist .gist-file .gist-syntax .highlight pre .s,.highlight code .s{color:#2aa198 !important}.pre-code .sd,html .gist .gist-file .gist-syntax .highlight pre .sd,.highlight code .sd{color:#2aa198 !important}.pre-code .s2,html .gist .gist-file .gist-syntax .highlight pre .s2,.highlight code .s2{color:#2aa198 !important}.pre-code .se,html .gist .gist-file .gist-syntax .highlight pre .se,.highlight code .se{color:#dc322f !important}.pre-code .si,html .gist .gist-file .gist-syntax .highlight pre .si,.highlight code .si{color:#268bd2 !important}.pre-code .sr,html .gist .gist-file .gist-syntax .highlight pre .sr,.highlight code .sr{color:#2aa198 !important}.pre-code .s1,html .gist .gist-file .gist-syntax .highlight pre .s1,.highlight code .s1{color:#2aa198 !important}.pre-code div .gd,html .gist .gist-file .gist-syntax .highlight pre div .gd,.highlight code div .gd,.pre-code div .gd .x,html .gist .gist-file .gist-syntax .highlight pre div .gd .x,.highlight code div .gd .x,.pre-code div .gi,html .gist .gist-file .gist-syntax .highlight pre div .gi,.highlight code div .gi,.pre-code div .gi .x,html .gist .gist-file .gist-syntax .highlight pre div .gi .x,.highlight code div .gi .x{display:inline-block;width:100%}.highlight,.gist-highlight{margin-bottom:1.8em;background:#fdf6e3;overflow-y:hidden;overflow-x:auto}.highlight pre,.gist-highlight pre{background:none;-webkit-border-radius:0px;-moz-border-radius:0px;-ms-border-radius:0px;-o-border-radius:0px;border-radius:0px;border:none;padding:0;margin-bottom:0}pre::-webkit-scrollbar,.highlight::-webkit-scrollbar,.gist-highlight::-webkit-scrollbar{height:.5em;background:rgba(0,0,0,0.15)}pre::-webkit-scrollbar-thumb:horizontal,.highlight::-webkit-scrollbar-thumb:horizontal,.gist-highlight::-webkit-scrollbar-thumb:horizontal{background:rgba(0,0,0,0.15);-webkit-border-radius:4px;border-radius:4px}.highlight code{background:#000}figure.code{background:none;padding:0;border:0;margin-bottom:1.5em}figure.code pre{margin-bottom:0}figure.code figcaption{position:relative}figure.code .highlight{margin-bottom:0}.code-title,html .gist .gist-file .gist-meta a[href*=\\'#file\\'],h3.filename,figure.code figcaption{text-align:center;font-size:13px;line-height:2em;text-shadow:#cbcccc 0 1px 0;color:#474747;font-weight:normal;margin-bottom:0;-moz-border-radius-topleft:5px;-webkit-border-top-left-radius:5px;border-top-left-radius:5px;-moz-border-radius-topright:5px;-webkit-border-top-right-radius:5px;border-top-right-radius:5px;font-family:\"Helvetica Neue\", Arial, \"Lucida Grande\", \"Lucida Sans Unicode\", Lucida, sans-serif;background:#aaa url(\\'/images/code_bg.png?1413623488\\') top repeat-x;border:1px solid #565656;border-top-color:#cbcbcb;border-left-color:#a5a5a5;border-right-color:#a5a5a5;border-bottom:0}.download-source,html .gist .gist-file .gist-meta a[href*=raw],figure.code figcaption a{position:absolute;right:.8em;text-decoration:none;color:#666 !important;z-index:1;font-size:13px;text-shadow:#cbcccc 0 1px 0;padding-left:3em}.download-source:hover,html .gist .gist-file .gist-meta a[href*=raw]:hover,figure.code figcaption a:hover{text-decoration:underline}#archive #content>div,#archive #content>div>article{padding-top:0}#blog-archives{color:#aaa}#blog-archives article{padding:1em 0 1em;position:relative;background:url(\\'data:image/png;base64,iVBORw0KGgoAAAANSUhEUgAAACgAAAABCAYAAACsXeyTAAAACXBIWXMAAAsTAAALEwEAmpwYAAAAFUlEQVQIHWNIS0sr/v//PwMMDzY+ADqMahlW4J91AAAAAElFTkSuQmCC\\') bottom left repeat-x}#blog-archives article:last-child{background:none}#blog-archives article footer{padding:0;margin:0}#blog-archives h1{color:#073642;margin-bottom:.3em}#blog-archives h2{display:none}#blog-archives h1{font-size:1.5em}#blog-archives h1 a{text-decoration:none;color:inherit;font-weight:normal;display:inline-block}#blog-archives h1 a:hover{text-decoration:underline}#blog-archives h1 a:hover{color:#15e9d9}#blog-archives a.category,#blog-archives time{color:#aaa}#blog-archives .entry-content{display:none}#blog-archives time{font-size:.9em;line-height:1.2em}#blog-archives time .month,#blog-archives time .day{display:inline-block}#blog-archives time .month{text-transform:uppercase}#blog-archives p{margin-bottom:1em}#blog-archives a,#blog-archives .entry-content a{color:inherit}#blog-archives a:hover,#blog-archives .entry-content a:hover{color:#15e9d9}#blog-archives a:hover{color:#15e9d9}@media only screen and (min-width: 550px){#blog-archives article{margin-left:5em}#blog-archives h2{margin-bottom:.3em;font-weight:normal;display:inline-block;position:relative;top:-1px;float:left}#blog-archives h2:first-child{padding-top:.75em}#blog-archives time{position:absolute;text-align:right;left:0em;top:1.8em}#blog-archives .year{display:none}#blog-archives article{padding-left:4.5em;padding-bottom:.7em}#blog-archives a.category{line-height:1.1em}}#content>.category article{margin-left:0;padding-left:6.8em}#content>.category .year{display:inline}.side-shadow-border,aside.sidebar section h1,aside.sidebar li{-webkit-box-shadow:#fff 0 1px;-moz-box-shadow:#fff 0 1px;box-shadow:#fff 0 1px}aside.sidebar{overflow:hidden;color:#4d4d4d;text-shadow:#fff 0 1px}aside.sidebar section{font-size:.8em;line-height:1.4em;margin-bottom:1.5em}aside.sidebar section h1{margin:1.5em 0 0;padding-bottom:.2em;border-bottom:1px solid #e0e0e0}aside.sidebar section h1+p{padding-top:.4em}aside.sidebar img{-webkit-border-radius:0.3em;-moz-border-radius:0.3em;-ms-border-radius:0.3em;-o-border-radius:0.3em;border-radius:0.3em;-webkit-box-shadow:rgba(0,0,0,0.15) 0 1px 4px;-moz-box-shadow:rgba(0,0,0,0.15) 0 1px 4px;box-shadow:rgba(0,0,0,0.15) 0 1px 4px;-webkit-box-sizing:border-box;-moz-box-sizing:border-box;box-sizing:border-box;border:#fff 0.3em solid}aside.sidebar ul{margin-bottom:0.5em;margin-left:0}aside.sidebar li{list-style:none;padding:.5em 0;margin:0;border-bottom:1px solid #e0e0e0}aside.sidebar li p:last-child{margin-bottom:0}aside.sidebar a{color:inherit;-webkit-transition:color 0.5s;-moz-transition:color 0.5s;-o-transition:color 0.5s;transition:color 0.5s}aside.sidebar:hover a{color:#073642}aside.sidebar:hover a:hover{color:#15e9d9}.aside-alt-link,#pinboard_linkroll .pin-tag{color:gray}.aside-alt-link:hover,#pinboard_linkroll .pin-tag:hover{color:#15e9d9}@media only screen and (min-width: 768px){.toggle-sidebar{outline:none;position:absolute;right:-10px;top:0;bottom:0;display:inline-block;text-decoration:none;color:#cecece;width:9px;cursor:pointer}.toggle-sidebar:hover{background:#e9e9e9;background:-webkit-gradient(linear, 0% 50%, 100% 50%, color-stop(0%, rgba(224,224,224,0.5)), color-stop(100%, rgba(224,224,224,0)));background:-webkit-linear-gradient(left, rgba(224,224,224,0.5),rgba(224,224,224,0));background:-moz-linear-gradient(left, rgba(224,224,224,0.5),rgba(224,224,224,0));background:-o-linear-gradient(left, rgba(224,224,224,0.5),rgba(224,224,224,0));background:linear-gradient(left, rgba(224,224,224,0.5),rgba(224,224,224,0))}.toggle-sidebar:after{position:absolute;right:-11px;top:0;width:20px;font-size:1.2em;line-height:1.1em;padding-bottom:.15em;-moz-border-radius-bottomright:0.3em;-webkit-border-bottom-right-radius:0.3em;border-bottom-right-radius:0.3em;text-align:center;background:#fefcf6 url(\\'/images/noise.png?1413623488\\') top left;border-bottom:1px solid #e0e0e0;border-right:1px solid #e0e0e0;content:\"\\\\00BB\";text-indent:-1px}.collapse-sidebar .toggle-sidebar{text-indent:0px;right:-20px;width:19px}.collapse-sidebar .toggle-sidebar:hover{background:#e9e9e9}.collapse-sidebar .toggle-sidebar:after{border-left:1px solid #e0e0e0;text-shadow:#fff 0 1px;content:\"\\\\00AB\";left:0px;right:0;text-align:center;text-indent:0;border:0;border-right-width:0;background:none}}.googleplus h1{-moz-box-shadow:none !important;-webkit-box-shadow:none !important;-o-box-shadow:none !important;box-shadow:none !important;border-bottom:0px none !important}.googleplus a{text-decoration:none;white-space:norm'\n",
      "Response data: b\"al !important;line-height:32px}.googleplus a img{float:left;margin-right:0.5em;border:0 none}.googleplus-hidden{position:absolute;top:-1000em;left:-1000em}#pinboard_linkroll .pin-title,#pinboard_linkroll .pin-description{display:block;margin-bottom:.5em}#pinboard_linkroll .pin-tag{text-decoration:none}#pinboard_linkroll .pin-tag:hover{text-decoration:underline}#pinboard_linkroll .pin-tag:after{content:','}#pinboard_linkroll .pin-tag:last-child:after{content:''}.delicious-posts a.delicious-link{margin-bottom:.5em;display:block}.delicious-posts p{font-size:1em}body>footer{font-size:.8em;color:#073642;text-shadow:#99a6aa 0 1px;background-color:#8b999e;background:url('/images/noise.png?1413623488'),-webkit-gradient(linear, 50% 0%, 50% 100%, color-stop(0%, #a1adb1), color-stop(50%, #8b999e), color-stop(100%, #6d7e83));background:url('/images/noise.png?1413623488'),-webkit-linear-gradient(#a1adb1,#8b999e,#6d7e83);background:url('/images/noise.png?1413623488'),-moz-linear-gradient(#a1adb1,#8b999e,#6d7e83);background:url('/images/noise.png?1413623488'),-o-linear-gradient(#a1adb1,#8b999e,#6d7e83);background:url('/images/noise.png?1413623488'),linear-gradient(#a1adb1,#8b999e,#6d7e83);border-top:1px solid #b4bec1;position:relative;padding-top:1em;padding-bottom:1em;margin-bottom:3em;-moz-border-radius-bottomleft:0.4em;-webkit-border-bottom-left-radius:0.4em;border-bottom-left-radius:0.4em;-moz-border-radius-bottomright:0.4em;-webkit-border-bottom-right-radius:0.4em;border-bottom-right-radius:0.4em;z-index:1}body>footer a{color:#2f3638}body>footer a:visited{color:#2f3638}body>footer a:hover{color:#000}body>footer p:last-child{margin-bottom:0}article h1,article h2,article h3,article h4,article h5,article h6{color:#b58900}\\n\"\n",
      "Stream ended\n"
     ]
    },
    {
     "name": "stdout",
     "output_type": "stream",
     "text": [
      "Raw Response Data: {'Total response time': 10.14760971069336}\n"
     ]
    }
   ],
   "source": [
    "\n",
    "async def test_frame_combination(frame_sequence):\n",
    "    ssl_context = ssl.create_default_context(purpose=ssl.Purpose.SERVER_AUTH)\n",
    "    ssl_context.set_alpn_protocols([\"h2\"])\n",
    "\n",
    "    host = 'nghttp2.org'\n",
    "    port = 443\n",
    "    path = '/'  \n",
    "\n",
    "    reader, writer = await asyncio.open_connection(host, port, ssl=ssl_context)\n",
    "    \n",
    "    config = H2Configuration(client_side=True)\n",
    "    conn = H2Connection(config=config)\n",
    "    conn.initiate_connection()\n",
    "    writer.write(conn.data_to_send())\n",
    "    start_time = time.time()\n",
    "    stream_id = conn.get_next_available_stream_id()\n",
    "\n",
    "    for frame in frame_sequence:\n",
    "        if frame == \"HEADERS\":\n",
    "            headers = [\n",
    "                (':method', 'GET'),\n",
    "                (':authority', host),\n",
    "                (':scheme', 'https'),\n",
    "                (':path', path),\n",
    "            ]\n",
    "            conn.send_headers(stream_id, headers)\n",
    "        elif frame == \"PRIORITY\":\n",
    "            try:\n",
    "                conn.prioritize(stream_id, weight=256, depends_on=0, exclusive=False)\n",
    "            except ProtocolError as e:\n",
    "                print(f\"Protocol Error: {e}\")\n",
    "        elif frame == \"PING\":\n",
    "            conn.ping(b'12345678')\n",
    "        \n",
    "        writer.write(conn.data_to_send())\n",
    "        await writer.drain()\n",
    "\n",
    "    while True:\n",
    "        data = await reader.read(4096)\n",
    "        if not data:\n",
    "            break\n",
    "\n",
    "        events = conn.receive_data(data)\n",
    "        for event in events:\n",
    "            if isinstance(event, ResponseReceived):\n",
    "                print('Response headers:', event.headers)\n",
    "            elif isinstance(event, DataReceived):\n",
    "                print('Response data:', event.data)\n",
    "            elif isinstance(event, StreamEnded):\n",
    "                print('Stream ended')\n",
    "            elif isinstance(event, PingReceived):\n",
    "                print('Ping received')\n",
    "                \n",
    "    end_time = time.time()\n",
    "    writer.close()\n",
    "    await writer.wait_closed()\n",
    "    \n",
    "    response_data = {\n",
    "        \"Total response time\": end_time - start_time,\n",
    "        \n",
    "    }\n",
    "    analyze_results(\"Frame Combination Test Header, Priority, Ping\", response_data)\n",
    "\n",
    "\n",
    "# Test with HEADERS, PRIORITY, and PING frame combination\n",
    "await test_frame_combination([\"HEADERS\", \"PRIORITY\", \"PING\"])"
   ]
  },
  {
   "cell_type": "code",
   "execution_count": 22,
   "id": "3bbe04f2",
   "metadata": {
    "scrolled": true
   },
   "outputs": [
    {
     "name": "stdout",
     "output_type": "stream",
     "text": [
      "\n",
      "Results for Headers Frame Test:\n",
      "Total response time: 10.468260765075684\n",
      "Total data received: 45406\n",
      "\n",
      "Results for Data Frame Test:\n",
      "Total response time: 10.146790742874146\n",
      "Total data received: 0\n",
      "\n",
      "Results for Settings Frame Test:\n",
      "Total time for settings acknowledgment: 0.28667449951171875\n",
      "\n",
      "Results for Window_Update Frame Test:\n",
      "Total time for window update handling: 10.143510580062866\n",
      "\n",
      "Results for GoAway Frame Test:\n",
      "Total time until connection termination: 0.4985079765319824\n",
      "\n",
      "Results for Frame Combination Test Header, Setting, Data:\n",
      "Total response time: 10.152052402496338\n",
      "\n",
      "Results for Frame Combination Test Header, Data:\n",
      "Total response time: 10.14429235458374\n",
      "\n",
      "Results for Frame Combination Test Header, Settings, Windows_Update:\n",
      "Total response time: 10.143590927124023\n",
      "\n",
      "Results for Frame Combination Test Header, Priority, Ping:\n",
      "Total response time: 10.14760971069336\n"
     ]
    }
   ],
   "source": [
    "# Printing each test result\n",
    "for result in analysis_results:\n",
    "    print(f\"\\nResults for {result['Test Name']}:\")\n",
    "    for key, value in result['Response'].items():\n",
    "        print(f\"{key}: {value}\")\n"
   ]
  },
  {
   "cell_type": "code",
   "execution_count": 23,
   "id": "dd2bf924",
   "metadata": {},
   "outputs": [],
   "source": [
    "# Convert analysis_results to DataFrame\n",
    "df_results = pd.DataFrame(analysis_results)"
   ]
  },
  {
   "cell_type": "code",
   "execution_count": 24,
   "id": "17b4e65c",
   "metadata": {},
   "outputs": [
    {
     "name": "stdout",
     "output_type": "stream",
     "text": [
      "                                           Test Name  \\\n",
      "0                                 Headers Frame Test   \n",
      "1                                    Data Frame Test   \n",
      "2                                Settings Frame Test   \n",
      "3                           Window_Update Frame Test   \n",
      "4                                  GoAway Frame Test   \n",
      "5       Frame Combination Test Header, Setting, Data   \n",
      "6                Frame Combination Test Header, Data   \n",
      "7  Frame Combination Test Header, Settings, Windo...   \n",
      "8      Frame Combination Test Header, Priority, Ping   \n",
      "\n",
      "                                            Response  Total response time  \\\n",
      "0  {'Total response time': 10.468260765075684, 'T...            10.468261   \n",
      "1  {'Total response time': 10.146790742874146, 'T...            10.146791   \n",
      "2  {'Total time for settings acknowledgment': 0.2...             0.000000   \n",
      "3  {'Total time for window update handling': 10.1...             0.000000   \n",
      "4  {'Total time until connection termination': 0....             0.000000   \n",
      "5        {'Total response time': 10.152052402496338}            10.152052   \n",
      "6         {'Total response time': 10.14429235458374}            10.144292   \n",
      "7        {'Total response time': 10.143590927124023}            10.143591   \n",
      "8         {'Total response time': 10.14760971069336}            10.147610   \n",
      "\n",
      "   Total data received  Total time for settings acknowledgment  \\\n",
      "0                45406                                0.000000   \n",
      "1                    0                                0.000000   \n",
      "2                    0                                0.286674   \n",
      "3                    0                                0.000000   \n",
      "4                    0                                0.000000   \n",
      "5                    0                                0.000000   \n",
      "6                    0                                0.000000   \n",
      "7                    0                                0.000000   \n",
      "8                    0                                0.000000   \n",
      "\n",
      "   Total time for window update handling  \\\n",
      "0                               0.000000   \n",
      "1                               0.000000   \n",
      "2                               0.000000   \n",
      "3                              10.143511   \n",
      "4                               0.000000   \n",
      "5                               0.000000   \n",
      "6                               0.000000   \n",
      "7                               0.000000   \n",
      "8                               0.000000   \n",
      "\n",
      "   Total time until connection termination  \n",
      "0                                 0.000000  \n",
      "1                                 0.000000  \n",
      "2                                 0.000000  \n",
      "3                                 0.000000  \n",
      "4                                 0.498508  \n",
      "5                                 0.000000  \n",
      "6                                 0.000000  \n",
      "7                                 0.000000  \n",
      "8                                 0.000000  \n"
     ]
    }
   ],
   "source": [
    "# Extract specific metrics into separate columns\n",
    "for metric in ['Total response time', 'Total data received', 'Total time for settings acknowledgment', \n",
    "               'Total time for window update handling', 'Total time until connection termination']:\n",
    "    df_results[metric] = df_results['Response'].apply(lambda x: x.get(metric, 0))\n",
    "\n",
    "# Display the DataFrame for verification\n",
    "print(df_results)"
   ]
  },
  {
   "cell_type": "code",
   "execution_count": null,
   "id": "4dc72da6",
   "metadata": {},
   "outputs": [],
   "source": []
  }
 ],
 "metadata": {
  "kernelspec": {
   "display_name": "Python 3 (ipykernel)",
   "language": "python",
   "name": "python3"
  },
  "language_info": {
   "codemirror_mode": {
    "name": "ipython",
    "version": 3
   },
   "file_extension": ".py",
   "mimetype": "text/x-python",
   "name": "python",
   "nbconvert_exporter": "python",
   "pygments_lexer": "ipython3",
   "version": "3.10.13"
  }
 },
 "nbformat": 4,
 "nbformat_minor": 5
}
